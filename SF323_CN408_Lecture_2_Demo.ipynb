{
  "nbformat": 4,
  "nbformat_minor": 0,
  "metadata": {
    "colab": {
      "provenance": [],
      "authorship_tag": "ABX9TyOJAwQD3FhdMj6mYNToJH98",
      "include_colab_link": true
    },
    "kernelspec": {
      "name": "python3",
      "display_name": "Python 3"
    },
    "language_info": {
      "name": "python"
    }
  },
  "cells": [
    {
      "cell_type": "markdown",
      "metadata": {
        "id": "view-in-github",
        "colab_type": "text"
      },
      "source": [
        "<a href=\"https://colab.research.google.com/github/yongsa-nut/SF323_CN408_AIEngineer/blob/main/SF323_CN408_Lecture_2_Demo.ipynb\" target=\"_parent\"><img src=\"https://colab.research.google.com/assets/colab-badge.svg\" alt=\"Open In Colab\"/></a>"
      ]
    },
    {
      "cell_type": "markdown",
      "source": [
        "# Lecture 2 Demo"
      ],
      "metadata": {
        "id": "TXy44Rl2sO01"
      }
    },
    {
      "cell_type": "markdown",
      "source": [
        "## OpenRouter Demo\n",
        "\n",
        "Kimi K2 https://openrouter.ai/moonshotai/kimi-k2"
      ],
      "metadata": {
        "id": "DPrkog29vtNf"
      }
    },
    {
      "cell_type": "code",
      "source": [
        "from openai import OpenAI\n",
        "from google.colab import userdata\n",
        "\n",
        "client = OpenAI(\n",
        "  base_url=\"https://openrouter.ai/api/v1\",\n",
        "  api_key=userdata.get('openrouter'),\n",
        ")\n",
        "\n",
        "completion = client.chat.completions.create(\n",
        "  model=\"moonshotai/kimi-k2\",\n",
        "  messages=[\n",
        "    {\n",
        "      \"role\": \"user\",\n",
        "      \"content\": \"Hello\"\n",
        "    }\n",
        "  ]\n",
        ")\n",
        "print(completion)"
      ],
      "metadata": {
        "id": "lxe_kFnXvuog"
      },
      "execution_count": null,
      "outputs": []
    },
    {
      "cell_type": "code",
      "source": [
        "print(completion.choices[0].message.content)"
      ],
      "metadata": {
        "id": "yyXSqy-5wrV5"
      },
      "execution_count": null,
      "outputs": []
    },
    {
      "cell_type": "markdown",
      "source": [
        "## Google Vertex Demo"
      ],
      "metadata": {
        "id": "pmM-2bbxvper"
      }
    },
    {
      "cell_type": "markdown",
      "source": [
        "### Setting up"
      ],
      "metadata": {
        "id": "qtERQLIltxnP"
      }
    },
    {
      "cell_type": "code",
      "source": [
        "!pip install --upgrade google-genai"
      ],
      "metadata": {
        "id": "votMee6arn9u",
        "collapsed": true
      },
      "execution_count": null,
      "outputs": []
    },
    {
      "cell_type": "markdown",
      "source": [
        "### Google Vertex Setup"
      ],
      "metadata": {
        "id": "BtoT23mVNa3M"
      }
    },
    {
      "cell_type": "code",
      "source": [
        "!gcloud auth application-default login"
      ],
      "metadata": {
        "id": "f7SPDDJYBLO6"
      },
      "execution_count": null,
      "outputs": []
    },
    {
      "cell_type": "code",
      "source": [
        "!gcloud auth application-default set-quota-project cn409-genai-672 # replace the last one with your project ID. cn409-genai-672 is my project id."
      ],
      "metadata": {
        "id": "A0E22_-nNhkA"
      },
      "execution_count": null,
      "outputs": []
    },
    {
      "cell_type": "code",
      "source": [
        "import openai\n",
        "from google.auth import default\n",
        "import google.auth.transport.requests\n",
        "\n",
        "# TODO(developer): Update and un-comment below lines\n",
        "project_id = \"cn409-genai-672\"    # Update here\n",
        "location = \"us-central1\"\n",
        "\n",
        "# # Programmatically get an access token\n",
        "credentials, _ = default(scopes=[\"https://www.googleapis.com/auth/cloud-platform\"])\n",
        "credentials.refresh(google.auth.transport.requests.Request())\n",
        "\n",
        "# OpenAI Client\n",
        "client = openai.OpenAI(\n",
        "  base_url=f\"https://{location}-aiplatform.googleapis.com/v1/projects/{project_id}/locations/{location}/endpoints/openapi\",\n",
        "  api_key=credentials.token\n",
        ")"
      ],
      "metadata": {
        "id": "RCEU73IkFBL9"
      },
      "execution_count": 5,
      "outputs": []
    },
    {
      "cell_type": "code",
      "source": [
        "response = client.chat.completions.create(\n",
        "      model='google/gemini-2.5-flash',\n",
        "      messages=[\n",
        "          {\n",
        "              \"role\": \"user\",\n",
        "              \"content\": \"Hello\"\n",
        "          }\n",
        "      ]\n",
        ")\n",
        "\n",
        "print(response.choices[0].message.content)"
      ],
      "metadata": {
        "id": "t-v0KFaKFR9T"
      },
      "execution_count": null,
      "outputs": []
    },
    {
      "cell_type": "markdown",
      "source": [
        "## A simple multi turn conversation"
      ],
      "metadata": {
        "id": "8_OODIKLxhda"
      }
    },
    {
      "cell_type": "code",
      "source": [
        "\n"
      ],
      "metadata": {
        "id": "2t2EkoAzzOUq"
      },
      "execution_count": null,
      "outputs": []
    }
  ]
}