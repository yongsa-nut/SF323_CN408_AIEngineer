{
  "nbformat": 4,
  "nbformat_minor": 0,
  "metadata": {
    "colab": {
      "provenance": [],
      "authorship_tag": "ABX9TyN71pNG+suvjblsNVp8C61Y",
      "include_colab_link": true
    },
    "kernelspec": {
      "name": "python3",
      "display_name": "Python 3"
    },
    "language_info": {
      "name": "python"
    }
  },
  "cells": [
    {
      "cell_type": "markdown",
      "metadata": {
        "id": "view-in-github",
        "colab_type": "text"
      },
      "source": [
        "<a href=\"https://colab.research.google.com/github/yongsa-nut/SF323_CN408_AIEngineer/blob/main/SF323_CN408_HW5_Multimodal_and_Tool_uses.ipynb\" target=\"_parent\"><img src=\"https://colab.research.google.com/assets/colab-badge.svg\" alt=\"Open In Colab\"/></a>"
      ]
    },
    {
      "cell_type": "markdown",
      "source": [
        "# HW5: Multimodal and Tool uses (5 Points)\n",
        "\n",
        "---\n",
        "\n",
        "การบ้านนี้ประกอบไปด้วย 2 ส่วน\n",
        "\n",
        "1. Image input\n",
        "2. Tool uses\n",
        "\n",
        "การบ้านนี้คุณจะต้องเขียนเองทั้งหมด"
      ],
      "metadata": {
        "id": "H22qYXyckYVI"
      }
    },
    {
      "cell_type": "markdown",
      "source": [
        "<br>\n",
        "\n",
        "---\n",
        "\n",
        "## Image Input (3 points)\n",
        "\n",
        "ใน Part นี้เราจะมาฝึกใช้ vision API กัน ในแต่ละข้อให้แสดงรูปที่นำมาใช้ให้ครบถ้วน"
      ],
      "metadata": {
        "id": "nBb7hOjDkkSn"
      }
    },
    {
      "cell_type": "markdown",
      "source": [
        "### Social Media post (1 point)\n",
        "\n",
        "ให้หารูป วิวทิวทัศน์ หรือ สถานที่ท่องเที่ยวในไทยมาหนึ่งรูป หลังจากนั้นให้เขียนถาม `gemini-2.5-flash-lite` ผ่าน OpenRouter ให้ prompt เรื่องสั้น สำหรับ social media status เกี่ยวกับรูป สามเรื่องดังต่อไปนี้\n",
        "\n",
        "- ถามตรงๆ\n",
        "- ถามให้มันสร้างเรื่องในมุมมองเชิงบวก, เที่ยวสนุก, happy, หรือ มีความรัก\n",
        "- ถามให้มันสร้างเรื่องในมุมมองเชิงลบ, ทริปพัง, sad, หรือ อกหัก"
      ],
      "metadata": {
        "id": "cBZJaCwC5j5c"
      }
    },
    {
      "cell_type": "code",
      "execution_count": null,
      "metadata": {
        "id": "voTz1lnPkTzr"
      },
      "outputs": [],
      "source": [
        "# Feel free to add more code blocks below\n",
        "\n"
      ]
    },
    {
      "cell_type": "markdown",
      "source": [
        "### OCR (1 point)\n",
        "\n",
        "ให้หารูปที่มีข้อความมาสองรูปโดยที่\n",
        "- รูปแรก เป็นเอกสารหรือสมุดจดโน็ค ที่เป็นลายมือคน จะเขียนเองก็ได้\n",
        "- รูปสอง ให้หารูปเอกสาร, webpage, หรือ slide ที่มีตารางข้อมูล\n",
        "\n",
        "ให้ถามให้ `gemini-2.5-flash-lite` เอาข้อความทั้งหมดของทั้งสองรูป และ **ตรวจสอบว่าข้อความทั้งหมดถูกต้องหรือไม่** (ให้เขียนเป็น comment หรือ text อธิบาย)"
      ],
      "metadata": {
        "id": "-XXBHT7W6IqD"
      }
    },
    {
      "cell_type": "code",
      "source": [],
      "metadata": {
        "id": "scTU9UBX7Bg0"
      },
      "execution_count": null,
      "outputs": []
    },
    {
      "cell_type": "code",
      "source": [],
      "metadata": {
        "id": "vy6-b5_O8LHZ"
      },
      "execution_count": null,
      "outputs": []
    },
    {
      "cell_type": "markdown",
      "source": [
        "### Calrorie Calculator (1 point)\n",
        "\n",
        "ให้ถ่ายรูปอาหารมาสองรูปโดยที่รูปสามารถมีอาหารหลายจานในรูปได้   หลังจากนั้นให้ถามโมเดล ให้แสดงผลออกมาเป็นข้อมูลดังต่อไปนี้\n",
        "\n",
        "```json\n",
        "[\n",
        "  {\n",
        "    \"bounding_box2d: [x1, y1, x2, y2],\n",
        "    \"label\" : \"ชื่ออาหารที่ 1\",\n",
        "    \"weight_estimate\" : \"น้ำหนักอาหาร (กรัม)\",\n",
        "    \"calories_estimate\" : \"ปริมาณ Calories ของอาหาร\"\n",
        "  },\n",
        "  {\n",
        "    \"bounding_box2d: [x1, y1, x2, y2],\n",
        "    \"label\" : \"ชื่ออาหารที่ 2\",\n",
        "    \"weight_estimate\" : \"น้ำหนักอาหาร (กรัม)\",\n",
        "    \"calories_estimate\" : \"ปริมาณ Calories ของอาหาร\"\n",
        "  }\n",
        "]\n",
        "```\n",
        "\n",
        "**Extra (0.5)**: วาด bounding_box ออกมาในรูป และ สรุป calrories ทั้งหมดในภาพ"
      ],
      "metadata": {
        "id": "fYv30VWN7CgB"
      }
    },
    {
      "cell_type": "code",
      "source": [],
      "metadata": {
        "id": "Xc9Yj6nY7Hzb"
      },
      "execution_count": null,
      "outputs": []
    },
    {
      "cell_type": "code",
      "source": [],
      "metadata": {
        "id": "c8uWPELP8Ka5"
      },
      "execution_count": null,
      "outputs": []
    },
    {
      "cell_type": "markdown",
      "source": [
        "<br>\n",
        "\n",
        "---\n",
        "\n",
        "## Tool uses (2 points)\n",
        "\n",
        "ข้อนี้เราจะฝึกใช้ function calling กัน เพื่อให้ง่ายและสะดวกเราจะสร้าง function จำลองเฉยๆ เหมือนตัวอย่างในห้องเรียน สำหรับข้อนี้นั้นเราจะสร้าง Chatbot ที่สามารถเรียกใช้งานสอง functions:\n",
        "\n",
        " 1. `get_weather(location, date`): function บอกอณุหภูมิของแต่ละเมือง ตั้งแต่วันนี้ถึง 5 วันข้างหน้า โดยให้สร้าง dict สำหรับเก็บค่าจำลอง ที่เก็บค่า อุณหภูมิ (celsius) ของ location 3 ที่ และ ในแต่ละที่มีเวลา 5 วัน ให้ลองคิดเองดูว่า format ของ date ควรจะเป็นอย่างไรที่เหมาะสมกับ `get_current_date()`\n",
        "\n",
        " 2. `get_calendar(date, time)`: function ที่มี dict เก็บค่า ตารางงาน (ว่าง/ไม่ว่าง) ของแต่ละวัน (จันทร์ - ศุกร์) และ สองช่วงเวลา (time) เช้ากับเย็น dict เช่นเดียวกับ `get_weather` ให้ลองคิด format เอง เพื่อที่จะสามารถทดลองได้เหมาะสม\n",
        "\n",
        " 3. `get_current_date()`: function ที่จะบอกว่าวันนี้คือวันที่เท่าไร ใน format DD/MM/YYYY\n",
        "\n",
        "ให้แสดงตัวอย่างสามตัวอย่างดังนี้\n",
        "\n",
        "- ตัวอย่างการตอบคำถามที่ไม่ได้เรียกใช้ function\n",
        "- ตัวอย่างการตอบคำถามที่เรียกใช้ `get_weather()` และนำค่าที่ได้มาตอบ\n",
        "- ตัวอย่างการตอบคำถามที่เรียกใช้ `get_calendar()` และนำค่าที่ได้มาตอบ\n"
      ],
      "metadata": {
        "id": "h26UGjGukm4d"
      }
    },
    {
      "cell_type": "code",
      "source": [],
      "metadata": {
        "id": "kY7mgjdHkojH"
      },
      "execution_count": null,
      "outputs": []
    }
  ]
}