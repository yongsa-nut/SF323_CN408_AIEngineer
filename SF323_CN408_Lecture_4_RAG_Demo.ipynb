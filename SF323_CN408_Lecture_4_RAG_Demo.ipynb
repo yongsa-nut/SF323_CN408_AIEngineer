{
  "nbformat": 4,
  "nbformat_minor": 0,
  "metadata": {
    "colab": {
      "provenance": [],
      "authorship_tag": "ABX9TyNLwAZ+5N3INKnx2Lh/kRdZ",
      "include_colab_link": true
    },
    "kernelspec": {
      "name": "python3",
      "display_name": "Python 3"
    },
    "language_info": {
      "name": "python"
    }
  },
  "cells": [
    {
      "cell_type": "markdown",
      "metadata": {
        "id": "view-in-github",
        "colab_type": "text"
      },
      "source": [
        "<a href=\"https://colab.research.google.com/github/yongsa-nut/SF323_CN408_AIEngineer/blob/main/SF323_CN408_Lecture_4_RAG_Demo.ipynb\" target=\"_parent\"><img src=\"https://colab.research.google.com/assets/colab-badge.svg\" alt=\"Open In Colab\"/></a>"
      ]
    },
    {
      "cell_type": "markdown",
      "source": [
        "# SF323/CN408 - Lecture 4: RAG Demo"
      ],
      "metadata": {
        "id": "lR6f0qCXKX0o"
      }
    },
    {
      "cell_type": "markdown",
      "source": [
        "## Google Vertex Setup"
      ],
      "metadata": {
        "id": "BtoT23mVNa3M"
      }
    },
    {
      "cell_type": "code",
      "source": [
        "!gcloud auth application-default login"
      ],
      "metadata": {
        "id": "f7SPDDJYBLO6"
      },
      "execution_count": null,
      "outputs": []
    },
    {
      "cell_type": "code",
      "source": [
        "!gcloud auth application-default set-quota-project YOUR_PROJECT_ID  # replace the last one with your project ID"
      ],
      "metadata": {
        "id": "A0E22_-nNhkA"
      },
      "execution_count": null,
      "outputs": []
    },
    {
      "cell_type": "code",
      "source": [
        "import openai\n",
        "from google.auth import default\n",
        "import google.auth.transport.requests\n",
        "\n",
        "# TODO(developer): Update and un-comment below lines\n",
        "project_id = \"YOUR_PROJECT_ID\"    # Update here\n",
        "location = \"us-central1\"\n",
        "\n",
        "# # Programmatically get an access token\n",
        "credentials, _ = default(scopes=[\"https://www.googleapis.com/auth/cloud-platform\"])\n",
        "credentials.refresh(google.auth.transport.requests.Request())\n",
        "\n",
        "# OpenAI Client\n",
        "client = openai.OpenAI(\n",
        "  base_url=f\"https://{location}-aiplatform.googleapis.com/v1/projects/{project_id}/locations/{location}/endpoints/openapi\",\n",
        "  api_key=credentials.token\n",
        ")"
      ],
      "metadata": {
        "id": "RCEU73IkFBL9"
      },
      "execution_count": null,
      "outputs": []
    },
    {
      "cell_type": "markdown",
      "source": [
        "## OpenRouter"
      ],
      "metadata": {
        "id": "yS6CTCCzNlGY"
      }
    },
    {
      "cell_type": "code",
      "source": [
        "from google.colab import userdata\n",
        "from openai import OpenAI\n",
        "\n",
        "client = OpenAI(\n",
        "  base_url=\"https://openrouter.ai/api/v1\",\n",
        "  api_key=userdata.get('openrouter'),\n",
        ")\n",
        "\n",
        "def generate(prompt):\n",
        "    response = client.chat.completions.create(\n",
        "        model=\"google/gemini-2.5-flash-lite,\n",
        "        messages = [{'role':'user',\n",
        "                     'content':prompt}]\n",
        "    )\n",
        "    return response.choices[0].message.content\n",
        "\n",
        "generate(\"Hello\")"
      ],
      "metadata": {
        "colab": {
          "base_uri": "https://localhost:8080/",
          "height": 35
        },
        "id": "wN-4psEONnBC",
        "outputId": "8392b73d-19b2-4d64-905c-c0bda7b38778"
      },
      "execution_count": null,
      "outputs": [
        {
          "output_type": "execute_result",
          "data": {
            "text/plain": [
              "'Hi there! How can I help you today?'"
            ],
            "application/vnd.google.colaboratory.intrinsic+json": {
              "type": "string"
            }
          },
          "metadata": {},
          "execution_count": 26
        }
      ]
    },
    {
      "cell_type": "markdown",
      "source": [
        "<br>\n",
        "\n",
        "---\n",
        "\n",
        "## Demo 1: Keyword Matching"
      ],
      "metadata": {
        "id": "RCHIjOUTLfUV"
      }
    },
    {
      "cell_type": "code",
      "source": [
        "# The data\n",
        "knowledge_base = { 'CN101' : \"Introduction to Computer Programming.\",\n",
        "             'MA111' : 'Fundamentals of Calculus',\n",
        "             'CN200' : 'Discrete Mathematics',\n",
        "             'SF211' : 'Object-Oriented Programming'\n",
        "}"
      ],
      "metadata": {
        "id": "KR6PDnuTLqPl"
      },
      "execution_count": null,
      "outputs": []
    },
    {
      "cell_type": "code",
      "source": [
        "def keyword_generate(query, docs):\n",
        "    # Retrive relevant information\n",
        "    context = ''\n",
        "    for k in docs:\n",
        "        if k in query:\n",
        "            context += f'{k} = {docs[k]}\\n'\n",
        "\n",
        "    # Augmented Prompt\n",
        "    prompt = f'''<question>{query}</question>\n",
        "    Please use context in <context> tags to answer the question.\n",
        "    <context>{context}</context>'''\n",
        "\n",
        "    # Generate\n",
        "    response = generate(prompt)\n",
        "\n",
        "    # printing out\n",
        "    print('Query:', query)\n",
        "    print('Retrieved documents:', context)\n",
        "    print('Response:', response)\n",
        "\n",
        "query = 'CN101 คือวิชาอะไร?'\n",
        "\n",
        "keyword_generate(query, knowledge_base)"
      ],
      "metadata": {
        "id": "Oh9tZBohNMy-",
        "colab": {
          "base_uri": "https://localhost:8080/"
        },
        "outputId": "135298ae-0ace-42d8-f02f-2a87a5f44188"
      },
      "execution_count": null,
      "outputs": [
        {
          "output_type": "stream",
          "name": "stdout",
          "text": [
            "**Query**: CN101 คือวิชาอะไร?\n",
            "Retrieved documents: CN101 = Introduction to Computer Programming.\n",
            "\n",
            "**Response**: CN101 คือวิชา **Introduction to Computer Programming**\n"
          ]
        }
      ]
    },
    {
      "cell_type": "markdown",
      "source": [
        "<br>\n",
        "\n",
        "---\n",
        "\n",
        "## Demo 2: BM25\n",
        "\n",
        "Documentation"
      ],
      "metadata": {
        "id": "d4YUIn8vQUsi"
      }
    },
    {
      "cell_type": "code",
      "source": [
        "!pip install rank_bm25"
      ],
      "metadata": {
        "id": "SeGE2QcJc5P9"
      },
      "execution_count": null,
      "outputs": []
    },
    {
      "cell_type": "code",
      "source": [
        "from rank_bm25 import BM25Okapi"
      ],
      "metadata": {
        "id": "bLLcL3dGQXO7"
      },
      "execution_count": null,
      "outputs": []
    },
    {
      "cell_type": "code",
      "source": [
        "# Sample document collection\n",
        "# Link: https://drive.google.com/file/d/1dofsvV5XptwgnXDZIyo5Y4vOmkl8v5qr/view\n",
        "documents = [\n",
        "    \"CN101 Introduction to Computer Programming: Basic concepts of computer systems, electronic data processing and concepts, system and application software, algorithms, flowcharts, data representation, program design and development methodology, and problem-solving using high-level language programming (Python).\",\n",
        "    \"SF211 Object-Oriented Programming: Introduction to object-oriented programming. Class, Object, Encapsulation, Inheritance, Polymorphism, and Abstraction.\",\n",
        "    \"CN200 Discrete Mathematics: Logic. Proof techniques. Basic set theory. Relations and functions. Mathematical induction. Countability and counting arguments. Permutations and combinations. Inclusionexclusion principle. Elementary finite probability. Topics in graph theory: isomorphism, planarity, circuits, trees, and directed graphs.\",\n",
        "    \"SF230 Linear Algebra and Numerical Analysis: Theorems of matrices, vector spaces, linear independence, dimensions, rank of matrices, applications of matrices for solving systems of linear equations, inverse of matrices, determinant, Cramer’ s Rule, linear transformations, inner product spaces, orthogonal complement and least square, eigenvalues, eigenvectors and its application. Numerical solutions of one variable equations, polynomial interpolation, numerical methods of differentiation and integration, solving engineering problems by using package\",\n",
        "    \"SF250 Probability Theory and Statistics: Introduction to probability theory. Topics covered include random variables, conditional probability, expectation, independence, Bayes' rule, important distributions, joint distributions, central limit theorem, laws of large numbers, statistical inference; point and confidence interval estimation, hypothesis tests, analysis of variance, linear regression.\",\n",
        "    \"SF212 Web Application Development: Introduction to the basic principles of web application programming. Web server systems. Basic HTML and Cascading StyleSheets. Server-side web application development. Database access and manipulation through the web. Session management. Web application security.\",\n",
        "    \"SF220 Introduction to Software Engineering: Scientific foundation for software engineering, introduction to software development process and life cycles. Methods, techniques, and tools used for software engineering process. Students work in small teams on substantial, realistic projects, covering most phases of the software production life cycle.\",\n",
        "    \"SF231 Data Structures and Algorithms: Introduction to data structures and algorithms, algorithm analysis, arrays and linked lists, stacks, queues, priority queues, heaps, binary trees, binary search trees, AVL trees, other variations in trees, hashing, sorting, graph algorithms, algorithm design techniques, online judges and algorithm competitions.\",\n",
        "    \"SF251 Introduction to Data Science: Learning the foundational principles of data science and data mining through an in-depth examination of the data science lifecycle. This comprehensive course delves into each important steps, beginning with a comprehension of problem formulation tailored to the specific needs and objectives of businesses. Learners will engage in data mining methodologies, including processes of data extraction, transformation, and integration. Moreover, an analysis of data quality and refinement techniques will be undertaken to ensure the integrity and reliability of datasets. Furthermore, learners will explore the complexities of feature engineering, unraveling intricate relationships and patterns within the data domain. Leveraging state-of-the-art machine learning algorithms, learners will delve into predictive analytics, forecasting future trends and behaviors with precision and accuracy. Additionally, the course will emphasize the art of data presentations, enabling participants to effectively communicate analytical insights to diverse stakeholders.\",\n",
        "    \"CN351 Web Application Security: Current state of security in web applications. Key security mechanisms for web applications. Client and server side controls. Common vulnerabilities of web-based applications and how to protect against the attacks.\"\n",
        "    ]\n",
        "\n",
        "# Simple tokenization using string splitting\n",
        "tokenized_docs = [doc.lower().split() for doc in documents]\n",
        "\n",
        "# Create BM25 object\n",
        "bm25 = BM25Okapi(tokenized_docs)"
      ],
      "metadata": {
        "id": "4yfWslkwdZ-p"
      },
      "execution_count": null,
      "outputs": []
    },
    {
      "cell_type": "code",
      "source": [
        "for i, words in enumerate(tokenized_docs):\n",
        "  print(i, words)"
      ],
      "metadata": {
        "colab": {
          "base_uri": "https://localhost:8080/"
        },
        "id": "XNQOZ_3mP2GA",
        "outputId": "a7d1dd6f-2e76-4eae-9308-52965782def7"
      },
      "execution_count": null,
      "outputs": [
        {
          "output_type": "stream",
          "name": "stdout",
          "text": [
            "0 ['cn101', 'introduction', 'to', 'computer', 'programming:', 'basic', 'concepts', 'of', 'computer', 'systems,', 'electronic', 'data', 'processing', 'and', 'concepts,', 'system', 'and', 'application', 'software,', 'algorithms,', 'flowcharts,', 'data', 'representation,', 'program', 'design', 'and', 'development', 'methodology,', 'and', 'problem-solving', 'using', 'high-level', 'language', 'programming', '(python).']\n",
            "1 ['sf211', 'object-oriented', 'programming:', 'introduction', 'to', 'object-oriented', 'programming.', 'class,', 'object,', 'encapsulation,', 'inheritance,', 'polymorphism,', 'and', 'abstraction.']\n",
            "2 ['cn200', 'discrete', 'mathematics:', 'logic.', 'proof', 'techniques.', 'basic', 'set', 'theory.', 'relations', 'and', 'functions.', 'mathematical', 'induction.', 'countability', 'and', 'counting', 'arguments.', 'permutations', 'and', 'combinations.', 'inclusionexclusion', 'principle.', 'elementary', 'finite', 'probability.', 'topics', 'in', 'graph', 'theory:', 'isomorphism,', 'planarity,', 'circuits,', 'trees,', 'and', 'directed', 'graphs.']\n",
            "3 ['sf230', 'linear', 'algebra', 'and', 'numerical', 'analysis:', 'theorems', 'of', 'matrices,', 'vector', 'spaces,', 'linear', 'independence,', 'dimensions,', 'rank', 'of', 'matrices,', 'applications', 'of', 'matrices', 'for', 'solving', 'systems', 'of', 'linear', 'equations,', 'inverse', 'of', 'matrices,', 'determinant,', 'cramer’', 's', 'rule,', 'linear', 'transformations,', 'inner', 'product', 'spaces,', 'orthogonal', 'complement', 'and', 'least', 'square,', 'eigenvalues,', 'eigenvectors', 'and', 'its', 'application.', 'numerical', 'solutions', 'of', 'one', 'variable', 'equations,', 'polynomial', 'interpolation,', 'numerical', 'methods', 'of', 'differentiation', 'and', 'integration,', 'solving', 'engineering', 'problems', 'by', 'using', 'package']\n",
            "4 ['sf250', 'probability', 'theory', 'and', 'statistics:', 'introduction', 'to', 'probability', 'theory.', 'topics', 'covered', 'include', 'random', 'variables,', 'conditional', 'probability,', 'expectation,', 'independence,', \"bayes'\", 'rule,', 'important', 'distributions,', 'joint', 'distributions,', 'central', 'limit', 'theorem,', 'laws', 'of', 'large', 'numbers,', 'statistical', 'inference;', 'point', 'and', 'confidence', 'interval', 'estimation,', 'hypothesis', 'tests,', 'analysis', 'of', 'variance,', 'linear', 'regression.']\n",
            "5 ['sf212', 'web', 'application', 'development:', 'introduction', 'to', 'the', 'basic', 'principles', 'of', 'web', 'application', 'programming.', 'web', 'server', 'systems.', 'basic', 'html', 'and', 'cascading', 'stylesheets.', 'server-side', 'web', 'application', 'development.', 'database', 'access', 'and', 'manipulation', 'through', 'the', 'web.', 'session', 'management.', 'web', 'application', 'security.']\n",
            "6 ['sf220', 'introduction', 'to', 'software', 'engineering:', 'scientific', 'foundation', 'for', 'software', 'engineering,', 'introduction', 'to', 'software', 'development', 'process', 'and', 'life', 'cycles.', 'methods,', 'techniques,', 'and', 'tools', 'used', 'for', 'software', 'engineering', 'process.', 'students', 'work', 'in', 'small', 'teams', 'on', 'substantial,', 'realistic', 'projects,', 'covering', 'most', 'phases', 'of', 'the', 'software', 'production', 'life', 'cycle.']\n",
            "7 ['sf231', 'data', 'structures', 'and', 'algorithms:', 'introduction', 'to', 'data', 'structures', 'and', 'algorithms,', 'algorithm', 'analysis,', 'arrays', 'and', 'linked', 'lists,', 'stacks,', 'queues,', 'priority', 'queues,', 'heaps,', 'binary', 'trees,', 'binary', 'search', 'trees,', 'avl', 'trees,', 'other', 'variations', 'in', 'trees,', 'hashing,', 'sorting,', 'graph', 'algorithms,', 'algorithm', 'design', 'techniques,', 'online', 'judges', 'and', 'algorithm', 'competitions.']\n",
            "8 ['sf251', 'introduction', 'to', 'data', 'science:', 'learning', 'the', 'foundational', 'principles', 'of', 'data', 'science', 'and', 'data', 'mining', 'through', 'an', 'in-depth', 'examination', 'of', 'the', 'data', 'science', 'lifecycle.', 'this', 'comprehensive', 'course', 'delves', 'into', 'each', 'important', 'steps,', 'beginning', 'with', 'a', 'comprehension', 'of', 'problem', 'formulation', 'tailored', 'to', 'the', 'specific', 'needs', 'and', 'objectives', 'of', 'businesses.', 'learners', 'will', 'engage', 'in', 'data', 'mining', 'methodologies,', 'including', 'processes', 'of', 'data', 'extraction,', 'transformation,', 'and', 'integration.', 'moreover,', 'an', 'analysis', 'of', 'data', 'quality', 'and', 'refinement', 'techniques', 'will', 'be', 'undertaken', 'to', 'ensure', 'the', 'integrity', 'and', 'reliability', 'of', 'datasets.', 'furthermore,', 'learners', 'will', 'explore', 'the', 'complexities', 'of', 'feature', 'engineering,', 'unraveling', 'intricate', 'relationships', 'and', 'patterns', 'within', 'the', 'data', 'domain.', 'leveraging', 'state-of-the-art', 'machine', 'learning', 'algorithms,', 'learners', 'will', 'delve', 'into', 'predictive', 'analytics,', 'forecasting', 'future', 'trends', 'and', 'behaviors', 'with', 'precision', 'and', 'accuracy.', 'additionally,', 'the', 'course', 'will', 'emphasize', 'the', 'art', 'of', 'data', 'presentations,', 'enabling', 'participants', 'to', 'effectively', 'communicate', 'analytical', 'insights', 'to', 'diverse', 'stakeholders.']\n",
            "9 ['cn351', 'web', 'application', 'security:', 'current', 'state', 'of', 'security', 'in', 'web', 'applications.', 'key', 'security', 'mechanisms', 'for', 'web', 'applications.', 'client', 'and', 'server', 'side', 'controls.', 'common', 'vulnerabilities', 'of', 'web-based', 'applications', 'and', 'how', 'to', 'protect', 'against', 'the', 'attacks.']\n"
          ]
        }
      ]
    },
    {
      "cell_type": "code",
      "source": [
        "def BM25_retriever(query, top_k=2):\n",
        "  # Words only\n",
        "  tokenized_query = query.lower().split()\n",
        "  # Pass the list of words into bm25 to get scores\n",
        "  doc_scores = bm25.get_scores(tokenized_query)\n",
        "  # Then retrieve the score\n",
        "  top_docs = sorted(enumerate(doc_scores), key=lambda x: x[1], reverse=True)[:top_k]\n",
        "\n",
        "  return [documents[i] for i, _ in top_docs]"
      ],
      "metadata": {
        "id": "QRjJv2O5dvwb"
      },
      "execution_count": null,
      "outputs": []
    },
    {
      "cell_type": "code",
      "source": [
        "BM25_retriever(\"data science\", 3)"
      ],
      "metadata": {
        "colab": {
          "base_uri": "https://localhost:8080/"
        },
        "id": "otcoXnJDQu8G",
        "outputId": "0194f783-860e-4c73-9fe3-c3d234f0cad8"
      },
      "execution_count": null,
      "outputs": [
        {
          "output_type": "execute_result",
          "data": {
            "text/plain": [
              "['SF251 Introduction to Data Science: Learning the foundational principles of data science and data mining through an in-depth examination of the data science lifecycle. This comprehensive course delves into each important steps, beginning with a comprehension of problem formulation tailored to the specific needs and objectives of businesses. Learners will engage in data mining methodologies, including processes of data extraction, transformation, and integration. Moreover, an analysis of data quality and refinement techniques will be undertaken to ensure the integrity and reliability of datasets. Furthermore, learners will explore the complexities of feature engineering, unraveling intricate relationships and patterns within the data domain. Leveraging state-of-the-art machine learning algorithms, learners will delve into predictive analytics, forecasting future trends and behaviors with precision and accuracy. Additionally, the course will emphasize the art of data presentations, enabling participants to effectively communicate analytical insights to diverse stakeholders.',\n",
              " 'CN101 Introduction to Computer Programming: Basic concepts of computer systems, electronic data processing and concepts, system and application software, algorithms, flowcharts, data representation, program design and development methodology, and problem-solving using high-level language programming (Python).',\n",
              " 'SF231 Data Structures and Algorithms: Introduction to data structures and algorithms, algorithm analysis, arrays and linked lists, stacks, queues, priority queues, heaps, binary trees, binary search trees, AVL trees, other variations in trees, hashing, sorting, graph algorithms, algorithm design techniques, online judges and algorithm competitions.']"
            ]
          },
          "metadata": {},
          "execution_count": 22
        }
      ]
    },
    {
      "cell_type": "code",
      "source": [
        "def bm25_generate(query, top_k=3):\n",
        "  # Retrieve relevant information\n",
        "  retrieved_docs = BM25_retriever(query, top_k)\n",
        "  context = \"\\n\".join(retrieved_docs)\n",
        "\n",
        "  # Augmented Prompt\n",
        "  prompt = f'''<question>{query}</question>\n",
        "  Please use context in <context> tags to answr the question.\n",
        "  <context>{context}</context>'''\n",
        "\n",
        "  # Generate\n",
        "  response = generate(prompt)\n",
        "\n",
        "  # printing out\n",
        "  print('Query:', query)\n",
        "  print('Retrieved documents:', retrieved_docs)\n",
        "  print('\\nResponse:', response)\n",
        "\n",
        "query = \"Can you tell me about the data science class?\"\n",
        "bm25_generate(query)"
      ],
      "metadata": {
        "colab": {
          "base_uri": "https://localhost:8080/"
        },
        "id": "jclDtDltd2aX",
        "outputId": "ed11f239-69f7-4bd2-805c-9eb77acecf47"
      },
      "execution_count": null,
      "outputs": [
        {
          "output_type": "stream",
          "name": "stdout",
          "text": [
            "Query: Can you tell me about the data science class?\n",
            "Retrieved documents: ['SF251 Introduction to Data Science: Learning the foundational principles of data science and data mining through an in-depth examination of the data science lifecycle. This comprehensive course delves into each important steps, beginning with a comprehension of problem formulation tailored to the specific needs and objectives of businesses. Learners will engage in data mining methodologies, including processes of data extraction, transformation, and integration. Moreover, an analysis of data quality and refinement techniques will be undertaken to ensure the integrity and reliability of datasets. Furthermore, learners will explore the complexities of feature engineering, unraveling intricate relationships and patterns within the data domain. Leveraging state-of-the-art machine learning algorithms, learners will delve into predictive analytics, forecasting future trends and behaviors with precision and accuracy. Additionally, the course will emphasize the art of data presentations, enabling participants to effectively communicate analytical insights to diverse stakeholders.', 'CN101 Introduction to Computer Programming: Basic concepts of computer systems, electronic data processing and concepts, system and application software, algorithms, flowcharts, data representation, program design and development methodology, and problem-solving using high-level language programming (Python).', 'SF231 Data Structures and Algorithms: Introduction to data structures and algorithms, algorithm analysis, arrays and linked lists, stacks, queues, priority queues, heaps, binary trees, binary search trees, AVL trees, other variations in trees, hashing, sorting, graph algorithms, algorithm design techniques, online judges and algorithm competitions.']\n",
            "Response: The data science class, SF251 Introduction to Data Science, focuses on the entire data science lifecycle. You'll learn foundational principles, starting with understanding business problems and moving through data mining processes like extraction, transformation, and integration. The course also covers data quality, refinement techniques, and feature engineering. You will explore predictive analytics and machine learning algorithms to forecast trends, and importantly, you will learn how to effectively present your analytical insights to various stakeholders.\n"
          ]
        }
      ]
    },
    {
      "cell_type": "markdown",
      "source": [
        "<br>\n",
        "\n",
        "---\n",
        "\n",
        "## Demo 3: RAG without a database"
      ],
      "metadata": {
        "id": "9OKu_c9XQXg8"
      }
    },
    {
      "cell_type": "code",
      "source": [
        "!pip install sentence_transformers datasets"
      ],
      "metadata": {
        "id": "WBgAHs-G2rxa"
      },
      "execution_count": null,
      "outputs": []
    },
    {
      "cell_type": "code",
      "source": [
        "import torch\n",
        "from sentence_transformers import SentenceTransformer\n",
        "from sklearn.metrics.pairwise import cosine_similarity"
      ],
      "metadata": {
        "id": "EeZPGTOglxCS"
      },
      "execution_count": null,
      "outputs": []
    },
    {
      "cell_type": "code",
      "source": [
        "# Same document collection\n",
        "documents = [\n",
        "    \"CN101 Introduction to Computer Programming: Basic concepts of computer systems, electronic data processing and concepts, system and application software, algorithms, flowcharts, data representation, program design and development methodology, and problem-solving using high-level language programming (Python).\",\n",
        "    \"SF211 Object-Oriented Programming: Introduction to object-oriented programming. Class, Object, Encapsulation, Inheritance, Polymorphism, and Abstraction.\",\n",
        "    \"CN200 Discrete Mathematics: Logic. Proof techniques. Basic set theory. Relations and functions. Mathematical induction. Countability and counting arguments. Permutations and combinations. Inclusionexclusion principle. Elementary finite probability. Topics in graph theory: isomorphism, planarity, circuits, trees, and directed graphs.\",\n",
        "    \"SF230 Linear Algebra and Numerical Analysis: Theorems of matrices, vector spaces, linear independence, dimensions, rank of matrices, applications of matrices for solving systems of linear equations, inverse of matrices, determinant, Cramer’ s Rule, linear transformations, inner product spaces, orthogonal complement and least square, eigenvalues, eigenvectors and its application. Numerical solutions of one variable equations, polynomial interpolation, numerical methods of differentiation and integration, solving engineering problems by using package\",\n",
        "    \"SF250 Probability Theory and Statistics: Introduction to probability theory. Topics covered include random variables, conditional probability, expectation, independence, Bayes' rule, important distributions, joint distributions, central limit theorem, laws of large numbers, statistical inference; point and confidence interval estimation, hypothesis tests, analysis of variance, linear regression.\",\n",
        "    \"SF212 Web Application Development: Introduction to the basic principles of web application programming. Web server systems. Basic HTML and Cascading StyleSheets. Server-side web application development. Database access and manipulation through the web. Session management. Web application security.\",\n",
        "    \"SF220 Introduction to Software Engineering: Scientific foundation for software engineering, introduction to software development process and life cycles. Methods, techniques, and tools used for software engineering process. Students work in small teams on substantial, realistic projects, covering most phases of the software production life cycle.\",\n",
        "    \"SF231 Data Structures and Algorithms: Introduction to data structures and algorithms, algorithm analysis, arrays and linked lists, stacks, queues, priority queues, heaps, binary trees, binary search trees, AVL trees, other variations in trees, hashing, sorting, graph algorithms, algorithm design techniques, online judges and algorithm competitions.\",\n",
        "    \"SF251 Introduction to Data Science: Learning the foundational principles of data science and data mining through an in-depth examination of the data science lifecycle. This comprehensive course delves into each important steps, beginning with a comprehension of problem formulation tailored to the specific needs and objectives of businesses. Learners will engage in data mining methodologies, including processes of data extraction, transformation, and integration. Moreover, an analysis of data quality and refinement techniques will be undertaken to ensure the integrity and reliability of datasets. Furthermore, learners will explore the complexities of feature engineering, unraveling intricate relationships and patterns within the data domain. Leveraging state-of-the-art machine learning algorithms, learners will delve into predictive analytics, forecasting future trends and behaviors with precision and accuracy. Additionally, the course will emphasize the art of data presentations, enabling participants to effectively communicate analytical insights to diverse stakeholders.\",\n",
        "    \"CN351 Web Application Security: Current state of security in web applications. Key security mechanisms for web applications. Client and server side controls. Common vulnerabilities of web-based applications and how to protect against the attacks.\"\n",
        "    ]\n",
        "\n",
        "# Initialize the sentence transformer model\n",
        "embed_model = SentenceTransformer('all-MiniLM-L6-v2')\n",
        "\n",
        "# Embed documents\n",
        "doc_embeddings = embed_model.encode(documents)"
      ],
      "metadata": {
        "id": "cdMfAmJiQb_w"
      },
      "execution_count": null,
      "outputs": []
    },
    {
      "cell_type": "code",
      "source": [
        "doc_embeddings"
      ],
      "metadata": {
        "id": "7dteCYnrD54u"
      },
      "execution_count": null,
      "outputs": []
    },
    {
      "cell_type": "code",
      "source": [
        "len(doc_embeddings[0])"
      ],
      "metadata": {
        "id": "dcsDYhKnD-0u",
        "colab": {
          "base_uri": "https://localhost:8080/"
        },
        "outputId": "b683074a-27c0-4d82-9430-617e398bdfb9"
      },
      "execution_count": null,
      "outputs": [
        {
          "output_type": "execute_result",
          "data": {
            "text/plain": [
              "384"
            ]
          },
          "metadata": {},
          "execution_count": 25
        }
      ]
    },
    {
      "cell_type": "code",
      "source": [
        "def embedded_retriever(query, top_k=1):\n",
        "    # Embed the query\n",
        "    query_embedding = embed_model.encode([query])\n",
        "\n",
        "    # Calculate cosine similarity\n",
        "    similarities = cosine_similarity(query_embedding, doc_embeddings)[0]\n",
        "\n",
        "    # Get top-k relevant documents\n",
        "    top_indices = similarities.argsort()[-top_k:][::-1]\n",
        "    return [documents[i] for i in top_indices]"
      ],
      "metadata": {
        "id": "gJeYSxVXl4p8"
      },
      "execution_count": null,
      "outputs": []
    },
    {
      "cell_type": "code",
      "source": [
        "def RAG_generate(query, top_k=3):\n",
        "  # Retrieve relevant docs\n",
        "  retrieved_docs = embedded_retriever(query, top_k)\n",
        "  context = \"\\n\".join(retrieved_docs)\n",
        "\n",
        "  # Augmented Prompt\n",
        "  prompt = f'''<question>{query}</question>\n",
        "  Please use context in <context> tags to answr the question.\n",
        "  <context>{context}</context>'''\n",
        "\n",
        "  # Generate\n",
        "  response = generate(prompt)\n",
        "\n",
        "  # printing out\n",
        "  print('Query:', query)\n",
        "  print('Retrieved documents:', retrieved_docs)\n",
        "  print('\\nResponse:', response)\n",
        "\n",
        "query = \"Can you tell me about the data science class?\"\n",
        "RAG_generate(query)"
      ],
      "metadata": {
        "id": "PMjsoZmGl-4z",
        "colab": {
          "base_uri": "https://localhost:8080/"
        },
        "outputId": "8398ee21-2663-427c-9efd-cbed240e67cf"
      },
      "execution_count": null,
      "outputs": [
        {
          "output_type": "stream",
          "name": "stdout",
          "text": [
            "Query: Can you tell me about the data science class?\n",
            "Retrieved documents: ['SF251 Introduction to Data Science: Learning the foundational principles of data science and data mining through an in-depth examination of the data science lifecycle. This comprehensive course delves into each important steps, beginning with a comprehension of problem formulation tailored to the specific needs and objectives of businesses. Learners will engage in data mining methodologies, including processes of data extraction, transformation, and integration. Moreover, an analysis of data quality and refinement techniques will be undertaken to ensure the integrity and reliability of datasets. Furthermore, learners will explore the complexities of feature engineering, unraveling intricate relationships and patterns within the data domain. Leveraging state-of-the-art machine learning algorithms, learners will delve into predictive analytics, forecasting future trends and behaviors with precision and accuracy. Additionally, the course will emphasize the art of data presentations, enabling participants to effectively communicate analytical insights to diverse stakeholders.', 'SF231 Data Structures and Algorithms: Introduction to data structures and algorithms, algorithm analysis, arrays and linked lists, stacks, queues, priority queues, heaps, binary trees, binary search trees, AVL trees, other variations in trees, hashing, sorting, graph algorithms, algorithm design techniques, online judges and algorithm competitions.', 'SF211 Object-Oriented Programming: Introduction to object-oriented programming. Class, Object, Encapsulation, Inheritance, Polymorphism, and Abstraction.']\n",
            "Response: The data science class, SF251 Introduction to Data Science, focuses on the foundational principles of data science and data mining. It covers the entire data science lifecycle, starting with understanding business problem formulation, moving through data extraction, transformation, and integration, and addressing data quality and refinement. The course also explores feature engineering, predictive analytics using machine learning algorithms, and effective data presentation for communicating insights.\n"
          ]
        }
      ]
    },
    {
      "cell_type": "markdown",
      "source": [
        "<br>\n",
        "\n",
        "---\n",
        "\n",
        "## Demo 4: RAG with Pinecone"
      ],
      "metadata": {
        "id": "3xFmli7GHKNY"
      }
    },
    {
      "cell_type": "code",
      "source": [
        "!pip3 install pinecone"
      ],
      "metadata": {
        "id": "DcvarCOIHOri"
      },
      "execution_count": null,
      "outputs": []
    },
    {
      "cell_type": "code",
      "source": [
        "from pinecone import Pinecone, ServerlessSpec"
      ],
      "metadata": {
        "id": "O01aRLUcHPxv"
      },
      "execution_count": null,
      "outputs": []
    },
    {
      "cell_type": "code",
      "source": [
        "device = 'cuda' if torch.cuda.is_available() else 'cpu'\n",
        "if device != 'cuda':\n",
        "    print('Sorry no cuda.')\n",
        "model = SentenceTransformer('all-MiniLM-L6-v2', device=device)"
      ],
      "metadata": {
        "id": "7bN7jN1EHTFF"
      },
      "execution_count": null,
      "outputs": []
    },
    {
      "cell_type": "code",
      "source": [
        "query = 'Can you tell me about the data science class?'\n",
        "xq = model.encode(query)\n",
        "xq.shape"
      ],
      "metadata": {
        "id": "IL2GZ9lbHWwA",
        "colab": {
          "base_uri": "https://localhost:8080/"
        },
        "outputId": "40f8fa45-837b-41f4-b532-b8b1778ba480"
      },
      "execution_count": null,
      "outputs": [
        {
          "output_type": "execute_result",
          "data": {
            "text/plain": [
              "(384,)"
            ]
          },
          "metadata": {},
          "execution_count": 5
        }
      ]
    },
    {
      "cell_type": "code",
      "source": [
        "# Same document collection\n",
        "documents = [\n",
        "    \"CN101 Introduction to Computer Programming: Basic concepts of computer systems, electronic data processing and concepts, system and application software, algorithms, flowcharts, data representation, program design and development methodology, and problem-solving using high-level language programming (Python).\",\n",
        "    \"SF211 Object-Oriented Programming: Introduction to object-oriented programming. Class, Object, Encapsulation, Inheritance, Polymorphism, and Abstraction.\",\n",
        "    \"CN200 Discrete Mathematics: Logic. Proof techniques. Basic set theory. Relations and functions. Mathematical induction. Countability and counting arguments. Permutations and combinations. Inclusionexclusion principle. Elementary finite probability. Topics in graph theory: isomorphism, planarity, circuits, trees, and directed graphs.\",\n",
        "    \"SF230 Linear Algebra and Numerical Analysis: Theorems of matrices, vector spaces, linear independence, dimensions, rank of matrices, applications of matrices for solving systems of linear equations, inverse of matrices, determinant, Cramer’ s Rule, linear transformations, inner product spaces, orthogonal complement and least square, eigenvalues, eigenvectors and its application. Numerical solutions of one variable equations, polynomial interpolation, numerical methods of differentiation and integration, solving engineering problems by using package\",\n",
        "    \"SF250 Probability Theory and Statistics: Introduction to probability theory. Topics covered include random variables, conditional probability, expectation, independence, Bayes' rule, important distributions, joint distributions, central limit theorem, laws of large numbers, statistical inference; point and confidence interval estimation, hypothesis tests, analysis of variance, linear regression.\",\n",
        "    \"SF212 Web Application Development: Introduction to the basic principles of web application programming. Web server systems. Basic HTML and Cascading StyleSheets. Server-side web application development. Database access and manipulation through the web. Session management. Web application security.\",\n",
        "    \"SF220 Introduction to Software Engineering: Scientific foundation for software engineering, introduction to software development process and life cycles. Methods, techniques, and tools used for software engineering process. Students work in small teams on substantial, realistic projects, covering most phases of the software production life cycle.\",\n",
        "    \"SF231 Data Structures and Algorithms: Introduction to data structures and algorithms, algorithm analysis, arrays and linked lists, stacks, queues, priority queues, heaps, binary trees, binary search trees, AVL trees, other variations in trees, hashing, sorting, graph algorithms, algorithm design techniques, online judges and algorithm competitions.\",\n",
        "    \"SF251 Introduction to Data Science: Learning the foundational principles of data science and data mining through an in-depth examination of the data science lifecycle. This comprehensive course delves into each important steps, beginning with a comprehension of problem formulation tailored to the specific needs and objectives of businesses. Learners will engage in data mining methodologies, including processes of data extraction, transformation, and integration. Moreover, an analysis of data quality and refinement techniques will be undertaken to ensure the integrity and reliability of datasets. Furthermore, learners will explore the complexities of feature engineering, unraveling intricate relationships and patterns within the data domain. Leveraging state-of-the-art machine learning algorithms, learners will delve into predictive analytics, forecasting future trends and behaviors with precision and accuracy. Additionally, the course will emphasize the art of data presentations, enabling participants to effectively communicate analytical insights to diverse stakeholders.\",\n",
        "    \"CN351 Web Application Security: Current state of security in web applications. Key security mechanisms for web applications. Client and server side controls. Common vulnerabilities of web-based applications and how to protect against the attacks.\"\n",
        "    ]\n",
        "\n",
        "doc_embeddings = model.encode(documents)"
      ],
      "metadata": {
        "id": "2wfKlSD-Hery"
      },
      "execution_count": null,
      "outputs": []
    },
    {
      "cell_type": "markdown",
      "source": [
        "### Setup Pinecone\n",
        "\n",
        "- [Documentation](https://docs.pinecone.io/guides/index-data/create-an-index)"
      ],
      "metadata": {
        "id": "ZzxE0W-KHaIW"
      }
    },
    {
      "cell_type": "code",
      "source": [
        "from google.colab import userdata\n",
        "\n",
        "pinecone = Pinecone(api_key=userdata.get('pinecone_key'))\n",
        "INDEX_NAME = 'sf323-2025' #Can't be upper case\n",
        "\n",
        "# Cleaning up the index\n",
        "if INDEX_NAME in [index.name for index in pinecone.list_indexes()]:\n",
        "    pinecone.delete_index(INDEX_NAME)\n",
        "print(INDEX_NAME)\n",
        "\n",
        "# Creating a serverless index\n",
        "pinecone.create_index(\n",
        "    name = INDEX_NAME,\n",
        "    dimension = model.get_sentence_embedding_dimension(),\n",
        "    metric = 'cosine',\n",
        "    spec = ServerlessSpec(cloud='aws', region='us-east-1')) #\n",
        "\n",
        "dense_index = pinecone.Index(INDEX_NAME)\n",
        "print(dense_index)"
      ],
      "metadata": {
        "id": "WnujxL-7HaIl",
        "colab": {
          "base_uri": "https://localhost:8080/"
        },
        "outputId": "04e83be0-3b60-473a-e77c-26ecea543828"
      },
      "execution_count": null,
      "outputs": [
        {
          "output_type": "stream",
          "name": "stdout",
          "text": [
            "sf323-2025\n",
            "<pinecone.db_data.index.Index object at 0x7aefd75ff310>\n"
          ]
        }
      ]
    },
    {
      "cell_type": "markdown",
      "source": [
        "### Upsert to Pinecone\n",
        "\n",
        "- Format: A list of dict\n",
        "  - `{'id':xx, 'values':embedding, 'metadata':dict}`\n",
        "- Document: https://docs.pinecone.io/reference/api/2024-07/data-plane/upsert"
      ],
      "metadata": {
        "id": "G7q4_ScGHpq_"
      }
    },
    {
      "cell_type": "code",
      "source": [
        "records = []\n",
        "for x in range(len(documents)):\n",
        "  record = {\n",
        "      'id': str(x),\n",
        "      'values':doc_embeddings[x],\n",
        "      'metadata': {\n",
        "          'text':documents[x]\n",
        "       }\n",
        "  }\n",
        "  records.append(record)\n",
        "\n",
        "dense_index.upsert(vectors=records)   # There is a limit on how much you can upsert at a time. See https://docs.pinecone.io/guides/data/upsert-data"
      ],
      "metadata": {
        "id": "XdWVB_pYHsJD",
        "colab": {
          "base_uri": "https://localhost:8080/"
        },
        "outputId": "2f630d25-d690-4edc-c587-ab19fb0eac71"
      },
      "execution_count": null,
      "outputs": [
        {
          "output_type": "execute_result",
          "data": {
            "text/plain": [
              "{'upserted_count': 10}"
            ]
          },
          "metadata": {},
          "execution_count": 55
        }
      ]
    },
    {
      "cell_type": "code",
      "source": [
        "dense_index.describe_index_stats()"
      ],
      "metadata": {
        "collapsed": true,
        "id": "gkXZ3xrIHysW",
        "colab": {
          "base_uri": "https://localhost:8080/"
        },
        "outputId": "8203dddf-95b7-46fe-dd68-e3346ad4a2b1"
      },
      "execution_count": null,
      "outputs": [
        {
          "output_type": "execute_result",
          "data": {
            "text/plain": [
              "{'dimension': 384,\n",
              " 'index_fullness': 0.0,\n",
              " 'metric': 'cosine',\n",
              " 'namespaces': {},\n",
              " 'total_vector_count': 0,\n",
              " 'vector_type': 'dense'}"
            ]
          },
          "metadata": {},
          "execution_count": 22
        }
      ]
    },
    {
      "cell_type": "markdown",
      "source": [
        "### Retriving Documents\n",
        "\n",
        "\n"
      ],
      "metadata": {
        "id": "U2W1fv5UKhHM"
      }
    },
    {
      "cell_type": "code",
      "source": [
        "query = 'Can you tell me about the data science class?'\n",
        "\n",
        "# 1) Embedding your query\n",
        "embed_query = model.encode(query).tolist()\n",
        "retrieved_docs =  dense_index.query(vector=embed_query, top_k=3, include_metadata=True)\n",
        "print(retrieved_docs)"
      ],
      "metadata": {
        "id": "f9mGia8pKg1_"
      },
      "execution_count": null,
      "outputs": []
    },
    {
      "cell_type": "code",
      "source": [
        "text = [r['metadata']['text'] for r in retrieved_docs['matches']]\n",
        "print(text)"
      ],
      "metadata": {
        "id": "P5srP5e2L5q5",
        "colab": {
          "base_uri": "https://localhost:8080/"
        },
        "outputId": "22403818-fddb-47c5-855f-205171b5a9fc"
      },
      "execution_count": null,
      "outputs": [
        {
          "output_type": "stream",
          "name": "stdout",
          "text": [
            "['SF251 Introduction to Data Science: Learning the foundational principles of data science and data mining through an in-depth examination of the data science lifecycle. This comprehensive course delves into each important steps, beginning with a comprehension of problem formulation tailored to the specific needs and objectives of businesses. Learners will engage in data mining methodologies, including processes of data extraction, transformation, and integration. Moreover, an analysis of data quality and refinement techniques will be undertaken to ensure the integrity and reliability of datasets. Furthermore, learners will explore the complexities of feature engineering, unraveling intricate relationships and patterns within the data domain. Leveraging state-of-the-art machine learning algorithms, learners will delve into predictive analytics, forecasting future trends and behaviors with precision and accuracy. Additionally, the course will emphasize the art of data presentations, enabling participants to effectively communicate analytical insights to diverse stakeholders.', 'SF231 Data Structures and Algorithms: Introduction to data structures and algorithms, algorithm analysis, arrays and linked lists, stacks, queues, priority queues, heaps, binary trees, binary search trees, AVL trees, other variations in trees, hashing, sorting, graph algorithms, algorithm design techniques, online judges and algorithm competitions.', 'SF211 Object-Oriented Programming: Introduction to object-oriented programming. Class, Object, Encapsulation, Inheritance, Polymorphism, and Abstraction.']\n"
          ]
        }
      ]
    },
    {
      "cell_type": "markdown",
      "source": [
        "### Generate with retrived documents"
      ],
      "metadata": {
        "id": "wPdaAuH0KkDB"
      }
    },
    {
      "cell_type": "code",
      "source": [
        "def dense_retriever(query, top_k=3):\n",
        "    # First embedding your query\n",
        "    embed_query = model.encode(query).tolist()\n",
        "    # Then retrieve the document\n",
        "    retrieved_docs =  dense_index.query(vector=embed_query,\n",
        "                                  top_k=top_k,\n",
        "                                  include_metadata=True)\n",
        "    # Then get the actual text\n",
        "    texts = [r['metadata']['text'] for r in retrieved_docs['matches']]\n",
        "    return \"\\n\".join(texts)"
      ],
      "metadata": {
        "id": "iL3Jpva2mIdk"
      },
      "execution_count": null,
      "outputs": []
    },
    {
      "cell_type": "code",
      "source": [
        "def RAG_pinecone_response(query, top_k=3):\n",
        "    # Retrieve context\n",
        "    context = dense_retriever(query, top_k)\n",
        "\n",
        "    # Augmented prompt\n",
        "    prompt = f'''<question>{query}</question>\n",
        "    Use contexts in <context> tags to answr the question.\n",
        "    <context>{context}</context>'''\n",
        "\n",
        "    # Generate\n",
        "    response = generate(prompt)\n",
        "\n",
        "    # printing out\n",
        "    print('Query:', query)\n",
        "    print('Retrieved documents:', text)\n",
        "    print('\\nResponse:', response)\n",
        "\n",
        "query = 'Can you tell me about the data science class?'\n",
        "RAG_pinecone_response(query)"
      ],
      "metadata": {
        "id": "llnGF5A5Kd4d",
        "colab": {
          "base_uri": "https://localhost:8080/"
        },
        "outputId": "90dfb507-1eaa-46cd-c8c7-d3f20e5a8134"
      },
      "execution_count": null,
      "outputs": [
        {
          "output_type": "stream",
          "name": "stdout",
          "text": [
            "Query: Can you tell me about the data science class?\n",
            "Retrieved documents: ['SF251 Introduction to Data Science: Learning the foundational principles of data science and data mining through an in-depth examination of the data science lifecycle. This comprehensive course delves into each important steps, beginning with a comprehension of problem formulation tailored to the specific needs and objectives of businesses. Learners will engage in data mining methodologies, including processes of data extraction, transformation, and integration. Moreover, an analysis of data quality and refinement techniques will be undertaken to ensure the integrity and reliability of datasets. Furthermore, learners will explore the complexities of feature engineering, unraveling intricate relationships and patterns within the data domain. Leveraging state-of-the-art machine learning algorithms, learners will delve into predictive analytics, forecasting future trends and behaviors with precision and accuracy. Additionally, the course will emphasize the art of data presentations, enabling participants to effectively communicate analytical insights to diverse stakeholders.', 'SF231 Data Structures and Algorithms: Introduction to data structures and algorithms, algorithm analysis, arrays and linked lists, stacks, queues, priority queues, heaps, binary trees, binary search trees, AVL trees, other variations in trees, hashing, sorting, graph algorithms, algorithm design techniques, online judges and algorithm competitions.', 'SF211 Object-Oriented Programming: Introduction to object-oriented programming. Class, Object, Encapsulation, Inheritance, Polymorphism, and Abstraction.']\n",
            "\n",
            "Response: I'm sorry, but I cannot answer your question about the data science class because no context has been provided. Please provide the relevant information enclosed in `<context>` tags so I can help you.\n"
          ]
        }
      ]
    },
    {
      "cell_type": "markdown",
      "source": [
        "## Demo 5: Hybrid Search with Pinecone\n",
        "\n",
        "- Maintaining two vector databases: one sparse and one dense (from earlier)"
      ],
      "metadata": {
        "id": "HmdkTIl-DZRq"
      }
    },
    {
      "cell_type": "markdown",
      "source": [
        "### Sprase database"
      ],
      "metadata": {
        "id": "1MVkbR0M2lKF"
      }
    },
    {
      "cell_type": "code",
      "source": [
        "from pinecone import Pinecone, ServerlessSpec\n",
        "\n",
        "index_name = \"test-sparse-search\"\n",
        "\n",
        "if not pinecone.has_index(index_name):\n",
        "    pinecone.create_index(\n",
        "        name=index_name,\n",
        "        vector_type=\"sparse\",\n",
        "        metric=\"dotproduct\",\n",
        "        spec=ServerlessSpec(cloud=\"aws\", region=\"us-east-1\")\n",
        "    )\n",
        "\n",
        "sparse_index = pinecone.Index(index_name)\n",
        "print(sparse_index)"
      ],
      "metadata": {
        "colab": {
          "base_uri": "https://localhost:8080/"
        },
        "id": "g4Nx-c34Dbh9",
        "outputId": "a3460003-6187-4548-a4ba-686cb569200f"
      },
      "execution_count": null,
      "outputs": [
        {
          "output_type": "stream",
          "name": "stdout",
          "text": [
            "<pinecone.db_data.index.Index object at 0x7aefdc1be8d0>\n"
          ]
        }
      ]
    },
    {
      "cell_type": "code",
      "source": [
        "sparse_embeddings = pinecone.inference.embed(\n",
        "    model=\"pinecone-sparse-english-v0\",\n",
        "    inputs=[d for d in documents],\n",
        "    parameters={\"input_type\": \"passage\", \"truncate\": \"END\"}\n",
        ")\n",
        "print(sparse_embeddings)"
      ],
      "metadata": {
        "id": "btAnYGdtolqY"
      },
      "execution_count": null,
      "outputs": []
    },
    {
      "cell_type": "markdown",
      "source": [
        "https://github.com/pinecone-io/pinecone-text"
      ],
      "metadata": {
        "id": "gUAcvYfczisY"
      }
    },
    {
      "cell_type": "code",
      "source": [
        "from pinecone_text.sparse import BM25Encoder\n",
        "\n",
        "# Initialize BM25 and fit the corpus\n",
        "bm25 = BM25Encoder()\n",
        "bm25.fit(documents)\n",
        "\n",
        "# Encode a new document (for upsert to Pinecone index)\n",
        "\n",
        "sparse_embeddings = [bm25.encode_documents(d) for d in documents]\n",
        "\n",
        "print(sparse_embeddings)"
      ],
      "metadata": {
        "id": "WMgF8H_powmS"
      },
      "execution_count": null,
      "outputs": []
    },
    {
      "cell_type": "code",
      "source": [
        "sparse_records = []\n",
        "for x in range(len(documents)):\n",
        "  record = {\n",
        "      'id': str(x),\n",
        "      'sparse_values': sparse_embeddings[x],\n",
        "      'metadata': {\n",
        "          'text': documents[x]\n",
        "      }\n",
        "  }\n",
        "  sparse_records.append(record)\n",
        "sparse_index.upsert(vectors = sparse_records)"
      ],
      "metadata": {
        "colab": {
          "base_uri": "https://localhost:8080/"
        },
        "id": "oJmEWhWF07M5",
        "outputId": "e9269d19-4073-4d4b-cb5e-6365e61addae"
      },
      "execution_count": null,
      "outputs": [
        {
          "output_type": "execute_result",
          "data": {
            "text/plain": [
              "{'upserted_count': 10}"
            ]
          },
          "metadata": {},
          "execution_count": 44
        }
      ]
    },
    {
      "cell_type": "code",
      "source": [
        "query = \"Can you tell me about the data science class?\"\n",
        "encoded_query = bm25.encode_queries(query)\n",
        "retrieved_docs = sparse_index.query(sparse_vector = encoded_query,\n",
        "                                    top_k=3,\n",
        "                                    include_metadata=True)\n",
        "print(retrieved_docs)"
      ],
      "metadata": {
        "id": "hXnp2wfFzj8J"
      },
      "execution_count": null,
      "outputs": []
    },
    {
      "cell_type": "code",
      "source": [
        "def sparse_search(query, top_k=3):\n",
        "    encoded_query = bm25.encode_queries(\"Can you tell me about the data science class?\")\n",
        "    retrieved_docs = sparse_index.query(sparse_vector = encoded_query,\n",
        "                                    top_k=3,\n",
        "                                    include_metadata=True)\n",
        "    # Then get the actual text\n",
        "    return retrieved_docs\n",
        "\n",
        "sparse_search(query)"
      ],
      "metadata": {
        "colab": {
          "base_uri": "https://localhost:8080/"
        },
        "id": "XJSg1yHj5D-I",
        "outputId": "94aa3298-d33d-4d90-b6ac-2a63bb10f5d0"
      },
      "execution_count": null,
      "outputs": [
        {
          "output_type": "execute_result",
          "data": {
            "text/plain": [
              "{'matches': [{'id': '8',\n",
              "              'metadata': {'text': 'SF251 Introduction to Data Science: '\n",
              "                                   'Learning the foundational principles of '\n",
              "                                   'data science and data mining through an '\n",
              "                                   'in-depth examination of the data science '\n",
              "                                   'lifecycle. This comprehensive course '\n",
              "                                   'delves into each important steps, '\n",
              "                                   'beginning with a comprehension of problem '\n",
              "                                   'formulation tailored to the specific needs '\n",
              "                                   'and objectives of businesses. Learners '\n",
              "                                   'will engage in data mining methodologies, '\n",
              "                                   'including processes of data extraction, '\n",
              "                                   'transformation, and integration. Moreover, '\n",
              "                                   'an analysis of data quality and refinement '\n",
              "                                   'techniques will be undertaken to ensure '\n",
              "                                   'the integrity and reliability of datasets. '\n",
              "                                   'Furthermore, learners will explore the '\n",
              "                                   'complexities of feature engineering, '\n",
              "                                   'unraveling intricate relationships and '\n",
              "                                   'patterns within the data domain. '\n",
              "                                   'Leveraging state-of-the-art machine '\n",
              "                                   'learning algorithms, learners will delve '\n",
              "                                   'into predictive analytics, forecasting '\n",
              "                                   'future trends and behaviors with precision '\n",
              "                                   'and accuracy. Additionally, the course '\n",
              "                                   'will emphasize the art of data '\n",
              "                                   'presentations, enabling participants to '\n",
              "                                   'effectively communicate analytical '\n",
              "                                   'insights to diverse stakeholders.'},\n",
              "              'score': 0.278953314,\n",
              "              'values': []},\n",
              "             {'id': '1',\n",
              "              'metadata': {'text': 'SF211 Object-Oriented Programming: '\n",
              "                                   'Introduction to object-oriented '\n",
              "                                   'programming. Class, Object, Encapsulation, '\n",
              "                                   'Inheritance, Polymorphism, and '\n",
              "                                   'Abstraction.'},\n",
              "              'score': 0.177155271,\n",
              "              'values': []},\n",
              "             {'id': '0',\n",
              "              'metadata': {'text': 'CN101 Introduction to Computer '\n",
              "                                   'Programming: Basic concepts of computer '\n",
              "                                   'systems, electronic data processing and '\n",
              "                                   'concepts, system and application software, '\n",
              "                                   'algorithms, flowcharts, data '\n",
              "                                   'representation, program design and '\n",
              "                                   'development methodology, and '\n",
              "                                   'problem-solving using high-level language '\n",
              "                                   'programming (Python).'},\n",
              "              'score': 0.108107492,\n",
              "              'values': []}],\n",
              " 'namespace': '',\n",
              " 'usage': {}}"
            ]
          },
          "metadata": {},
          "execution_count": 61
        }
      ]
    },
    {
      "cell_type": "code",
      "source": [
        "def dense_search(query, top_k=3):\n",
        "    # First embedding your query\n",
        "    embed_query = model.encode(query).tolist()\n",
        "    # Then retrieve the document\n",
        "    retrieved_docs =  dense_index.query(vector=embed_query,\n",
        "                                  top_k=top_k,\n",
        "                                  include_metadata=True)\n",
        "    return retrieved_docs\n",
        "\n",
        "dense_search(query)"
      ],
      "metadata": {
        "id": "HKc42-Ow5yjt"
      },
      "execution_count": null,
      "outputs": []
    },
    {
      "cell_type": "markdown",
      "source": [
        "### Merge sparse and dense\n",
        "- The code below simply merge the two and remove the duplication.\n",
        "- Then we use a reranker to predict the top-k\n",
        "- Alternatively, we can use Recipocal Rank Fusion as discussed in class."
      ],
      "metadata": {
        "id": "-pHyCSHG3l-q"
      }
    },
    {
      "cell_type": "code",
      "source": [
        "def merge_chunks(h1, h2):\n",
        "    \"\"\"Get the unique hits from two search results and return them as single array of {'_id', 'chunk_text'} dicts, printing each dict on a new line.\"\"\"\n",
        "    # Deduplicate by id\n",
        "    deduped_hits = {hit['id']: hit for hit in h1['matches'] + h2['matches']}.values()\n",
        "    # Sort by score descending\n",
        "    sorted_hits = sorted(deduped_hits, key=lambda x: x['score'], reverse=True)\n",
        "    # Transform to format for reranking\n",
        "    result = [{'_id': hit['id'], 'chunk_text': hit['metadata']['text']} for hit in sorted_hits]\n",
        "    return result\n",
        "\n",
        "sparse_results = sparse_search(query)\n",
        "dense_results = dense_search(query)\n",
        "\n",
        "merged_results = merge_chunks(sparse_results, dense_results)\n",
        "\n",
        "print('[\\n   ' + ',\\n   '.join(str(obj) for obj in merged_results) + '\\n]')"
      ],
      "metadata": {
        "colab": {
          "base_uri": "https://localhost:8080/"
        },
        "id": "OOLEMmvG3qhn",
        "outputId": "f18e4801-f5c0-4446-fbc7-5081a6d10b23"
      },
      "execution_count": null,
      "outputs": [
        {
          "output_type": "stream",
          "name": "stdout",
          "text": [
            "[\n",
            "   {'_id': '8', 'chunk_text': 'SF251 Introduction to Data Science: Learning the foundational principles of data science and data mining through an in-depth examination of the data science lifecycle. This comprehensive course delves into each important steps, beginning with a comprehension of problem formulation tailored to the specific needs and objectives of businesses. Learners will engage in data mining methodologies, including processes of data extraction, transformation, and integration. Moreover, an analysis of data quality and refinement techniques will be undertaken to ensure the integrity and reliability of datasets. Furthermore, learners will explore the complexities of feature engineering, unraveling intricate relationships and patterns within the data domain. Leveraging state-of-the-art machine learning algorithms, learners will delve into predictive analytics, forecasting future trends and behaviors with precision and accuracy. Additionally, the course will emphasize the art of data presentations, enabling participants to effectively communicate analytical insights to diverse stakeholders.'},\n",
            "   {'_id': '7', 'chunk_text': 'SF231 Data Structures and Algorithms: Introduction to data structures and algorithms, algorithm analysis, arrays and linked lists, stacks, queues, priority queues, heaps, binary trees, binary search trees, AVL trees, other variations in trees, hashing, sorting, graph algorithms, algorithm design techniques, online judges and algorithm competitions.'},\n",
            "   {'_id': '1', 'chunk_text': 'SF211 Object-Oriented Programming: Introduction to object-oriented programming. Class, Object, Encapsulation, Inheritance, Polymorphism, and Abstraction.'},\n",
            "   {'_id': '0', 'chunk_text': 'CN101 Introduction to Computer Programming: Basic concepts of computer systems, electronic data processing and concepts, system and application software, algorithms, flowcharts, data representation, program design and development methodology, and problem-solving using high-level language programming (Python).'}\n",
            "]\n"
          ]
        }
      ]
    },
    {
      "cell_type": "markdown",
      "source": [
        "### Reranking\n",
        "\n",
        "https://docs.pinecone.io/guides/search/rerank-results"
      ],
      "metadata": {
        "id": "MyFXmvOJ3pR-"
      }
    },
    {
      "cell_type": "code",
      "source": [
        "result = pinecone.inference.rerank(\n",
        "    model=\"bge-reranker-v2-m3\",\n",
        "    query=query,\n",
        "    documents=merged_results,\n",
        "    rank_fields=[\"chunk_text\"],\n",
        "    top_n=10,\n",
        "    return_documents=True,\n",
        "    parameters={\n",
        "        \"truncate\": \"END\"\n",
        "    }\n",
        ")\n",
        "\n",
        "print(\"Query\", query)\n",
        "print('-----')\n",
        "for row in result.data:\n",
        "    print(f\"{row['document']['_id']} - {round(row['score'], 2)} - {row['document']['chunk_text']}\")"
      ],
      "metadata": {
        "colab": {
          "base_uri": "https://localhost:8080/"
        },
        "id": "1J9LugEw3qVW",
        "outputId": "819b155e-dd98-426a-bcca-9c3887a559a5"
      },
      "execution_count": null,
      "outputs": [
        {
          "output_type": "stream",
          "name": "stdout",
          "text": [
            "Query Can you tell me about the data science class?\n",
            "-----\n",
            "8 - 0.35 - SF251 Introduction to Data Science: Learning the foundational principles of data science and data mining through an in-depth examination of the data science lifecycle. This comprehensive course delves into each important steps, beginning with a comprehension of problem formulation tailored to the specific needs and objectives of businesses. Learners will engage in data mining methodologies, including processes of data extraction, transformation, and integration. Moreover, an analysis of data quality and refinement techniques will be undertaken to ensure the integrity and reliability of datasets. Furthermore, learners will explore the complexities of feature engineering, unraveling intricate relationships and patterns within the data domain. Leveraging state-of-the-art machine learning algorithms, learners will delve into predictive analytics, forecasting future trends and behaviors with precision and accuracy. Additionally, the course will emphasize the art of data presentations, enabling participants to effectively communicate analytical insights to diverse stakeholders.\n",
            "7 - 0.01 - SF231 Data Structures and Algorithms: Introduction to data structures and algorithms, algorithm analysis, arrays and linked lists, stacks, queues, priority queues, heaps, binary trees, binary search trees, AVL trees, other variations in trees, hashing, sorting, graph algorithms, algorithm design techniques, online judges and algorithm competitions.\n",
            "0 - 0.0 - CN101 Introduction to Computer Programming: Basic concepts of computer systems, electronic data processing and concepts, system and application software, algorithms, flowcharts, data representation, program design and development methodology, and problem-solving using high-level language programming (Python).\n",
            "1 - 0.0 - SF211 Object-Oriented Programming: Introduction to object-oriented programming. Class, Object, Encapsulation, Inheritance, Polymorphism, and Abstraction.\n"
          ]
        }
      ]
    }
  ]
}