{
  "nbformat": 4,
  "nbformat_minor": 0,
  "metadata": {
    "colab": {
      "provenance": [],
      "authorship_tag": "ABX9TyNNvdlJMAR1CA5RjiAygg2N",
      "include_colab_link": true
    },
    "kernelspec": {
      "name": "python3",
      "display_name": "Python 3"
    },
    "language_info": {
      "name": "python"
    }
  },
  "cells": [
    {
      "cell_type": "markdown",
      "metadata": {
        "id": "view-in-github",
        "colab_type": "text"
      },
      "source": [
        "<a href=\"https://colab.research.google.com/github/yongsa-nut/SF323_CN408_AIEngineer/blob/main/SF323_CN408_Tool_Use_demo.ipynb\" target=\"_parent\"><img src=\"https://colab.research.google.com/assets/colab-badge.svg\" alt=\"Open In Colab\"/></a>"
      ]
    },
    {
      "cell_type": "markdown",
      "source": [
        "# Tool Use Demo"
      ],
      "metadata": {
        "id": "Xy_a8FJ3z6DY"
      }
    },
    {
      "cell_type": "markdown",
      "source": [
        "## 0. Setting up"
      ],
      "metadata": {
        "id": "JfN0V8gnpFEP"
      }
    },
    {
      "cell_type": "code",
      "execution_count": null,
      "metadata": {
        "id": "EAK0ggZsokP2"
      },
      "outputs": [],
      "source": [
        "from openai import OpenAI\n",
        "from google.colab import userdata\n",
        "import json\n",
        "\n",
        "client = OpenAI(\n",
        "  base_url=\"https://openrouter.ai/api/v1\",\n",
        "  api_key=userdata.get('openrouter'),\n",
        ")"
      ]
    },
    {
      "cell_type": "code",
      "source": [
        "completion = client.chat.completions.create(\n",
        "  model=\"google/gemini-2.5-flash-lite\",\n",
        "  messages=[\n",
        "    {\n",
        "      \"role\": \"user\",\n",
        "      \"content\": \"Hello\"\n",
        "    }\n",
        "  ]\n",
        ")\n",
        "print(completion.choices[0].message.content)"
      ],
      "metadata": {
        "colab": {
          "base_uri": "https://localhost:8080/"
        },
        "id": "nwzV801ApElk",
        "outputId": "4348f56e-1aaa-4ee1-9b1a-e43f278f0566"
      },
      "execution_count": null,
      "outputs": [
        {
          "output_type": "stream",
          "name": "stdout",
          "text": [
            "Hello! How can I help you today?\n"
          ]
        }
      ]
    },
    {
      "cell_type": "markdown",
      "source": [
        "Asking a question about info that models don't know"
      ],
      "metadata": {
        "id": "BEojVGZIqq_D"
      }
    },
    {
      "cell_type": "code",
      "source": [
        "completion = client.chat.completions.create(\n",
        "  model=\"google/gemini-2.5-flash-lite\",\n",
        "  messages=[\n",
        "    {\n",
        "      \"role\": \"user\",\n",
        "      \"content\": \"What is a current temperature in Bangkok?\"\n",
        "    }\n",
        "  ]\n",
        ")\n",
        "print(completion.choices[0].message.content)"
      ],
      "metadata": {
        "colab": {
          "base_uri": "https://localhost:8080/"
        },
        "id": "pF1Cjug2qlIk",
        "outputId": "801d830f-9048-40fe-9031-f0e5314f761e"
      },
      "execution_count": null,
      "outputs": [
        {
          "output_type": "stream",
          "name": "stdout",
          "text": [
            "I cannot provide real-time, current weather information. My knowledge cutoff is **June 2024**, and dynamic data like live temperatures is outside of that scope.\n",
            "\n",
            "To get the current temperature in Bangkok, you can check a reliable weather source such as:\n",
            "\n",
            "*   **Weather websites:** AccuWeather, The Weather Channel, BBC Weather, etc.\n",
            "*   **Your smartphone's built-in weather app.**\n",
            "*   **A quick Google search for \"temperature Bangkok\".**\n"
          ]
        }
      ]
    },
    {
      "cell_type": "markdown",
      "source": [
        "## 1. Tool Use (Function Calling)"
      ],
      "metadata": {
        "id": "3V9jAQC3qkS3"
      }
    },
    {
      "cell_type": "markdown",
      "source": [
        "Openrouter Tool Calling: https://openrouter.ai/docs/features/tool-calling\n",
        "\n",
        "See also: https://platform.openai.com/docs/guides/function-calling?api-mode=chat\n",
        "\n",
        "**Key idea**: The model calls tools by outputing tool names and arguments. Dev then run the tools with those arguments and add the tool results back to the model.\n",
        "\n",
        "**Note**: Some models on openrouter may not have providers allow tool calling (e.g. Qwen3-8b)\n",
        "\n",
        "**Note 2**: Under the hood, functions are injected into the system message in a syntax the model has been trained on. This means functions count against the model's context limit and are billed as input tokens."
      ],
      "metadata": {
        "id": "P-yI74V2rirO"
      }
    },
    {
      "cell_type": "markdown",
      "source": [
        "### Weather Tool"
      ],
      "metadata": {
        "id": "KAPZgbz6twau"
      }
    },
    {
      "cell_type": "markdown",
      "source": [
        "Define the weather tool"
      ],
      "metadata": {
        "id": "9MnJ2GlbrwCT"
      }
    },
    {
      "cell_type": "code",
      "source": [
        "weather_tools = [{\n",
        "    \"type\": \"function\",\n",
        "    \"function\": {\n",
        "        \"name\": \"get_weather\",\n",
        "        \"description\": \"Get current temperature (Celcius) for a given location.\",\n",
        "        \"parameters\": {\n",
        "            \"type\": \"object\",\n",
        "            \"properties\": {\n",
        "                \"location\": {\n",
        "                    \"type\": \"string\",\n",
        "                    \"description\": \"City or Country e.g. New York, Colombia, France\"\n",
        "                }\n",
        "            },\n",
        "            \"required\": [\"location\"]\n",
        "        }\n",
        "    }\n",
        "}]"
      ],
      "metadata": {
        "id": "OUp1Ss18rhQo"
      },
      "execution_count": null,
      "outputs": []
    },
    {
      "cell_type": "markdown",
      "source": [
        "Create ad-hoc `get_weather` function"
      ],
      "metadata": {
        "id": "clCsf4NEtM6k"
      }
    },
    {
      "cell_type": "code",
      "source": [
        "def get_weather(city):\n",
        "  return 32"
      ],
      "metadata": {
        "id": "maPLGw5utS3F"
      },
      "execution_count": null,
      "outputs": []
    },
    {
      "cell_type": "markdown",
      "source": [
        "Test the tool"
      ],
      "metadata": {
        "id": "vC-bSsffttKQ"
      }
    },
    {
      "cell_type": "code",
      "source": [
        "messages = [\n",
        "    {\n",
        "      \"role\": \"user\",\n",
        "      \"content\": \"What is a current temperature in Bangkok?\"\n",
        "    }\n",
        "]\n",
        "\n",
        "completion = client.chat.completions.create(\n",
        "    model = \"google/gemini-2.5-flash-lite\",\n",
        "    tools = weather_tools,                                      # Add tools\n",
        "    messages = messages\n",
        ")\n",
        "print(completion.choices[0].message.content)"
      ],
      "metadata": {
        "colab": {
          "base_uri": "https://localhost:8080/"
        },
        "id": "qha8H-7rtuT3",
        "outputId": "da7cd1ed-200c-4164-b73e-6d57e337f49d"
      },
      "execution_count": null,
      "outputs": [
        {
          "output_type": "stream",
          "name": "stdout",
          "text": [
            "\n"
          ]
        }
      ]
    },
    {
      "cell_type": "markdown",
      "source": [
        "Check the finish reason"
      ],
      "metadata": {
        "id": "Ae3Cof9ov4rg"
      }
    },
    {
      "cell_type": "code",
      "source": [
        "print(completion.choices[0])"
      ],
      "metadata": {
        "colab": {
          "base_uri": "https://localhost:8080/"
        },
        "id": "ZoZZENRtuyEA",
        "outputId": "4c664796-b5d5-46e9-ae98-50bd8dcbe509"
      },
      "execution_count": null,
      "outputs": [
        {
          "output_type": "stream",
          "name": "stdout",
          "text": [
            "Choice(finish_reason='tool_calls', index=0, logprobs=None, message=ChatCompletionMessage(content='', refusal=None, role='assistant', annotations=None, audio=None, function_call=None, tool_calls=[ChatCompletionMessageToolCall(id='tool_0_get_weather', function=Function(arguments='{\"location\":\"Bangkok\"}', name='get_weather'), type='function', index=0)], reasoning=None), native_finish_reason='STOP')\n"
          ]
        }
      ]
    },
    {
      "cell_type": "markdown",
      "source": [
        "Get the argument"
      ],
      "metadata": {
        "id": "RlWk3L3DwGOI"
      }
    },
    {
      "cell_type": "code",
      "source": [
        "print(completion.choices[0].message.tool_calls[0].function.arguments)"
      ],
      "metadata": {
        "colab": {
          "base_uri": "https://localhost:8080/"
        },
        "id": "5nZJTWOXvBUj",
        "outputId": "6657d4c4-351c-47ed-b3a6-f9b640f0189e"
      },
      "execution_count": null,
      "outputs": [
        {
          "output_type": "stream",
          "name": "stdout",
          "text": [
            "{\"location\":\"Bangkok\"}\n"
          ]
        }
      ]
    },
    {
      "cell_type": "markdown",
      "source": [
        "Call the tool and append back the tool result"
      ],
      "metadata": {
        "id": "0CIf8xeVwLnx"
      }
    },
    {
      "cell_type": "code",
      "source": [
        "# Call our function\n",
        "tool_call = completion.choices[0].message.tool_calls[0]\n",
        "arguments = json.loads(tool_call.function.arguments)\n",
        "result = get_weather(arguments['location'])  # our function\n",
        "\n",
        "# First append the tool calling message\n",
        "messages.append(completion.choices[0].message)  # tool calling\n",
        "# Then append the tool result\n",
        "messages.append({                               # append result message\n",
        "    \"role\": \"tool\",\n",
        "    \"tool_call_id\": tool_call.id,\n",
        "    \"content\": str(result)\n",
        "})\n",
        "\n",
        "# Call the model with everything\n",
        "completion_2 = client.chat.completions.create(\n",
        "    model=\"google/gemini-2.5-flash-lite\",\n",
        "    messages=messages,\n",
        "    tools=weather_tools,\n",
        ")\n",
        "print(completion_2.choices[0].message.content)"
      ],
      "metadata": {
        "colab": {
          "base_uri": "https://localhost:8080/"
        },
        "id": "MGj0RZKtwYy-",
        "outputId": "8afaca12-6654-4e8f-8b8a-d3d10e49d408"
      },
      "execution_count": null,
      "outputs": [
        {
          "output_type": "stream",
          "name": "stdout",
          "text": [
            "The current temperature in Bangkok is 32°C.\n"
          ]
        }
      ]
    },
    {
      "cell_type": "code",
      "source": [
        "print(completion_2.choices[0])"
      ],
      "metadata": {
        "colab": {
          "base_uri": "https://localhost:8080/"
        },
        "id": "10_CZfpRyNN4",
        "outputId": "75a0a851-c7f3-4c7a-bf78-6e5904d60498"
      },
      "execution_count": null,
      "outputs": [
        {
          "output_type": "stream",
          "name": "stdout",
          "text": [
            "Choice(finish_reason='stop', index=0, logprobs=None, message=ChatCompletionMessage(content='The current temperature in Bangkok is 32 degrees Celsius.', refusal=None, role='assistant', annotations=None, audio=None, function_call=None, tool_calls=None, reasoning=None), native_finish_reason='STOP')\n"
          ]
        }
      ]
    },
    {
      "cell_type": "markdown",
      "source": [
        "Put everything together"
      ],
      "metadata": {
        "id": "EBsC_RqTwH_v"
      }
    },
    {
      "cell_type": "code",
      "source": [
        "# Complete one step\n",
        "messages = [\n",
        "    {\n",
        "      \"role\": \"user\",\n",
        "      \"content\": \"What is a current temperature in Bangkok?\"  # Test with multiple cities (flash-lite can't handle multiple function calling)\n",
        "    }\n",
        "]\n",
        "\n",
        "# 1. User's query\n",
        "completion = client.chat.completions.create(\n",
        "    model = \"google/gemini-2.5-flash\",\n",
        "    tools = weather_tools,                          # Add tools\n",
        "    messages = messages\n",
        ")\n",
        "\n",
        "if completion.choices[0].finish_reason == 'tool_calls':\n",
        "\n",
        "    # 2. Get the tool call\n",
        "    tool_calls = completion.choices[0].message.tool_calls\n",
        "    # Don't forget to add the message back!!\n",
        "    messages.append(completion.choices[0].message)\n",
        "\n",
        "    # 3. Run the tools\n",
        "    for tool_call in tool_calls:\n",
        "        arguments = json.loads(tool_call.function.arguments)\n",
        "        result = get_weather(arguments['location'])\n",
        "\n",
        "        # 4. Add the results back\n",
        "        messages.append({\n",
        "            \"role\": \"tool\",\n",
        "            \"tool_call_id\": tool_call.id,\n",
        "            \"name\":tool_call.function.name,\n",
        "            \"content\": str(result),\n",
        "        })\n",
        "\n",
        "    # 5. Call the model with everything\n",
        "    completion_2 = client.chat.completions.create(\n",
        "        model=\"google/gemini-2.5-flash\",\n",
        "        messages=messages,\n",
        "        tools=weather_tools,\n",
        "    )\n",
        "    print(completion_2.choices[0].message.content)"
      ],
      "metadata": {
        "colab": {
          "base_uri": "https://localhost:8080/"
        },
        "id": "f9I5lRtpwJvX",
        "outputId": "668a47c4-eabc-4b0b-ae4f-7577290d3cca"
      },
      "execution_count": null,
      "outputs": [
        {
          "output_type": "stream",
          "name": "stdout",
          "text": [
            "The current temperature in Bangkok is 32 Celsius.\n"
          ]
        }
      ]
    },
    {
      "cell_type": "code",
      "source": [
        "tool_calls"
      ],
      "metadata": {
        "colab": {
          "base_uri": "https://localhost:8080/"
        },
        "id": "jzCWs37EOYHr",
        "outputId": "c068ab9d-fc41-474d-d865-68b82021369c"
      },
      "execution_count": null,
      "outputs": [
        {
          "output_type": "execute_result",
          "data": {
            "text/plain": [
              "[ChatCompletionMessageToolCall(id='tool_0_get_weather', function=Function(arguments='{\"location\":\"Bangkok\"}', name='get_weather'), type='function', index=0)]"
            ]
          },
          "metadata": {},
          "execution_count": 112
        }
      ]
    },
    {
      "cell_type": "markdown",
      "source": [
        "### Simple Customer Chatbot\n",
        "\n",
        "- Can look up customer information, retrieve order details, and cancel orders on behalf of the custome.\n",
        "\n"
      ],
      "metadata": {
        "id": "9QSEfY_JyTWM"
      }
    },
    {
      "cell_type": "markdown",
      "source": [
        "First, let's create functions"
      ],
      "metadata": {
        "id": "kIn1fK855ySO"
      }
    },
    {
      "cell_type": "code",
      "source": [
        "def get_customer_info(customer_id):\n",
        "    # Simulated customer data\n",
        "    customers = {\n",
        "        \"C1\": {\"name\": \"John Doe\", \"email\": \"john@example.com\", \"phone\": \"123-456-7890\"},\n",
        "        \"C2\": {\"name\": \"Jane Smith\", \"email\": \"jane@example.com\", \"phone\": \"987-654-3210\"}\n",
        "    }\n",
        "    return customers.get(customer_id, \"Customer not found\")\n",
        "\n",
        "def get_order_details(order_id):\n",
        "    # Simulated order data\n",
        "    orders = {\n",
        "        \"O1\": {\"id\": \"O1\", \"product\": \"Widget A\", \"quantity\": 2, \"price\": 19.99, \"status\": \"Shipped\"},\n",
        "        \"O2\": {\"id\": \"O2\", \"product\": \"Gadget B\", \"quantity\": 1, \"price\": 49.99, \"status\": \"Processing\"}\n",
        "    }\n",
        "    return orders.get(order_id, \"Order not found\")\n",
        "\n",
        "def cancel_order(order_id):\n",
        "    # Simulated order cancellation\n",
        "    if order_id in [\"O1\", \"O2\"]:\n",
        "        return True\n",
        "    else:\n",
        "        return False"
      ],
      "metadata": {
        "id": "hAKrObtVy-Sc"
      },
      "execution_count": null,
      "outputs": []
    },
    {
      "cell_type": "markdown",
      "source": [
        "Then, let define tools"
      ],
      "metadata": {
        "id": "FOmlJ8Kt53Hk"
      }
    },
    {
      "cell_type": "code",
      "source": [
        "customer_tools = [\n",
        "    {\n",
        "        \"type\": \"function\",\n",
        "        \"function\":{\n",
        "            \"name\": \"get_customer_info\",\n",
        "            \"description\": (\"Retrieves customer information based on their customer ID.\"\n",
        "                             \"Returns the customer's name, email, and phone number.\"),\n",
        "            \"parameters\": {\n",
        "                \"type\": \"object\",\n",
        "                \"properties\": {\n",
        "                    \"customer_id\": {\n",
        "                        \"type\": \"string\",\n",
        "                        \"description\": \"The unique identifier for the customer.\"\n",
        "                    }\n",
        "                },\n",
        "                \"required\": [\"customer_id\"]\n",
        "            }\n",
        "        }\n",
        "    },\n",
        "    {\n",
        "        \"type\": \"function\",\n",
        "        \"function\":{\n",
        "            \"name\": \"get_order_details\",\n",
        "            \"description\": (\"Retrieves the details of a specific order based on the order ID.\"\n",
        "                            \"Returns the order ID, product name, quantity, price, and order status.\"),\n",
        "            \"parameters\": {\n",
        "                \"type\": \"object\",\n",
        "                \"properties\": {\n",
        "                    \"order_id\": {\n",
        "                        \"type\": \"string\",\n",
        "                        \"description\": \"The unique identifier for the order.\"\n",
        "                    }\n",
        "                },\n",
        "                \"required\": [\"order_id\"]\n",
        "            }\n",
        "        }\n",
        "    },\n",
        "    {\n",
        "        \"type\": \"function\",\n",
        "        \"function\":{\n",
        "            \"name\": \"cancel_order\",\n",
        "            \"description\": (\"Cancels an order based on the provided order ID.\"\n",
        "                            \"Returns a confirmation message if the cancellation is successful.\"),\n",
        "            \"parameters\": {\n",
        "                \"type\": \"object\",\n",
        "                \"properties\": {\n",
        "                    \"order_id\": {\n",
        "                        \"type\": \"string\",\n",
        "                        \"description\": \"The unique identifier for the order to be cancelled.\"\n",
        "                    }\n",
        "                },\n",
        "                \"required\": [\"order_id\"]\n",
        "            }\n",
        "        }\n",
        "    }\n",
        "]"
      ],
      "metadata": {
        "id": "FHSkd5Sx543V"
      },
      "execution_count": null,
      "outputs": []
    },
    {
      "cell_type": "markdown",
      "source": [
        "Helper function"
      ],
      "metadata": {
        "id": "2Qg7vX1b59i6"
      }
    },
    {
      "cell_type": "code",
      "source": [
        "# a function to process the tool calls made by Claude and return the appropriate results\n",
        "def process_tool_call(tool_name, tool_input):\n",
        "    if tool_name == \"get_customer_info\":\n",
        "        return get_customer_info(tool_input[\"customer_id\"])\n",
        "    elif tool_name == \"get_order_details\":\n",
        "        return get_order_details(tool_input[\"order_id\"])\n",
        "    elif tool_name == \"cancel_order\":\n",
        "        return cancel_order(tool_input[\"order_id\"])"
      ],
      "metadata": {
        "id": "bvKWnyia5-p5"
      },
      "execution_count": null,
      "outputs": []
    },
    {
      "cell_type": "markdown",
      "source": [
        "The main chatbot"
      ],
      "metadata": {
        "id": "J9YPBQgJ6BnL"
      }
    },
    {
      "cell_type": "code",
      "source": [
        "import json\n",
        "\n",
        "def chatbot_interaction(user_message, model=\"google/gemini-2.5-flash-lite\"):\n",
        "    print(f\"\\n{'='*50}\\nUser Message: {user_message}\\n{'='*50}\")\n",
        "\n",
        "    messages = [\n",
        "        {\"role\": \"system\", \"content\":\"You are a helpful customer support agent. You must use tools to answer questions.\"},\n",
        "        {\"role\": \"user\", \"content\": user_message}\n",
        "    ]\n",
        "    # Get the initial response\n",
        "    response = client.chat.completions.create(\n",
        "        model=model,\n",
        "        messages=messages,                  # Message history\n",
        "        tools=customer_tools,                        # Tool\n",
        "        temperature = 1                     # set temp = 0 so that's the answer is mostly deterministic\n",
        "    )\n",
        "    llm_response = response.choices[0].message\n",
        "    print(f\"\\nInitial Response:\")\n",
        "    print(f\"Content: {llm_response}\")\n",
        "\n",
        "    if response.choices[0].finish_reason == 'tool_calls':\n",
        "        messages.append(llm_response) # LLM response including tool call message\n",
        "        for tool_call in llm_response.tool_calls:\n",
        "\n",
        "            # Obtain the name and arguments from tool call message\n",
        "            tool_name = tool_call.function.name\n",
        "            tool_arguments = json.loads(tool_call.function.arguments)\n",
        "            print(f\"\\nTool Used: {tool_name}\")\n",
        "            print(f\"Tool arguments:\")\n",
        "            print(tool_arguments)\n",
        "\n",
        "            tool_result = process_tool_call(tool_name, tool_arguments)\n",
        "            print(f\"\\nTool Result:\")\n",
        "            print(tool_result)\n",
        "\n",
        "            # Construct tool result messages\n",
        "            tool_result = {\n",
        "                \"role\" : \"tool\",\n",
        "                \"tool_call_id\": tool_call.id,\n",
        "                \"name\":tool_name,\n",
        "                \"content\" : str(tool_result)\n",
        "            }\n",
        "\n",
        "            # Add tool call and tool result to messages\n",
        "            messages.append(tool_result)\n",
        "\n",
        "        print(f'\\nFinal Response: ')\n",
        "        response = client.chat.completions.create(\n",
        "                model=model,\n",
        "                messages=messages,\n",
        "                tools=customer_tools,\n",
        "            )\n",
        "        print(response.choices[0].message.content)"
      ],
      "metadata": {
        "id": "qQIZL9mq6DOM"
      },
      "execution_count": null,
      "outputs": []
    },
    {
      "cell_type": "code",
      "source": [
        "chatbot_interaction(\"Can you tell me the email address for customer C1?\")"
      ],
      "metadata": {
        "id": "AOwHrVur7ewM"
      },
      "execution_count": null,
      "outputs": []
    },
    {
      "cell_type": "code",
      "source": [
        "chatbot_interaction(\"What is the status of order O2?\")"
      ],
      "metadata": {
        "id": "qf4iAW7D7fUU"
      },
      "execution_count": null,
      "outputs": []
    },
    {
      "cell_type": "code",
      "source": [
        "chatbot_interaction(\"Please cancel order O1 for me.\")"
      ],
      "metadata": {
        "id": "Yrxu3-My7hgx"
      },
      "execution_count": null,
      "outputs": []
    },
    {
      "cell_type": "markdown",
      "source": [
        "## 2. Multiple tool uses"
      ],
      "metadata": {
        "id": "wqB5fN3ZAbtm"
      }
    },
    {
      "cell_type": "markdown",
      "source": [
        "### Calendar Bot\n",
        "\n",
        "Three tools:\n",
        "- `get_current_datetime`: Get the current date time\n",
        "- `add_duration_to_datetime`: Add duration to date time\n",
        "- `set_reminder`:  Set a reminder"
      ],
      "metadata": {
        "id": "rUznN1Sr1DOw"
      }
    },
    {
      "cell_type": "code",
      "source": [
        "# @title Functions\n",
        "\n",
        "from datetime import datetime, timedelta\n",
        "\n",
        "def get_current_datetime(date_format=\"%Y-%m-%d %H:%M:%S\"):\n",
        "    if not date_format:\n",
        "        raise ValueError(\"date_format cannot be empty\")\n",
        "    return datetime.now().strftime(date_format)\n",
        "\n",
        "def add_duration_to_datetime(\n",
        "    datetime_str, duration=0, unit=\"days\", input_format=\"%Y-%m-%d\"\n",
        "):\n",
        "    date = datetime.strptime(datetime_str, input_format)\n",
        "\n",
        "    if unit == \"seconds\":\n",
        "        new_date = date + timedelta(seconds=duration)\n",
        "    elif unit == \"minutes\":\n",
        "        new_date = date + timedelta(minutes=duration)\n",
        "    elif unit == \"hours\":\n",
        "        new_date = date + timedelta(hours=duration)\n",
        "    elif unit == \"days\":\n",
        "        new_date = date + timedelta(days=duration)\n",
        "    elif unit == \"weeks\":\n",
        "        new_date = date + timedelta(weeks=duration)\n",
        "    elif unit == \"months\":\n",
        "        month = date.month + duration\n",
        "        year = date.year + month // 12\n",
        "        month = month % 12\n",
        "        if month == 0:\n",
        "            month = 12\n",
        "            year -= 1\n",
        "        day = min(\n",
        "            date.day,\n",
        "            [\n",
        "                31,\n",
        "                29\n",
        "                if year % 4 == 0 and (year % 100 != 0 or year % 400 == 0)\n",
        "                else 28,\n",
        "                31,\n",
        "                30,\n",
        "                31,\n",
        "                30,\n",
        "                31,\n",
        "                31,\n",
        "                30,\n",
        "                31,\n",
        "                30,\n",
        "                31,\n",
        "            ][month - 1],\n",
        "        )\n",
        "        new_date = date.replace(year=year, month=month, day=day)\n",
        "    elif unit == \"years\":\n",
        "        new_date = date.replace(year=date.year + duration)\n",
        "    else:\n",
        "        raise ValueError(f\"Unsupported time unit: {unit}\")\n",
        "\n",
        "    return new_date.strftime(\"%A, %B %d, %Y %I:%M:%S %p\")\n",
        "\n",
        "\n",
        "def set_reminder(content, timestamp):\n",
        "    print(\n",
        "        f\"----\\nSetting the following reminder for {timestamp}:\\n{content}\\n----\"\n",
        "    )"
      ],
      "metadata": {
        "id": "jNp-ljgE1L7D",
        "cellView": "form"
      },
      "execution_count": null,
      "outputs": []
    },
    {
      "cell_type": "code",
      "source": [
        "# @title Function Schemas\n",
        "\n",
        "add_duration_to_datetime_schema = {\n",
        "    \"type\": \"function\",\n",
        "    \"function\":{\n",
        "        \"name\": \"add_duration_to_datetime\",\n",
        "        \"description\": \"Adds a specified duration to a datetime string and returns the resulting datetime in a detailed format. This tool converts an input datetime string to a Python datetime object, adds the specified duration in the requested unit, and returns a formatted string of the resulting datetime. It handles various time units including seconds, minutes, hours, days, weeks, months, and years, with special handling for month and year calculations to account for varying month lengths and leap years. The output is always returned in a detailed format that includes the day of the week, month name, day, year, and time with AM/PM indicator (e.g., 'Thursday, April 03, 2025 10:30:00 AM').\",\n",
        "        \"parameters\": {\n",
        "            \"type\": \"object\",\n",
        "            \"properties\": {\n",
        "                \"datetime_str\": {\n",
        "                    \"type\": \"string\",\n",
        "                    \"description\": \"The input datetime string to which the duration will be added. This should be formatted according to the input_format parameter.\",\n",
        "                },\n",
        "                \"duration\": {\n",
        "                    \"type\": \"number\",\n",
        "                    \"description\": \"The amount of time to add to the datetime. Can be positive (for future dates) or negative (for past dates). Defaults to 0.\",\n",
        "                },\n",
        "                \"unit\": {\n",
        "                    \"type\": \"string\",\n",
        "                    \"description\": \"The unit of time for the duration. Must be one of: 'seconds', 'minutes', 'hours', 'days', 'weeks', 'months', or 'years'. Defaults to 'days'.\",\n",
        "                },\n",
        "                \"input_format\": {\n",
        "                    \"type\": \"string\",\n",
        "                    \"description\": \"The format string for parsing the input datetime_str, using Python's strptime format codes. For example, '%Y-%m-%d' for ISO format dates like '2025-04-03'. Defaults to '%Y-%m-%d'.\",\n",
        "                },\n",
        "            },\n",
        "            \"required\": [\"datetime_str\"],\n",
        "        },\n",
        "    }\n",
        "}\n",
        "\n",
        "set_reminder_schema = {\n",
        "    \"type\": \"function\",\n",
        "    \"function\":{\n",
        "        \"name\": \"set_reminder\",\n",
        "        \"description\": \"Creates a timed reminder that will notify the user at the specified time with the provided content. This tool schedules a notification to be delivered to the user at the exact timestamp provided. It should be used when a user wants to be reminded about something specific at a future point in time. The reminder system will store the content and timestamp, then trigger a notification through the user's preferred notification channels (mobile alerts, email, etc.) when the specified time arrives. Reminders are persisted even if the application is closed or the device is restarted. Users can rely on this function for important time-sensitive notifications such as meetings, tasks, medication schedules, or any other time-bound activities.\",\n",
        "        \"parameters\": {\n",
        "            \"type\": \"object\",\n",
        "            \"properties\": {\n",
        "                \"content\": {\n",
        "                    \"type\": \"string\",\n",
        "                    \"description\": \"The message text that will be displayed in the reminder notification. This should contain the specific information the user wants to be reminded about, such as 'Take medication', 'Join video call with team', or 'Pay utility bills'.\",\n",
        "                },\n",
        "                \"timestamp\": {\n",
        "                    \"type\": \"string\",\n",
        "                    \"description\": \"The exact date and time when the reminder should be triggered, formatted as an ISO 8601 timestamp (YYYY-MM-DDTHH:MM:SS) or a Unix timestamp. The system handles all timezone processing internally, ensuring reminders are triggered at the correct time regardless of where the user is located. Users can simply specify the desired time without worrying about timezone configurations.\",\n",
        "                },\n",
        "            },\n",
        "            \"required\": [\"content\", \"timestamp\"],\n",
        "        },\n",
        "    }\n",
        "}\n",
        "\n",
        "get_current_datetime_schema = {\n",
        "    \"type\": \"function\",\n",
        "    \"function\":{\n",
        "        \"name\": \"get_current_datetime\",\n",
        "        \"description\": \"Returns the current date and time formatted according to the specified format string. This tool provides the current system time formatted as a string. Use this tool when you need to know the current date and time, such as for timestamping records, calculating time differences, or displaying the current time to users. The default format returns the date and time in ISO-like format (YYYY-MM-DD HH:MM:SS).\",\n",
        "        \"parameters\": {\n",
        "            \"type\": \"object\",\n",
        "            \"properties\": {\n",
        "                \"date_format\": {\n",
        "                    \"type\": \"string\",\n",
        "                    \"description\": \"A string specifying the format of the returned datetime. Uses Python's strftime format codes. For example, '%Y-%m-%d' returns just the date in YYYY-MM-DD format, '%H:%M:%S' returns just the time in HH:MM:SS format, '%B %d, %Y' returns a date like 'May 07, 2025'. The default is '%Y-%m-%d %H:%M:%S' which returns a complete timestamp like '2025-05-07 14:32:15'.\",\n",
        "                    \"default\": \"%Y-%m-%d %H:%M:%S\",\n",
        "                }\n",
        "            },\n",
        "            \"required\": [],\n",
        "        },\n",
        "    }\n",
        "}\n",
        "\n",
        "calendar_tools = [add_duration_to_datetime_schema, set_reminder_schema, get_current_datetime_schema]"
      ],
      "metadata": {
        "cellView": "form",
        "id": "9wpW26trbAiH"
      },
      "execution_count": null,
      "outputs": []
    },
    {
      "cell_type": "code",
      "source": [
        "# @title Tool running help Functions\n",
        "\n",
        "def run_tool(tool_name, tool_input):\n",
        "    if tool_name == \"get_current_datetime\":\n",
        "        return get_current_datetime(**tool_input)\n",
        "    elif tool_name == \"add_duration_to_datetime\":\n",
        "        return add_duration_to_datetime(**tool_input)\n",
        "    elif tool_name == \"set_reminder\":\n",
        "        return set_reminder(**tool_input)\n",
        "\n",
        "def run_tools(tool_calls):\n",
        "    tool_results = []\n",
        "    for tool_call in tool_calls:\n",
        "        try:\n",
        "            tool_name = tool_call.function.name\n",
        "            tool_arguments = json.loads(tool_call.function.arguments)\n",
        "            tool_result = run_tool(tool_name, tool_arguments)\n",
        "            tool_result = {\n",
        "                    \"role\" : \"tool\",\n",
        "                    \"tool_call_id\": tool_call.id,\n",
        "                    \"name\":tool_name,\n",
        "                    \"content\" : str(tool_result)\n",
        "            }\n",
        "        except Exception as e:\n",
        "            tool_result = {\n",
        "                    \"role\" : \"tool\",\n",
        "                    \"tool_call_id\": tool_call.id,\n",
        "                    \"name\":tool_name,\n",
        "                    \"content\" : f\"Error: {e}\",\n",
        "                     #\"is_error\": True,         # some provider accept this\n",
        "            }\n",
        "\n",
        "        tool_results.append(tool_result)\n",
        "\n",
        "    return tool_results"
      ],
      "metadata": {
        "id": "xLRSYdTNi0sF"
      },
      "execution_count": null,
      "outputs": []
    },
    {
      "cell_type": "markdown",
      "source": [
        "Here's what happens behind the scenes when a model needs multiple tools:\n",
        "\n",
        "1. User asks: \"What day is 103 days from today?\"\n",
        "2. Model responds with a tool use block requesting `get_current_datetime`\n",
        "3. Your server calls the function and returns the result\n",
        "4. Model realizes it needs more information and requests `add_duration_to_datetime`\n",
        "5. Your server calls that function and returns the result\n",
        "6. Model now has enough information to provide the final answer\n",
        "\n",
        "We will need a tool use loop until the model stop calling tools"
      ],
      "metadata": {
        "id": "m2-8Q2o_f5ET"
      }
    },
    {
      "cell_type": "code",
      "source": [
        "def run_conversation(query):\n",
        "    messages = [\n",
        "        {\n",
        "            \"role\": \"system\",\n",
        "            \"content\":\"\"\"You are a helpful calendar bot.\n",
        "You have access to three tools (get_current_datetime, set_reminder_schema, add_duration_to_datetime) to help with user's requests.\"\"\"\n",
        "        },\n",
        "        {\n",
        "            \"role\":\"user\",\n",
        "            \"content\": query\n",
        "        }\n",
        "    ]\n",
        "\n",
        "    while True:\n",
        "        response = client.chat.completions.create(\n",
        "            model='google/gemini-2.5-flash',\n",
        "            messages=messages,\n",
        "            tools=calendar_tools,\n",
        "        )\n",
        "        llm_response = response.choices[0].message\n",
        "        print(f\"{llm_response}\")\n",
        "\n",
        "        if response.choices[0].finish_reason != 'tool_calls':\n",
        "            print(f\"\\nAssistant: {llm_response.content}\")\n",
        "            messages.append({'role':'assistant','content':llm_response.content})\n",
        "            break\n",
        "\n",
        "        messages.append(llm_response)\n",
        "        tool_results = run_tools(llm_response.tool_calls)\n",
        "        messages.extend(tool_results)"
      ],
      "metadata": {
        "id": "NozfypHLhF5s"
      },
      "execution_count": null,
      "outputs": []
    },
    {
      "cell_type": "code",
      "source": [
        "query = \"What day is 103 days from today?\"\n",
        "\n",
        "run_conversation(query)"
      ],
      "metadata": {
        "colab": {
          "base_uri": "https://localhost:8080/"
        },
        "id": "aHft3CANk6Pj",
        "outputId": "c1e5b62d-a92b-409d-ad3f-0412b9988238"
      },
      "execution_count": null,
      "outputs": [
        {
          "output_type": "stream",
          "name": "stdout",
          "text": [
            "ChatCompletionMessage(content='', refusal=None, role='assistant', annotations=None, audio=None, function_call=None, tool_calls=[ChatCompletionMessageToolCall(id='tool_0_get_current_datetime', function=Function(arguments='{\"date_format\":\"%Y-%m-%d\"}', name='get_current_datetime'), type='function', index=0)], reasoning=None)\n",
            "ChatCompletionMessage(content='', refusal=None, role='assistant', annotations=None, audio=None, function_call=None, tool_calls=[ChatCompletionMessageToolCall(id='tool_0_add_duration_to_datetime', function=Function(arguments='{\"datetime_str\":\"2025-07-28\",\"input_format\":\"%Y-%m-%d\",\"duration\":103,\"unit\":\"days\"}', name='add_duration_to_datetime'), type='function', index=0)], reasoning=None)\n",
            "ChatCompletionMessage(content='103 days from today will be Saturday, November 08, 2025.', refusal=None, role='assistant', annotations=None, audio=None, function_call=None, tool_calls=None, reasoning=None)\n",
            "\n",
            "Assistant: 103 days from today will be Saturday, November 08, 2025.\n"
          ]
        }
      ]
    },
    {
      "cell_type": "code",
      "source": [
        "query = \"Set a reminder for my doctors appointment. Its 177 days after Jan 1st, 2050.\"\n",
        "run_conversation(query)"
      ],
      "metadata": {
        "colab": {
          "base_uri": "https://localhost:8080/"
        },
        "id": "TTAR7j4Fm--Z",
        "outputId": "ac2d05c7-b747-4a84-bb46-0c4275666a90"
      },
      "execution_count": null,
      "outputs": [
        {
          "output_type": "stream",
          "name": "stdout",
          "text": [
            "ChatCompletionMessage(content='', refusal=None, role='assistant', annotations=None, audio=None, function_call=None, tool_calls=[ChatCompletionMessageToolCall(id='tool_0_add_duration_to_datetime', function=Function(arguments='{\"datetime_str\":\"2050-01-01\",\"duration\":177,\"unit\":\"days\"}', name='add_duration_to_datetime'), type='function', index=0)], reasoning=None)\n",
            "ChatCompletionMessage(content='', refusal=None, role='assistant', annotations=None, audio=None, function_call=None, tool_calls=[ChatCompletionMessageToolCall(id='tool_0_set_reminder', function=Function(arguments='{\"content\":\"Doctors Appointment\",\"timestamp\":\"2050-06-27T00:00:00\"}', name='set_reminder'), type='function', index=0)], reasoning=None)\n",
            "----\n",
            "Setting the following reminder for 2050-06-27T00:00:00:\n",
            "Doctors Appointment\n",
            "----\n",
            "ChatCompletionMessage(content=\"OK. I've set a reminder for your doctor's appointment on Monday, June 27, 2050 12:00:00 AM.\\n\", refusal=None, role='assistant', annotations=None, audio=None, function_call=None, tool_calls=None, reasoning=None)\n",
            "\n",
            "Assistant: OK. I've set a reminder for your doctor's appointment on Monday, June 27, 2050 12:00:00 AM.\n",
            "\n"
          ]
        }
      ]
    }
  ]
}