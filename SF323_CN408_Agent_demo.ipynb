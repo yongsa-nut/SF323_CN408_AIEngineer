{
  "nbformat": 4,
  "nbformat_minor": 0,
  "metadata": {
    "colab": {
      "provenance": [],
      "authorship_tag": "ABX9TyM9xwmaNQ1jJP+aKGZ3A6iN",
      "include_colab_link": true
    },
    "kernelspec": {
      "name": "python3",
      "display_name": "Python 3"
    },
    "language_info": {
      "name": "python"
    }
  },
  "cells": [
    {
      "cell_type": "markdown",
      "metadata": {
        "id": "view-in-github",
        "colab_type": "text"
      },
      "source": [
        "<a href=\"https://colab.research.google.com/github/yongsa-nut/SF323_CN408_AIEngineer/blob/main/SF323_CN408_Agent_demo.ipynb\" target=\"_parent\"><img src=\"https://colab.research.google.com/assets/colab-badge.svg\" alt=\"Open In Colab\"/></a>"
      ]
    },
    {
      "cell_type": "markdown",
      "source": [
        "# Agentic Demo"
      ],
      "metadata": {
        "id": "N7QUIrKHUByd"
      }
    },
    {
      "cell_type": "markdown",
      "source": [
        "## 0. Setting up"
      ],
      "metadata": {
        "id": "JfN0V8gnpFEP"
      }
    },
    {
      "cell_type": "markdown",
      "source": [
        "Openrouter: https://openrouter.ai/"
      ],
      "metadata": {
        "id": "3yG4OZyAoqrr"
      }
    },
    {
      "cell_type": "code",
      "execution_count": 18,
      "metadata": {
        "id": "EAK0ggZsokP2"
      },
      "outputs": [],
      "source": [
        "from openai import OpenAI\n",
        "from google.colab import userdata\n",
        "import json\n",
        "\n",
        "client = OpenAI(\n",
        "  base_url=\"https://openrouter.ai/api/v1\",\n",
        "  api_key=userdata.get('openrouter'),\n",
        ")"
      ]
    },
    {
      "cell_type": "code",
      "source": [
        "completion = client.chat.completions.create(\n",
        "  model=\"google/gemini-2.5-flash-lite\",\n",
        "  messages=[\n",
        "    {\n",
        "      \"role\": \"user\",\n",
        "      \"content\": \"Hello\"\n",
        "    }\n",
        "  ]\n",
        ")\n",
        "print(completion.choices[0].message.content)"
      ],
      "metadata": {
        "colab": {
          "base_uri": "https://localhost:8080/"
        },
        "id": "nwzV801ApElk",
        "outputId": "1381e76a-dda3-4dff-ac31-2af72c4c782f"
      },
      "execution_count": 20,
      "outputs": [
        {
          "output_type": "stream",
          "name": "stdout",
          "text": [
            "Hi there! How can I help you today? 😊\n"
          ]
        }
      ]
    },
    {
      "cell_type": "markdown",
      "source": [
        "## 1. File-editing Agent\n",
        "\n",
        "- Adapted from https://ampcode.com/how-to-build-an-agent"
      ],
      "metadata": {
        "id": "esBB9m1DzluE"
      }
    },
    {
      "cell_type": "code",
      "source": [
        "# Let's code!\n",
        "\n"
      ],
      "metadata": {
        "id": "LreqW-vWAl3_"
      },
      "execution_count": null,
      "outputs": []
    },
    {
      "cell_type": "code",
      "source": [
        "# @title File-editing Agent\n",
        "\n",
        "import os\n",
        "\n",
        "class FileEditingAgent:\n",
        "\n",
        "    def __init__(self, model = \"google/gemini-2.5-flash\"):\n",
        "        # LLM setup\n",
        "        self.client = OpenAI(\n",
        "            base_url=\"https://openrouter.ai/api/v1\",\n",
        "            api_key=userdata.get('openrouter'),\n",
        "        )\n",
        "        self.model = model\n",
        "\n",
        "        system_prompt = '''You are a helpful assistant.'''\n",
        "        self.messages = [{'role':'system','content':system_prompt}]\n",
        "\n",
        "        self.tools = [{\n",
        "            \"type\": \"function\",\n",
        "            \"function\":{\n",
        "                \"name\": \"read_file\",\n",
        "                \"description\": \"Read a file and return its content as a string\",\n",
        "                \"parameters\": {\n",
        "                    \"type\": \"object\",\n",
        "                    \"properties\": {\n",
        "                        \"filename\": {\n",
        "                            \"type\": \"string\",\n",
        "                            \"description\": \"The name of the file you want to read.\"\n",
        "                        }\n",
        "                    },\n",
        "                    \"required\": [\"filename\"]\n",
        "                }\n",
        "            }\n",
        "        },\n",
        "        {\n",
        "            \"type\": \"function\",\n",
        "            \"function\": {\n",
        "                \"name\": \"list_folder_contents\",\n",
        "                \"description\": \"List all files and directories in a given folder. Returns a formatted string with directories marked with a trailing slash and items sorted alphabetically.\",\n",
        "                \"parameters\": {\n",
        "                    \"type\": \"object\",\n",
        "                    \"properties\": {\n",
        "                        \"folder_path\": {\n",
        "                            \"type\": \"string\",\n",
        "                            \"description\": \"The path to the folder/directory you want to list contents for.\"\n",
        "                        }\n",
        "                    },\n",
        "                    \"required\": [\"folder_path\"]\n",
        "                }\n",
        "            }\n",
        "        },\n",
        "        {\n",
        "            \"type\": \"function\",\n",
        "            \"function\": {\n",
        "                \"name\": \"edit_file\",\n",
        "                \"description\": \"Make edits to a text file. Replaces 'old_str' with 'new_str' in the given file. 'old_str' and 'new_str' MUST be different from each other. If the file specified with path doesn't exist, it will be created.\",\n",
        "                \"parameters\": {\n",
        "                    \"type\": \"object\",\n",
        "                    \"properties\": {\n",
        "                        \"file_path\": {\n",
        "                            \"type\": \"string\",\n",
        "                            \"description\": \"The path to the file you want to edit.\"\n",
        "                        },\n",
        "                        \"old_str\": {\n",
        "                            \"type\": \"string\",\n",
        "                            \"description\": \"The string to be replaced in the file.\"\n",
        "                        },\n",
        "                        \"new_str\": {\n",
        "                            \"type\": \"string\",\n",
        "                            \"description\": \"The string to replace the old string with.\"\n",
        "                        }\n",
        "                    },\n",
        "                    \"required\": [\"file_path\", \"old_str\", \"new_str\"]\n",
        "                }\n",
        "            }\n",
        "        }]\n",
        "\n",
        "    def read_file(self, filename):\n",
        "        \"\"\"Read a file and return its content as a string.\"\"\"\n",
        "        try:\n",
        "            with open(filename, 'r') as file:\n",
        "                return file.read()\n",
        "        except Exception as e:\n",
        "            return (f\"Error reading file: {e}\")\n",
        "\n",
        "    def list_folder_contents(self, folder_path):\n",
        "        \"\"\"List all files and directories in a folder with proper formatting.\"\"\"\n",
        "        try:\n",
        "            items = os.listdir(folder_path)\n",
        "            result = []\n",
        "\n",
        "            for item in items:\n",
        "                full_path = os.path.join(folder_path, item)\n",
        "                if os.path.isdir(full_path):\n",
        "                    result.append(f\"{item}/\")\n",
        "                else:\n",
        "                    result.append(item)\n",
        "\n",
        "            return '\\n'.join(sorted(result))\n",
        "\n",
        "        except Exception as e:\n",
        "            return f\"Error listing directory: {e}\"\n",
        "    def edit_file(self, file_path, old_str, new_str):\n",
        "        \"\"\"\n",
        "        Make edits to a text file.\n",
        "        Replaces 'old_str' with 'new_str' in the given file.\n",
        "        If the file doesn't exist, it will be created.\n",
        "\n",
        "        Args:\n",
        "            file_path (str): Path to the file to edit\n",
        "            old_str (str): String to be replaced\n",
        "            new_str (str): String to replace with\n",
        "\n",
        "        Returns:\n",
        "            str: Success/error message\n",
        "        \"\"\"\n",
        "        # Check if old_str and new_str are different\n",
        "        if old_str == new_str:\n",
        "            return \"Error: 'old_str' and 'new_str' must be different from each other.\"\n",
        "\n",
        "        try:\n",
        "            # Try to read existing file, create empty content if file doesn't exist\n",
        "            try:\n",
        "                with open(file_path, 'r', encoding='utf-8') as file:\n",
        "                    content = file.read()\n",
        "            except FileNotFoundError:\n",
        "                content = \"\"\n",
        "\n",
        "            # Replace old_str with new_str\n",
        "            modified_content = content.replace(old_str, new_str)\n",
        "\n",
        "            # Write the modified content back to the file\n",
        "            with open(file_path, 'w', encoding='utf-8') as file:\n",
        "                file.write(modified_content)\n",
        "\n",
        "            # Count replacements made\n",
        "            replacements = content.count(old_str)\n",
        "            if replacements > 0:\n",
        "                return f\"Successfully replaced {replacements} occurrence(s) of '{old_str}' with '{new_str}' in '{file_path}'.\"\n",
        "            else:\n",
        "                return f\"No occurrences of '{old_str}' found in '{file_path}'. File created/updated.\"\n",
        "\n",
        "        except Exception as e:\n",
        "            return f\"Error editing file '{file_path}': {e}\"\n",
        "\n",
        "\n",
        "    def run_tool(self, name, arguments):\n",
        "        if name == 'read_file':\n",
        "            return self.read_file(**arguments)\n",
        "        if name == 'list_folder_contents':\n",
        "            return self.list_folder_contents(**arguments)\n",
        "        if name == 'edit_file':\n",
        "            return self.edit_file(**arguments)\n",
        "\n",
        "    def run_tools(self, tool_calls):\n",
        "        tool_results = []\n",
        "        for tool_call in tool_calls:\n",
        "            try:\n",
        "                tool_name = tool_call.function.name\n",
        "                arguments = json.loads(tool_call.function.arguments)\n",
        "                print(f'\\033[92mTool\\033[0m: {tool_name}({arguments})')\n",
        "                tool_result = self.run_tool(tool_name, arguments)\n",
        "                tool_result = {\n",
        "                        \"role\" : \"tool\",\n",
        "                        \"tool_call_id\": tool_call.id,\n",
        "                        \"name\":tool_name,\n",
        "                        \"content\" : str(tool_result)\n",
        "                }\n",
        "            except Exception as e:\n",
        "                tool_result = {\n",
        "                        \"role\" : \"tool\",\n",
        "                        \"tool_call_id\": tool_call.id,\n",
        "                        \"name\":tool_name,\n",
        "                        \"content\" : f\"Error: {e}\",\n",
        "                }\n",
        "            tool_results.append(tool_result)\n",
        "\n",
        "        return tool_results\n",
        "\n",
        "    def run(self):\n",
        "        while True:\n",
        "            user_query = input('User: ')\n",
        "            if user_query.lower() == 'quit':\n",
        "                break\n",
        "\n",
        "            self.messages.append({'role': 'user', 'content': user_query})\n",
        "\n",
        "            # Tool Handling\n",
        "            while True:\n",
        "                response = self.client.chat.completions.create(\n",
        "                    model = self.model,\n",
        "                    messages = self.messages,\n",
        "                    tools = self.tools\n",
        "                )\n",
        "                if response.choices[0].finish_reason != 'tool_calls':\n",
        "                    break\n",
        "                self.messages.append(response.choices[0].message)\n",
        "                results = self.run_tools(response.choices[0].message.tool_calls)\n",
        "                self.messages.extend(results)\n",
        "\n",
        "            # Final response (per turn)\n",
        "            self.messages.append({'role': 'assistant',\n",
        "                                  'content': response.choices[0].message.content})\n",
        "            print('\\033[38;5;208mAssistant\\033[0m:', response.choices[0].message.content)\n",
        "\n"
      ],
      "metadata": {
        "id": "2vVTQgmIzoqD",
        "cellView": "form"
      },
      "execution_count": 78,
      "outputs": []
    },
    {
      "cell_type": "code",
      "source": [
        "agent = FileEditingAgent()\n",
        "agent.run()"
      ],
      "metadata": {
        "id": "fGR3lDgXhOsP"
      },
      "execution_count": null,
      "outputs": []
    },
    {
      "cell_type": "markdown",
      "source": [
        "Things to test:\n",
        "- Read a file\n",
        "- List files in a directory -> Ask it to read.\n",
        "- What are datasets in this project?\n",
        "- Create a file\n",
        "- Create a fizzbuzz python file (rune with !python fizzbuzz.py)\n",
        "- Edit the fizzbuzz! (Note the gemini 2.5 flash is not so agentic!)\n",
        "- Create a congrats.py script that rot13-decodes the following string \"Pbatenghyngvbaf ba ohvyqvat n pbqr-rqvgvat ntrag!\" and prints it"
      ],
      "metadata": {
        "id": "6I-J9UqM6FAW"
      }
    },
    {
      "cell_type": "markdown",
      "source": [
        "## 2. Data Analysis Agent\n",
        "\n",
        "- Data from  https://github.com/disler/single-file-agents/blob/main/sfa_duckdb_anthropic_v2.py\n",
        "- Agent with a code execution tool\n"
      ],
      "metadata": {
        "id": "yAO_q1Dzy-dN"
      }
    },
    {
      "cell_type": "code",
      "source": [
        "!wget https://github.com/disler/single-file-agents/raw/refs/heads/main/data/analytics.db"
      ],
      "metadata": {
        "id": "_WwuAIVfzAlD"
      },
      "execution_count": null,
      "outputs": []
    },
    {
      "cell_type": "code",
      "source": [
        "import duckdb\n",
        "import pandas as pd\n",
        "\n",
        "# Connect to the database\n",
        "DB_PATH = 'analytics.db'\n",
        "DB_CONN = duckdb.connect(DB_PATH)"
      ],
      "metadata": {
        "id": "0WTmbNdJ8E-z"
      },
      "execution_count": null,
      "outputs": []
    },
    {
      "cell_type": "markdown",
      "source": [
        "Check the data"
      ],
      "metadata": {
        "id": "6AR-A9Ny9BGh"
      }
    },
    {
      "cell_type": "code",
      "source": [
        "# Get all tables\n",
        "tables = DB_CONN.execute(\"SHOW TABLES\").fetchall()\n",
        "\n",
        "for table in tables:\n",
        "    table_name = table[0]\n",
        "    print(f\"\\n=== Table: {table_name} ===\")\n",
        "\n",
        "    # Convert to pandas DataFrame for better display\n",
        "    df = DB_CONN.execute(f\"SELECT * FROM {table_name}\").df()\n",
        "    print(df)\n",
        "    print(f\"Shape: {df.shape}\")"
      ],
      "metadata": {
        "id": "LdoJ7-8W8mN6"
      },
      "execution_count": null,
      "outputs": []
    },
    {
      "cell_type": "markdown",
      "source": [
        "See DB agent: https://colab.research.google.com/drive/1EHjDizfFyQqypxa3J09YqY3cV8Sz1Y4h?usp=sharing"
      ],
      "metadata": {
        "id": "At4AiMYjV80o"
      }
    },
    {
      "cell_type": "markdown",
      "source": [
        "Executing Python Code:\n",
        "\n",
        "- Langchain Python REPL: https://python.langchain.com/docs/integrations/tools/python/"
      ],
      "metadata": {
        "id": "j477cnJT-hVd"
      }
    },
    {
      "cell_type": "code",
      "source": [
        "!pip install langchain_experimental"
      ],
      "metadata": {
        "id": "v5Y4MvH7-31Q"
      },
      "execution_count": null,
      "outputs": []
    },
    {
      "cell_type": "code",
      "source": [
        "from langchain_experimental.utilities import PythonREPL\n",
        "import warnings\n",
        "\n",
        "warnings.filterwarnings(\"ignore\")"
      ],
      "metadata": {
        "id": "BzhZj7P8-ldi"
      },
      "execution_count": null,
      "outputs": []
    },
    {
      "cell_type": "code",
      "source": [
        "python_repl = PythonREPL()\n",
        "python_repl.run(\"print(1+1)\")"
      ],
      "metadata": {
        "colab": {
          "base_uri": "https://localhost:8080/",
          "height": 35
        },
        "id": "MnGRTX4U_IkF",
        "outputId": "a67f4748-0fc0-4c4a-f8fd-198a8d8b28eb"
      },
      "execution_count": null,
      "outputs": [
        {
          "output_type": "execute_result",
          "data": {
            "text/plain": [
              "'2\\n'"
            ],
            "application/vnd.google.colaboratory.intrinsic+json": {
              "type": "string"
            }
          },
          "metadata": {},
          "execution_count": 50
        }
      ]
    },
    {
      "cell_type": "code",
      "source": [
        "PYTHON_REPL = PythonREPL()\n",
        "\n",
        "def execute_python_code(code: str) -> str:\n",
        "    \"\"\"Executes the python code and returns results to user.\n",
        "\n",
        "    Args:\n",
        "        code: Python chode\n",
        "\n",
        "    Returns:\n",
        "        Code results as a string\n",
        "    \"\"\"\n",
        "    try:\n",
        "        # Use the global connection to execute the query\n",
        "        result = PYTHON_REPL.run(code)\n",
        "\n",
        "        # Use regular print with simple formatting\n",
        "        print(f\"Python Code Tool\\nQuery: {code}\")\n",
        "        print(f\"Result:\\n {result}\")\n",
        "        return result\n",
        "    except Exception as e:\n",
        "        print(f\"Error running final query: {str(e)}\")\n",
        "        return str(e)"
      ],
      "metadata": {
        "id": "7f9BrqpR_XDe"
      },
      "execution_count": null,
      "outputs": []
    },
    {
      "cell_type": "code",
      "source": [
        "code = \"\"\"\n",
        "import duckdb\n",
        "DB_CONN2 = duckdb.connect('analytics.db')\n",
        "tables = DB_CONN2.execute(\"SHOW TABLES\").fetchall()\n",
        "\"\"\"\n",
        "\n",
        "execute_python_code(code)"
      ],
      "metadata": {
        "colab": {
          "base_uri": "https://localhost:8080/",
          "height": 177
        },
        "id": "2r59pRoYAHMB",
        "outputId": "1b27eee9-a1f4-4536-93d1-cfe56c0d33ff"
      },
      "execution_count": null,
      "outputs": [
        {
          "output_type": "stream",
          "name": "stdout",
          "text": [
            "Python Code Tool\n",
            "Query: \n",
            "import duckdb\n",
            "DB_CONN2 = duckdb.connect('analytics.db')\n",
            "tables = DB_CONN2.execute(\"SHOW TABLES\").fetchall()\n",
            "\n",
            "Result:\n",
            " \n"
          ]
        },
        {
          "output_type": "execute_result",
          "data": {
            "text/plain": [
              "''"
            ],
            "application/vnd.google.colaboratory.intrinsic+json": {
              "type": "string"
            }
          },
          "metadata": {},
          "execution_count": 52
        }
      ]
    },
    {
      "cell_type": "code",
      "source": [
        "code = \"\"\"\n",
        "for table in tables:\n",
        "    table_name = table[0]\n",
        "\n",
        "    # Convert to pandas DataFrame for better display\n",
        "    df = DB_CONN2.execute(f\"SELECT * FROM {table_name}\").df()\n",
        "    print(df)\n",
        "\"\"\"\n",
        "\n",
        "execute_python_code(code)"
      ],
      "metadata": {
        "id": "hWaaTV1ZChLv"
      },
      "execution_count": null,
      "outputs": []
    },
    {
      "cell_type": "markdown",
      "source": [
        "Full Agent"
      ],
      "metadata": {
        "id": "ReXDbWkpBXaZ"
      }
    },
    {
      "cell_type": "code",
      "source": [
        "class DataAnalysisAgent:\n",
        "\n",
        "    MAX_TOOL_ITERATIONS = 10\n",
        "\n",
        "    def __init__(self, model = \"qwen/qwen3-32b\"):\n",
        "        # Initialize the Python REPL and load the data\n",
        "        self.python_repl = PythonREPL()\n",
        "        initial_code = \"\"\"\n",
        "import duckdb\n",
        "import pandas as pd\n",
        "import warnings\n",
        "warnings.filterwarnings('ignore')\n",
        "DB_CONN = duckdb.connect('analytics.db')\n",
        "        \"\"\"\n",
        "        self.python_repl.run(initial_code)\n",
        "\n",
        "        # LLM setup\n",
        "        self.client = OpenAI(\n",
        "            base_url=\"https://openrouter.ai/api/v1\",\n",
        "            api_key=userdata.get('openrouter'),\n",
        "        )\n",
        "        self.model = model\n",
        "\n",
        "        # System prompt (# Add/remove this: There is only one table in the database named `User`. )\n",
        "        system_prompt = \"\"\"You are an expert data scientist.\n",
        "        You have access to a Python REPL tool (run_python_code) that can execute pandas code safely.\n",
        "        You have access to a duckdb database (DB_CONN) which contains a table of 30 students' performance. The data has been loaded in the Python REPL as DB_CONN.\n",
        "\n",
        "        ## Tool:\n",
        "        - run_python_code: Execute Python code.\n",
        "          - Keep the code simple.\n",
        "          - **Important** duckdb and pandas (as pd) are already imported.\n",
        "\n",
        "        ## Instruction:\n",
        "        - Use the data to answer user's query.\n",
        "        - If user's query is unrelated to the data, say \"I can't answer your question using available data.\"\n",
        "\n",
        "        ## Output:\n",
        "        - Return the final results in a markdown format\n",
        "        \"\"\"\n",
        "        self.conversation_history = [{'role':'system','content':system_prompt}]\n",
        "\n",
        "        self.tools = [{\n",
        "            \"type\": \"function\",\n",
        "            \"function\":{\n",
        "                \"name\": \"run_python_code\",\n",
        "                \"description\": \"Execute python code. The code runs in a static sandbox without interactive mode, so print output.\",\n",
        "                \"parameters\": {\n",
        "                    \"type\": \"object\",\n",
        "                    \"properties\": {\n",
        "                        \"code\": {\n",
        "                            \"type\": \"string\",\n",
        "                            \"description\": \"Python code to execute.\"\n",
        "                        }\n",
        "                    },\n",
        "                    \"required\": [\"code\"]\n",
        "                }\n",
        "            }\n",
        "        }]\n",
        "\n",
        "    def run_python_code(self, code: str) -> str:\n",
        "        try:\n",
        "            # Execute code directly (environment already set up)\n",
        "            result = self.python_repl.run(code)\n",
        "            return f\"Code executed successfully:\\nOutput:\\n{result}\"\n",
        "        except Exception as e:\n",
        "            return f\"Error executing code:\\nError: {str(e)}\"\n",
        "\n",
        "    def chat(self, user_message: str) -> str:\n",
        "\n",
        "        iteration_count = 0\n",
        "        consecutive_failures = 0\n",
        "        final_response = \"\"\n",
        "        self.conversation_history.append({\n",
        "            'role':'user',\n",
        "            'content':user_message\n",
        "        })\n",
        "\n",
        "        while iteration_count < self.MAX_TOOL_ITERATIONS:\n",
        "              print(f'----- Iteration: {iteration_count} -----')\n",
        "              iteration_count += 1\n",
        "\n",
        "              # Make request\n",
        "              response = self.client.chat.completions.create(\n",
        "                  model=self.model,\n",
        "                  messages=self.conversation_history,\n",
        "                  tools=self.tools\n",
        "              )\n",
        "\n",
        "              print(response)\n",
        "              llm_response = response.choices[0].message\n",
        "              # Check if the model wants to use tools\n",
        "              if llm_response.tool_calls:\n",
        "                  llm_response = response.choices[0].message\n",
        "                  # Process tool usage\n",
        "                  for tool_call in llm_response.tool_calls:\n",
        "                      # Obtain the name and arguments from tool call message\n",
        "                      tool_name = tool_call.function.name\n",
        "                      tool_arguments = json.loads(tool_call.function.arguments)\n",
        "                      print(f\"Tool arguments:\\n{tool_arguments}\")\n",
        "\n",
        "                      # Get tool results (We only have one tool)\n",
        "                      tool_result = self.run_python_code(tool_arguments['code'])\n",
        "                      print(f\"\\nTool Result:\\n{tool_result}\")\n",
        "\n",
        "                      # Add the tool calling message and tool results\n",
        "                      self.conversation_history.append(llm_response)\n",
        "                      self.conversation_history.append({\n",
        "                          \"role\": \"tool\",\n",
        "                          \"tool_call_id\": tool_call.id,\n",
        "                          \"content\": str(tool_result)\n",
        "                      })\n",
        "\n",
        "              else:\n",
        "                  # No tool use - this is the final response\n",
        "                  final_response = response.choices[0].message.content\n",
        "\n",
        "                  # Add to conversation history\n",
        "                  self.conversation_history.append({\n",
        "                      \"role\": \"assistant\",\n",
        "                      \"content\": final_response\n",
        "                  })\n",
        "\n",
        "                  break\n",
        "\n",
        "        return final_response if final_response else \"I apologize, but I wasn't able to complete the analysis.\""
      ],
      "metadata": {
        "id": "GJYM1sbDBW8z"
      },
      "execution_count": null,
      "outputs": []
    },
    {
      "cell_type": "code",
      "source": [
        "chatbot = DataAnalysisAgent(model = \"qwen/qwen3-32b\")\n",
        "chatbot.chat(\"What is the average and standard deviation of students' score?\")"
      ],
      "metadata": {
        "colab": {
          "base_uri": "https://localhost:8080/",
          "height": 1000
        },
        "id": "zI0i-m3gPGs_",
        "outputId": "cd03132f-f791-41bf-ddcf-936fe5afb7ad"
      },
      "execution_count": null,
      "outputs": [
        {
          "output_type": "stream",
          "name": "stdout",
          "text": [
            "----- Iteration: 0 -----\n",
            "ChatCompletion(id='gen-1750556887-MwneBmVPjFLkCa3rIgkJ', choices=[Choice(finish_reason='stop', index=0, logprobs=None, message=ChatCompletionMessage(content='', refusal=None, role='assistant', annotations=None, audio=None, function_call=None, tool_calls=[ChatCompletionMessageToolCall(id='call_sWnOAklsrGUXCegCPz4HZkiy', function=Function(arguments='{\"code\": \"query = \\\\\"SELECT AVG(score) AS average, STDDEV(score) AS std_dev FROM students\\\\\";\\\\nresult = DB_CONN.execute(query).fetchone();\\\\nprint(f\\'Average: {result[0]}, Standard Deviation: {result[1]}\\')\"}', name='run_pandas_code'), type='function', index=0)], reasoning='Okay, the user is asking for the average and standard deviation of students\\' scores. Let me check the data.\\n\\nFirst, I need to make sure the data is loaded. The user mentioned a duckdb database with a table of 30 students\\' performance. The data is available in the Python REPL as DB_CONN. So I can use duckdb to query the data.\\n\\nWait, but the tools available include run_pandas_code. Hmm, maybe I should use pandas to calculate the statistics. But the data is in a duckdb database. How do I get it into pandas? Oh, maybe I can run a SQL query using duckdb to compute the average and standard deviation directly, then fetch the result into pandas.\\n\\nAlternatively, maybe the data is already in a pandas DataFrame. The user said the data has been loaded in the Python REPL as DB_CONN. Wait, DB_CONN is a duckdb database connection. So perhaps I need to execute a SQL query on that connection and then load the result into pandas.\\n\\nLet me think. To get the average and standard deviation, I can write a SQL query like:\\n\\nSELECT AVG(score), STDDEV(score) FROM students;\\n\\nThen execute this using duckdb and fetch the result. But since the user provided the run_pandas_code function, maybe I need to write Python code that does this.\\n\\nSo the code would be something like:\\n\\nimport duckdb\\n\\n# Connect to the database (assuming DB_CONN is already the connection)\\n# Execute the query\\nresult = duckdb.sql(\"SELECT AVG(score) AS average, STDDEV(score) AS std_dev FROM students\").fetchall()\\n\\nThen print the results. But I need to make sure that the code is using the existing DB_CONN. Wait, the user mentioned that the data has been loaded as DB_CONN in the Python REPL. So in the code, I can use that existing connection instead of creating a new one.\\n\\nSo the code would be:\\n\\n# Using the existing DB_CONN\\nquery = \"SELECT AVG(score) AS average, STDDEV(score) AS std_dev FROM students\"\\nresult_df = DB_CONN.execute(query).fetchdf()\\n\\nThen extract the values from the DataFrame and print them.\\n\\nAlternatively, maybe the user expects the code to use pandas, but since the data is in duckdb, we need to use duckdb\\'s functions. The run_pandas_code tool allows executing Python code, so the code can use both duckdb and pandas.\\n\\nSo putting it all together, the code would execute the SQL query on the DB_CONN (which is a duckdb connection), fetch the results into a DataFrame, and then output the average and standard deviation.\\n\\nTherefore, the Python code to run would be:\\n\\nresult = DB_CONN.execute(\"SELECT AVG(score) AS average, STDDEV(score) AS std_dev FROM students\").fetchone()\\n\\nprint(f\"Average: {result[0]}, Standard Deviation: {result[1]}\")\\n\\nBut wait, in the tools, it\\'s mentioned that the code runs in a static sandbox without interactive mode, so print output is needed. So using print statements will capture the output.\\n\\nTherefore, the correct code would execute the query, fetch the result, and print the values. The user will then see those numbers as the answer.\\n'), native_finish_reason='stop')], created=1750556887, model='qwen/qwen3-32b', object='chat.completion', service_tier=None, system_fingerprint=None, usage=CompletionUsage(completion_tokens=735, prompt_tokens=344, total_tokens=1079, completion_tokens_details=None, prompt_tokens_details=None), provider='DeepInfra')\n",
            "Tool arguments:\n",
            "{'code': 'query = \"SELECT AVG(score) AS average, STDDEV(score) AS std_dev FROM students\";\\nresult = DB_CONN.execute(query).fetchone();\\nprint(f\\'Average: {result[0]}, Standard Deviation: {result[1]}\\')'}\n",
            "\n",
            "Tool Result:\n",
            "Code executed successfully:\n",
            "Output:\n",
            "CatalogException('Catalog Error: Table with name students does not exist!\\nDid you mean \"pg_settings\"?\\n\\nLINE 1: ...ELECT AVG(score) AS average, STDDEV(score) AS std_dev FROM students\\n                                                                      ^')\n",
            "----- Iteration: 1 -----\n",
            "ChatCompletion(id='gen-1750556905-tLhqrsqMSiHdN3XL4yn0', choices=[Choice(finish_reason='stop', index=0, logprobs=None, message=ChatCompletionMessage(content='', refusal=None, role='assistant', annotations=None, audio=None, function_call=None, tool_calls=[ChatCompletionMessageToolCall(id='call_o7a7Ebgb7vsSxXbYuzBuYVIQ', function=Function(arguments='{\"code\": \"average = DB_CONN[\\'score\\'].mean()\\\\nstd_dev = DB_CONN[\\'score\\'].std()\\\\nprint(f\\'Average: {average:.2f}, Standard Deviation: {std_dev:.2f})\"}', name='run_pandas_code'), type='function', index=0)], reasoning='Okay, the user asked for the average and standard deviation of students\\' scores. I tried running the SQL query using duckdb, but there was an error saying the table \"students\" doesn\\'t exist. Hmm, maybe the table name is different. Let me check.\\n\\nWait, the user mentioned the data is loaded into the Python REPL as DB_CONN. Maybe the table name isn\\'t \"students\". Perhaps it\\'s a different name, like \"student_performance\" or something else. Let me think. The user said it\\'s a table of 30 students\\' performance. Maybe the table name is \"performance\" or \"students_performance\".\\n\\nI should adjust the query to use the correct table name. Let me try changing \"students\" to \"student_performance\" or another possible name. Alternatively, maybe the table is named \"data\" or has a different convention. Since I don\\'t have the exact table name, perhaps I should list the tables in the database to find the correct one. But I can\\'t do that directly. Wait, the error message suggested \"pg_settings\" as a possible typo, which isn\\'t helpful here.\\n\\nAlternatively, maybe the user expects me to use pandas instead of SQL. Since the data is in DB_CONN, maybe it\\'s a pandas DataFrame. If so, I can calculate the average and standard deviation using pandas functions. Let me try that approach. So, if DB_CONN is the DataFrame, then I can do DB_CONN[\\'score\\'].mean() and DB_CONN[\\'score\\'].std(). Then print those values. That might work. Let me write the code for that.\\n'), native_finish_reason='stop')], created=1750556905, model='qwen/qwen3-32b', object='chat.completion', service_tier=None, system_fingerprint=None, usage=CompletionUsage(completion_tokens=390, prompt_tokens=488, total_tokens=878, completion_tokens_details=None, prompt_tokens_details=None), provider='DeepInfra')\n",
            "Tool arguments:\n",
            "{'code': \"average = DB_CONN['score'].mean()\\nstd_dev = DB_CONN['score'].std()\\nprint(f'Average: {average:.2f}, Standard Deviation: {std_dev:.2f})\"}\n",
            "\n",
            "Tool Result:\n",
            "Code executed successfully:\n",
            "Output:\n",
            "SyntaxError('unterminated string literal (detected at line 3)', ('<string>', 3, 7, \"print(f'Average: {average:.2f}, Standard Deviation: {std_dev:.2f})\", 3, 7))\n",
            "----- Iteration: 2 -----\n",
            "ChatCompletion(id='gen-1750556913-TgfNELJ9yx9qfxPIvkYv', choices=[Choice(finish_reason='stop', index=0, logprobs=None, message=ChatCompletionMessage(content='', refusal=None, role='assistant', annotations=None, audio=None, function_call=None, tool_calls=[ChatCompletionMessageToolCall(id='call_SpMa6bRVGDD53TD5f6VSIbW9', function=Function(arguments='{\"code\": \"average = DB_CONN[\\'score\\'].mean()\\\\nstd_dev = DB_CONN[\\'score\\'].std()\\\\nprint(f\\'Average: {average:.2f}, Standard Deviation: {std_dev:.2f}\\')\"}', name='run_pandas_code'), type='function', index=0)], reasoning='Okay, let me try to figure out what\\'s going wrong here. The user asked for the average and standard deviation of students\\' scores. The first attempt used a SQL query with duckdb, but there was a CatalogException because the table name \"students\" didn\\'t exist. Maybe the table name is different. The error message suggested \"pg_settings\", but that doesn\\'t seem relevant.\\n\\nIn the second attempt, the code tried to access the \\'score\\' column directly from DB_CONN. But there was a syntax error due to an unterminated string literal. Looking at the code, the print statement has a closing parenthesis but no closing quotes. The f-string is missing the closing single quote. That\\'s a simple typo.\\n\\nSo, I need to correct the syntax error by adding the missing single quote in the print statement. Also, maybe the correct table name is different. But since the first attempt failed with the table name, maybe the data is already in a pandas DataFrame loaded into DB_CONN. The user mentioned that the data has been loaded as DB_CONN, which is a duckdb database. So perhaps the correct approach is to query the data without assuming a table name, but by using the already loaded data.\\n\\nWait, the user said \"The data has been loaded in the Python REPL as DB_CONN.\" So maybe DB_CONN is a pandas DataFrame, not a duckdb connection. That would explain why using SQL queries on it didn\\'t work. If DB_CONN is a pandas DataFrame, then using .mean() and .std() on the \\'score\\' column would be the correct approach. The second code attempt was in the right direction but had a syntax error. Fixing the syntax by adding the closing single quote in the print statement should work.\\n\\nSo the corrected code should be:\\n\\naverage = DB_CONN[\\'score\\'].mean()\\nstd_dev = DB_CONN[\\'score\\'].std()\\nprint(f\\'Average: {average:.2f}, Standard Deviation: {std_dev:.2f}\\')\\n\\nYes, that makes sense. The syntax error was due to a missing apostrophe, which I\\'ll correct. Then, using pandas functions on the DataFrame should compute the required statistics. Let\\'s check the data type of DB_CONN. If it\\'s a pandas DataFrame, this will work. The user mentioned that the data is in the Python REPL as DB_CONN, so likely a pandas DataFrame. The initial assumption that it\\'s a duckdb connection might have been incorrect. The first code used duckdb\\'s SQL, but the error suggested the table name was wrong. So the correct approach is to use pandas methods here.\\n'), native_finish_reason='stop')], created=1750556913, model='qwen/qwen3-32b', object='chat.completion', service_tier=None, system_fingerprint=None, usage=CompletionUsage(completion_tokens=591, prompt_tokens=624, total_tokens=1215, completion_tokens_details=None, prompt_tokens_details=None), provider='DeepInfra')\n",
            "Tool arguments:\n",
            "{'code': \"average = DB_CONN['score'].mean()\\nstd_dev = DB_CONN['score'].std()\\nprint(f'Average: {average:.2f}, Standard Deviation: {std_dev:.2f}')\"}\n",
            "\n",
            "Tool Result:\n",
            "Code executed successfully:\n",
            "Output:\n",
            "TypeError(\"'duckdb.duckdb.DuckDBPyConnection' object is not subscriptable\")\n",
            "----- Iteration: 3 -----\n",
            "ChatCompletion(id='gen-1750556926-hUIlXXZVrRAEzVLMA9wY', choices=[Choice(finish_reason='stop', index=0, logprobs=None, message=ChatCompletionMessage(content='', refusal=None, role='assistant', annotations=None, audio=None, function_call=None, tool_calls=[ChatCompletionMessageToolCall(id='call_NINDnLGBvLuf3J3fO4SgUqrh', function=Function(arguments='{\"code\": \"query = \\\\\"SELECT AVG(score) AS average, STDDEV(score) AS std_dev FROM student\\\\\";\\\\nresult = DB_CONN.execute(query).fetchone();\\\\nprint(f\\'Average: {result[0]:.2f}, Standard Deviation: {result[1]:.2f}\\')\"}', name='run_pandas_code'), type='function', index=0)], reasoning='Okay, the user asked for the average and standard deviation of students\\' scores. Let me see how to approach this.\\n\\nFirst, the initial attempt used a SQL query with DB_CONN.execute, but there was a CatalogException saying the table \\'students\\' doesn\\'t exist. Maybe the table name is different or the connection isn\\'t set up that way.\\n\\nNext, trying to access DB_CONN[\\'score\\'] caused a TypeError because the connection object isn\\'t subscriptable. So, maybe the correct way is to use duckdb\\'s functions differently. Since DB_CONN is a DuckDB connection, perhaps the data is loaded into a table with a different name. Wait, maybe the correct approach is to run a SQL query on the connection without assuming a table name. Or maybe the data is in a DataFrame. Wait, the user mentioned the data was loaded into Python as DB_CONN, but maybe it\\'s a DataFrame in the connection.\\n\\nWait, the error when trying to use DB_CONN[\\'score\\'] says it\\'s a DuckDBPyConnection, which isn\\'t subscriptable. So perhaps I need to run a SQL query that selects from the actual table name. Maybe the table isn\\'t called \\'students\\'. Let me try to check the actual table names in the database. For example, using SHOW TABLES FROM DB_CONN. But since I can\\'t interactively do that here, maybe I need to adjust the query. Alternatively, perhaps the initial code messed up the query with a typo. Wait, the original code used DB_CONN.execute, but maybe the table name is \\'student\\' instead of \\'students\\'? Let me check the user\\'s initial message again. The user said the data has been loaded as DB_CONN, a duckdb database with a table of 30 students\\' performance. The column is \\'score\\'.\\n\\nAlternatively, perhaps DB_CONN is not the correct variable name. Wait, the user mentioned that the data has been loaded in the Python REPL as DB_CONN. So DB_CONN is the connection object. So the correct approach would be to run a SQL query on DB_CONN using duckdb\\'s API. For example, maybe the table is named \\'data\\' instead of \\'students\\'. Let me try modifying the SQL query to the correct table name. Alternatively, maybe the correct way is to use pandas to calculate mean and standard deviation, but for that, the data needs to be in a DataFrame. Since the current code attempts to access DB_CONN as a pandas DataFrame aren\\'t working, perhaps the data is in a DuckDB table. So the first step is to query DuckDB to find the correct table name. Since I can\\'t ask the user, I need to proceed.\\n\\nWait, maybe the initial code used the wrong table name. Let me look at the first code attempt:\\n\\nquery = SELECT ... FROM students. The error mentioned \"Did you mean \\'pg_settings\\'\"? That\\'s an odd suggestion. Maybe the actual table is named something else. If the user hasn\\'t told DuckDB that the data is in a table called \\'students\\', then that would cause an error. If the data is in a DataFrame called \\'data\\' for example, the correct SQL query would be SELECT * FROM data. So perhaps the table name is different. Since I don\\'t know the table name, but the user mentioned it\\'s 30 students\\' performance, maybe the table name is \\'student_data\\' or \\'student_performance\\' or similar. Let me try changing the table name in the SQL query. For example, using SELECT AVG(score) FROM student_performance. But how to find the correct table name without being able to execute a SHOW TABLES command?\\n\\nAlternatively, maybe the data is loaded into a DuckDB table within the DB_CONN. The user might have loaded it with a specific table name. If the initial code used a different approach, maybe the correct SQL is SELECT from the correct table. Alternatively, maybe the user provided the incorrect table name. Since the initial approach failed with that, perhaps another approach is needed.\\n\\nWait, the user mentioned that the data has been loaded in the Python REPL as DB_CONN. So DB_CONN is a duckdb connection object, and the data is in a table within that connection. The correct approach is to write a DuckDB query that references the table name. So if the table is named \\'student\\', then the code would be SELECT from \\'student\\'. Let me try using that table name. Alternatively, the table might be named \\'students\\' but the initial code had a typo. Let me re-examine the first tool call code:\\n\\nIn the first attempt, the code was:\\n\\nquery = \"SELECT AVG(score) AS average, STDDEV(score) AS std_dev FROM students\"\\n\\nBut the error says that the table \\'students\\' doesn\\'t exist. The user might have a different table name. If I can\\'t find the correct table name, maybe I should try other methods. For example, using a different SQL function, but without knowing the table structure, it\\'s hard. Alternatively, maybe the user\\'s code has an issue with the way they loaded the data into DuckDB. Since the user mentioned that the data has been loaded as DB_CONN, perhaps the code should be adjusted to select from a table that\\'s in the database.\\n\\nAlternatively, perhaps the data is in a DataFrame that\\'s been registered in DuckDB. For example, if the user ran something like conn.register(\\'student_scores\\', df), and the actual table name is \\'student_scores\\', but I can\\'t know that. Since the user hasn\\'t provided the actual table name, maybe the correct approach is to check the available tables in the database. But how to do that via a single SQL query.\\n\\nIn DuckDB, you can use the information_schema.tables to find tables. So a query like SELECT table_name FROM information_schema.tables where table_schema = \\'main\\'; would list all tables. Let me try that.\\n\\nSo the code would be:\\n\\nquery = \"SELECT table_name FROM information_schema.tables WHERE table_schema = \\'main\\';\"\\nresult = DB_CONN.execute(query).fetchdf()\\nprint(result)\\n\\nBut since this is a tool call, I need to write this in the code. The user might have a table listed there. Once we get the actual table name, then we can proceed to query it. However, since I can\\'t execute this code here, I need to consider what the user might have done. Since the user mentioned the table is of 30 students\\' performance, I can assume the table name is something like \\'students\\' or \\'student_performance\\', but the initial attempt to use \\'students\\' failed.\\n\\nAlternatively, if the data has been registered in DuckDB as a temporary DataFrame with the same variable name, maybe the correct approach is to query from the variable name, but that\\'s not possible. For example, if DB_CONN is a connection object, and the data is in a DataFrame in the Python environment, but not registered in DuckDB. That would be a problem. But since the user said the data has been loaded in the Python REPL as DB_CONN, maybe they mean that DB_CONN is the DataFrame. Wait, the user\\'s instruction says:\\n\\n\"The data has been loaded in the Python REPL as DB_CONN. You have access to a duckdb database (DB_CONN) which contains a table of 30 students\\' performance.\"\\n\\nAh, so DB_CONN is a DuckDB connection object, and the data is in a table within that database. So the correct approach is to run an SQL query against DB_CONN to get the average and standard deviation of the \\'score\\' column in the correct table. The problem is determining the correct table name.\\n\\nSince the initial attempt to use \\'students\\' failed with a CatalogException, and the suggestion was \\'pg_settings\\', which is a PostgreSQL system table. That\\'s odd. Maybe the table was supposed to be created but wasn\\'t. Alternatively, maybe the table was created with a different name. For example, if the data was loaded as a result of a previous query or imported from a CSV with a different table name.\\n\\nAlternatively, perhaps the original data is in a DataFrame named \\'students\\', and the user registered it in DuckDB. But if not, then the table doesn\\'t exist. Since the user hasn\\'t provided the correct table name, but the problem says that the data is in the database, perhaps there\\'s a way to find the table name. Since the user mentioned the data has been loaded as DB_CONN, and that the database contains a table of 30 students\\' performance, maybe the correct table is the default or a specific name. But without knowing, perhaps the best approach is to modify the code to show the tables in the database to find the correct table name.\\n\\nBut since I can\\'t do that here, perhaps the user made a typo in the first tool call. Let me check again the first tool call\\'s code:\\n\\nquery = \"SELECT AVG(score) AS average, STDDEV(score) AS std_dev FROM students\"\\n\\nThe error message says that the table \\'students\\' doesn\\'t exist, and the system suggests \\'pg_settings\\'. So perhaps the actual table name is something else. If the data was loaded into a table called \\'scores\\' or \\'student\\', perhaps changing that in the query would work. Since I can\\'t do an introspection here, perhaps I can make an assumption and try with a different table name.\\n\\nAlternatively, if the data is in a DataFrame and the user made a mistake in using DuckDB\\'s API, maybe the correct approach is to use pandas. But the previous attempt to access DB_CONN[\\'score\\'] failed because DB_CONN is a DuckDB connection, not a DataFrame. So that\\'s why the error occurred.\\n\\nSo the correct approach is to run a DuckDB SQL query on the correct table. Let me try assuming the table name is \\'student\\' (singular) instead of \\'students\\' (plural). So the query becomes:\\n\\nquery = \"SELECT AVG(score) AS average, STDDEV(score) AS std_dev FROM student\"\\n\\nThen, executing this via DB_CONN.execute and fetching the results could work. So I would adjust the code to use the singular form. Let me check the syntax again. Also, in DuckDB, the standard deviation function is STDEV or STDDEV? Maybe it\\'s STDDEV_SAMP. Let me check. According to DuckDB documentation, the standard deviation functions are STDDEV, STDDEV_POP, STDDEV_SAMP. The default is STDDEV, which is the sample standard deviation. So using STDDEV(score) should be correct.\\n\\nAnother possibility is that the column is not named \\'score\\'. For example, maybe it\\'s \\'Score\\' with a capital letter, but the initial code used lowercase. But the user asked about \\'students\\' score, so it\\'s possible.\\n\\nSo, the corrected code would be to use the correct table name. Let me try with \\'student\\' and \\'score\\' as the column. Here\\'s the code:\\n\\nquery = \"SELECT AVG(score) AS average, STDDEV(score) AS std_dev FROM student;\"\\nresult = DB_CONN.execute(query).fetchone()\\nprint(f\\'Average: {result[0]}, Standard Deviation: {result[1]}\\')\\n\\nThis is similar to the first tool call, but with a different table name. However, since I can\\'t be sure, but the initial code failed with \\'students\\', maybe the correct table is \\'student\\' (singular). Let\\'s make this correction.\\n'), native_finish_reason='stop')], created=1750556926, model='qwen/qwen3-32b', object='chat.completion', service_tier=None, system_fingerprint=None, usage=CompletionUsage(completion_tokens=2402, prompt_tokens=725, total_tokens=3127, completion_tokens_details=None, prompt_tokens_details=None), provider='DeepInfra')\n",
            "Tool arguments:\n",
            "{'code': 'query = \"SELECT AVG(score) AS average, STDDEV(score) AS std_dev FROM student\";\\nresult = DB_CONN.execute(query).fetchone();\\nprint(f\\'Average: {result[0]:.2f}, Standard Deviation: {result[1]:.2f}\\')'}\n",
            "\n",
            "Tool Result:\n",
            "Code executed successfully:\n",
            "Output:\n",
            "CatalogException('Catalog Error: Table with name student does not exist!\\nDid you mean \"sqlite_master\"?\\n\\nLINE 1: ...ELECT AVG(score) AS average, STDDEV(score) AS std_dev FROM student\\n                                                                      ^')\n",
            "----- Iteration: 4 -----\n",
            "ChatCompletion(id='gen-1750556980-fA6qNc1XVIs4oOlvV8HX', choices=[Choice(finish_reason='stop', index=0, logprobs=None, message=ChatCompletionMessage(content='', refusal=None, role='assistant', annotations=None, audio=None, function_call=None, tool_calls=[ChatCompletionMessageToolCall(id='call_JIVUotKiqHpImc3fN66J3Kx8', function=Function(arguments='{\"code\": \"query = \\\\\"SELECT * FROM information_schema.tables\\\\\";\\\\nresult = DB_CONN.execute(query).fetchall();\\\\nprint(result)\"}', name='run_pandas_code'), type='function', index=0)], reasoning='Okay, let\\'s figure out what\\'s going wrong here. The user wants the average and standard deviation of students\\' scores. The initial code tried to query a table called \\'students\\' but got an error because that table doesn\\'t exist. Then, the code tried using DB_CONN[\\'score\\'], which didn\\'t work because DB_CONN is a DuckDB connection object, not a DataFrame. Then, they tried querying \\'student\\' (singular), which also doesn\\'t exist.\\n\\nMaybe the actual table name is different. The error messages mentioned \"pg_settings\" and \"sqlite_master\", which are system tables. Perhaps the user\\'s data is in a different table, maybe with a different name like \\'student_performance\\' or something similar. Let me check the original problem statement again. It says the duckdb database contains a table of 30 students\\' performance. Maybe the table name is not \\'students\\' or \\'student\\' but something else. If the table name is not specified, perhaps the data is loaded into a DataFrame, but the user mentioned that the data has been loaded into DB_CONN as a DuckDB connection. Wait, maybe the correct table name is missing. The user might have a typo. Alternatively, maybe the table exists but the name is different. Let me try to check the available tables in the DuckDB connection.\\n\\nSo, the next step is to list the tables in the DuckDB database to find the correct table name. The user can run a query to show all tables. Let\\'s try that. The command would be SELECT * FROM information_schema.tables; in DuckDB. Let me try to run that query to see the available tables. Once we know the correct table name, we can proceed with the AVG and STDDEV functions on the correct table.\\n'), native_finish_reason='stop')], created=1750556980, model='qwen/qwen3-32b', object='chat.completion', service_tier=None, system_fingerprint=None, usage=CompletionUsage(completion_tokens=408, prompt_tokens=876, total_tokens=1284, completion_tokens_details=None, prompt_tokens_details=None), provider='DeepInfra')\n",
            "Tool arguments:\n",
            "{'code': 'query = \"SELECT * FROM information_schema.tables\";\\nresult = DB_CONN.execute(query).fetchall();\\nprint(result)'}\n",
            "\n",
            "Tool Result:\n",
            "Code executed successfully:\n",
            "Output:\n",
            "[('analytics', 'main', 'User', 'BASE TABLE', None, None, None, None, None, 'YES', 'NO', None, None)]\n",
            "\n",
            "----- Iteration: 5 -----\n",
            "ChatCompletion(id='gen-1750556989-CdgEcAi54mSyuJjHKdPJ', choices=[Choice(finish_reason='stop', index=0, logprobs=None, message=ChatCompletionMessage(content='', refusal=None, role='assistant', annotations=None, audio=None, function_call=None, tool_calls=[ChatCompletionMessageToolCall(id='call_573m01GLC7ZkHRuYGz9luAOB', function=Function(arguments='{\"code\": \"query = \\\\\"SELECT AVG(score) AS average, STDDEV(score) AS std_dev FROM analytics.User\\\\\";\\\\nresult = DB_CONN.execute(query).fetchone();\\\\nprint(f\\'Average: {result[0]:.2f}, Standard Deviation: {result[1]:.2f}\\')\"}', name='run_pandas_code'), type='function', index=0)], reasoning=\"Okay, let's see. The user is asking for the average and standard deviation of students' scores. I need to figure out how to get that data using the tools available. \\n\\nFirst, the user mentioned that the data is in a duckdb database and loaded as DB_CONN. Initially, I tried using a SQL query to select the average and standard deviation from a table named 'students', but that gave an error saying the table doesn't exist. Then I tried 'student' without the 's', but that also didn't work.\\n\\nNext, I tried accessing the 'score' column directly using DB_CONN['score'], but that resulted in a TypeError because DB_CONN is a DuckDB connection object and not a DataFrame. Oh right, maybe the table name is different. \\n\\nTo check the available tables, I ran a query on information_schema.tables, which showed a table named 'User' in the 'analytics' schema. Maybe the actual table name is 'User' instead of 'students' or 'student'. Let me try querying that.\\n\\nSo I should adjust the SQL query to select from the 'User' table. Let me try that. If that works, then the problem was the table name. If not, maybe there's another issue. Let's execute the query again with the correct table name.\\n\"), native_finish_reason='stop')], created=1750556989, model='qwen/qwen3-32b', object='chat.completion', service_tier=None, system_fingerprint=None, usage=CompletionUsage(completion_tokens=352, prompt_tokens=976, total_tokens=1328, completion_tokens_details=None, prompt_tokens_details=None), provider='DeepInfra')\n",
            "Tool arguments:\n",
            "{'code': 'query = \"SELECT AVG(score) AS average, STDDEV(score) AS std_dev FROM analytics.User\";\\nresult = DB_CONN.execute(query).fetchone();\\nprint(f\\'Average: {result[0]:.2f}, Standard Deviation: {result[1]:.2f}\\')'}\n",
            "\n",
            "Tool Result:\n",
            "Code executed successfully:\n",
            "Output:\n",
            "Average: 56.80, Standard Deviation: 27.69\n",
            "\n",
            "----- Iteration: 6 -----\n",
            "ChatCompletion(id='gen-1750556995-DSV0aeYtm9gxCDBrhsTR', choices=[Choice(finish_reason='stop', index=0, logprobs=None, message=ChatCompletionMessage(content=\"The average and standard deviation of students' scores are:\\n\\n- **Average**: 56.80  \\n- **Standard Deviation**: 27.69  \\n\\nThe data was retrieved from the table `analytics.User` in the DuckDB database. Let me know if you need further analysis!\", refusal=None, role='assistant', annotations=None, audio=None, function_call=None, tool_calls=None, reasoning='Okay, let\\'s see. The user asked for the average and standard deviation of students\\' scores.\\n\\nFirst, I tried using a SQL query with \"students\" table, but got an error that the table doesn\\'t exist. Maybe the table name is different.\\n\\nThen I tried accessing the \\'score\\' column directly using DB_CONN[\\'score\\'], but that gave a subscript error. So the data isn\\'t in a pandas DataFrame but in a DuckDB database.\\n\\nNext, I checked the tables in the database using information_schema.tables and found a table in the \\'analytics\\' schema named \\'User\\'.\\n\\nSo I adjusted the query to SELECT from analytics.User, and that worked. The average is 56.80 and standard deviation 27.69.\\n\\nI need to present these results clearly. The user probably wants a concise answer with the numbers formatted to two decimal places. Make sure to mention the table structure in case they need more details.\\n'), native_finish_reason='stop')], created=1750556995, model='qwen/qwen3-32b', object='chat.completion', service_tier=None, system_fingerprint=None, usage=CompletionUsage(completion_tokens=256, prompt_tokens=1097, total_tokens=1353, completion_tokens_details=None, prompt_tokens_details=None), provider='DeepInfra')\n"
          ]
        },
        {
          "output_type": "execute_result",
          "data": {
            "text/plain": [
              "\"The average and standard deviation of students' scores are:\\n\\n- **Average**: 56.80  \\n- **Standard Deviation**: 27.69  \\n\\nThe data was retrieved from the table `analytics.User` in the DuckDB database. Let me know if you need further analysis!\""
            ],
            "application/vnd.google.colaboratory.intrinsic+json": {
              "type": "string"
            }
          },
          "metadata": {},
          "execution_count": 45
        }
      ]
    },
    {
      "cell_type": "code",
      "source": [
        "chatbot = DataAnalysisAgent(model = \"google/gemini-2.5-flash-lite\")\n",
        "chatbot.chat(\"What is the average and standard deviation of students' score?\")"
      ],
      "metadata": {
        "id": "tCcDLYcMUmTp"
      },
      "execution_count": null,
      "outputs": []
    },
    {
      "cell_type": "code",
      "source": [
        "chatbot = DataAnalysisAgent(model = \"anthropic/claude-sonnet-4\")\n",
        "chatbot.chat(\"What is the average and standard deviation of students' score?\")"
      ],
      "metadata": {
        "colab": {
          "base_uri": "https://localhost:8080/",
          "height": 1000
        },
        "id": "282UNcn4VbpC",
        "outputId": "c4f64744-e700-4968-c45c-b403df78ab09"
      },
      "execution_count": null,
      "outputs": [
        {
          "output_type": "stream",
          "name": "stdout",
          "text": [
            "----- Iteration: 0 -----\n",
            "ChatCompletion(id='gen-1750557130-t7NfE4i8XoUhioAnX1xa', choices=[Choice(finish_reason='tool_calls', index=0, logprobs=None, message=ChatCompletionMessage(content=\"I'll help you find the average and standard deviation of students' scores from the database. Let me first explore the data structure and then calculate these statistics.\", refusal=None, role='assistant', annotations=None, audio=None, function_call=None, tool_calls=[ChatCompletionMessageToolCall(id='toolu_vrtx_01WZxx8LKvSjfvEFUGgkWEew', function=Function(arguments='{\"code\": \"import duckdb\\\\nimport pandas as pd\\\\n\\\\n# First, let\\'s see what tables are available in the database\\\\ntables = DB_CONN.execute(\\\\\"SHOW TABLES\\\\\").fetchall()\\\\nprint(\\\\\"Available tables:\\\\\")\\\\nprint(tables)\"}', name='run_pandas_code'), type='function', index=0)], reasoning=None), native_finish_reason='tool_calls')], created=1750557130, model='anthropic/claude-sonnet-4', object='chat.completion', service_tier=None, system_fingerprint=None, usage=CompletionUsage(completion_tokens=140, prompt_tokens=597, total_tokens=737, completion_tokens_details=None, prompt_tokens_details=None), provider='Google')\n",
            "Tool arguments:\n",
            "{'code': 'import duckdb\\nimport pandas as pd\\n\\n# First, let\\'s see what tables are available in the database\\ntables = DB_CONN.execute(\"SHOW TABLES\").fetchall()\\nprint(\"Available tables:\")\\nprint(tables)'}\n",
            "\n",
            "Tool Result:\n",
            "Code executed successfully:\n",
            "Output:\n",
            "Available tables:\n",
            "[('User',)]\n",
            "\n",
            "----- Iteration: 1 -----\n",
            "ChatCompletion(id='gen-1750557133-hzrcqkRtWQYsxiYFqE0H', choices=[Choice(finish_reason='tool_calls', index=0, logprobs=None, message=ChatCompletionMessage(content='', refusal=None, role='assistant', annotations=None, audio=None, function_call=None, tool_calls=[ChatCompletionMessageToolCall(id='toolu_vrtx_018zKZNUdpq6iNn1uiWjdpsK', function=Function(arguments='{\"code\": \"# Let\\'s examine the structure of the User table\\\\ntable_info = DB_CONN.execute(\\\\\"DESCRIBE User\\\\\").fetchall()\\\\nprint(\\\\\"Table structure:\\\\\")\\\\nfor col in table_info:\\\\n    print(col)\"}', name='run_pandas_code'), type='function', index=0)], reasoning=None), native_finish_reason='tool_calls')], created=1750557133, model='anthropic/claude-sonnet-4', object='chat.completion', service_tier=None, system_fingerprint=None, usage=CompletionUsage(completion_tokens=102, prompt_tokens=764, total_tokens=866, completion_tokens_details=None, prompt_tokens_details=None), provider='Google')\n",
            "Tool arguments:\n",
            "{'code': '# Let\\'s examine the structure of the User table\\ntable_info = DB_CONN.execute(\"DESCRIBE User\").fetchall()\\nprint(\"Table structure:\")\\nfor col in table_info:\\n    print(col)'}\n",
            "\n",
            "Tool Result:\n",
            "Code executed successfully:\n",
            "Output:\n",
            "Table structure:\n",
            "('id', 'UUID', 'YES', None, None, None)\n",
            "('name', 'VARCHAR', 'YES', None, None, None)\n",
            "('age', 'BIGINT', 'YES', None, None, None)\n",
            "('city', 'VARCHAR', 'YES', None, None, None)\n",
            "('score', 'DOUBLE', 'YES', None, None, None)\n",
            "('is_active', 'BOOLEAN', 'YES', None, None, None)\n",
            "('status', 'VARCHAR', 'YES', None, None, None)\n",
            "('created_at', 'DATE', 'YES', None, None, None)\n",
            "\n",
            "----- Iteration: 2 -----\n",
            "ChatCompletion(id='gen-1750557135-xZ5jHXcKnyaEy2em3TSk', choices=[Choice(finish_reason='tool_calls', index=0, logprobs=None, message=ChatCompletionMessage(content='', refusal=None, role='assistant', annotations=None, audio=None, function_call=None, tool_calls=[ChatCompletionMessageToolCall(id='toolu_vrtx_011wuDPEHRkBnHKTEBwM9cfm', function=Function(arguments='{\"code\": \"# Now let\\'s load the data and calculate the average and standard deviation of scores\\\\nquery = \\\\\"SELECT * FROM User\\\\\"\\\\ndf = pd.read_sql(query, DB_CONN)\\\\n\\\\nprint(f\\\\\"Number of students: {len(df)}\\\\\")\\\\nprint(\\\\\"\\\\\\\\nFirst few rows:\\\\\")\\\\nprint(df.head())\\\\n\\\\n# Calculate average and standard deviation of scores\\\\navg_score = df[\\'score\\'].mean()\\\\nstd_score = df[\\'score\\'].std()\\\\n\\\\nprint(f\\\\\"\\\\\\\\nScore Statistics:\\\\\")\\\\nprint(f\\\\\"Average score: {avg_score:.2f}\\\\\")\\\\nprint(f\\\\\"Standard deviation: {std_score:.2f}\\\\\")\\\\n\\\\n# Let\\'s also see some additional statistics\\\\nprint(f\\\\\"\\\\\\\\nAdditional Score Statistics:\\\\\")\\\\nprint(f\\\\\"Minimum score: {df[\\'score\\'].min():.2f}\\\\\")\\\\nprint(f\\\\\"Maximum score: {df[\\'score\\'].max():.2f}\\\\\")\\\\nprint(f\\\\\"Median score: {df[\\'score\\'].median():.2f}\\\\\")\\\\nprint(f\\\\\"Count of non-null scores: {df[\\'score\\'].count()}\\\\\")\"}', name='run_pandas_code'), type='function', index=0)], reasoning=None), native_finish_reason='tool_calls')], created=1750557135, model='anthropic/claude-sonnet-4', object='chat.completion', service_tier=None, system_fingerprint=None, usage=CompletionUsage(completion_tokens=297, prompt_tokens=1042, total_tokens=1339, completion_tokens_details=None, prompt_tokens_details=None), provider='Google')\n",
            "Tool arguments:\n",
            "{'code': '# Now let\\'s load the data and calculate the average and standard deviation of scores\\nquery = \"SELECT * FROM User\"\\ndf = pd.read_sql(query, DB_CONN)\\n\\nprint(f\"Number of students: {len(df)}\")\\nprint(\"\\\\nFirst few rows:\")\\nprint(df.head())\\n\\n# Calculate average and standard deviation of scores\\navg_score = df[\\'score\\'].mean()\\nstd_score = df[\\'score\\'].std()\\n\\nprint(f\"\\\\nScore Statistics:\")\\nprint(f\"Average score: {avg_score:.2f}\")\\nprint(f\"Standard deviation: {std_score:.2f}\")\\n\\n# Let\\'s also see some additional statistics\\nprint(f\"\\\\nAdditional Score Statistics:\")\\nprint(f\"Minimum score: {df[\\'score\\'].min():.2f}\")\\nprint(f\"Maximum score: {df[\\'score\\'].max():.2f}\")\\nprint(f\"Median score: {df[\\'score\\'].median():.2f}\")\\nprint(f\"Count of non-null scores: {df[\\'score\\'].count()}\")'}\n",
            "\n",
            "Tool Result:\n",
            "Code executed successfully:\n",
            "Output:\n",
            "Number of students: 30\n",
            "\n",
            "First few rows:\n",
            "                                     id     name  age       city  score  \\\n",
            "0  94efbf8b-4c95-4feb-9eda-900192276be7    Fiona   33  Singapore  95.48   \n",
            "1  efcbb1f5-ffaf-4b40-a44b-cd67f6508eec    Alice   46      Paris  37.81   \n",
            "2  9c2378d3-f46d-4f19-8e9e-b9053e6e57ea  Charlie   54      Tokyo  86.24   \n",
            "3  12a6dc88-1bd5-4a20-b729-e7a70918a60b  Charlie   31      Tokyo  61.24   \n",
            "4  dc1cf50e-c3c2-4843-8137-131834f7b00a     Jane   26     London  22.61   \n",
            "\n",
            "   is_active    status  created_at  \n",
            "0       True    active  2024-04-30  \n",
            "1      False    active  2023-10-31  \n",
            "2      False  archived  2023-11-15  \n",
            "3       True   pending  2024-03-26  \n",
            "4       True  inactive  2024-11-04  \n",
            "\n",
            "Score Statistics:\n",
            "Average score: 56.80\n",
            "Standard deviation: 27.69\n",
            "\n",
            "Additional Score Statistics:\n",
            "Minimum score: 3.10\n",
            "Maximum score: 96.18\n",
            "Median score: 55.83\n",
            "Count of non-null scores: 30\n",
            "\n",
            "----- Iteration: 3 -----\n",
            "ChatCompletion(id='gen-1750557141-hXpFHR1t91UVn3T5b2vT', choices=[Choice(finish_reason='stop', index=0, logprobs=None, message=ChatCompletionMessage(content=\"## Students' Score Statistics\\n\\nBased on the analysis of the 30 students' performance data, here are the key statistics for their scores:\\n\\n### Primary Results:\\n- **Average Score**: **56.80**\\n- **Standard Deviation**: **27.69**\\n\\n### Additional Insights:\\n- **Number of Students**: 30\\n- **Minimum Score**: 3.10\\n- **Maximum Score**: 96.18\\n- **Median Score**: 55.83\\n\\nThe data shows that students' scores have a relatively wide distribution with a standard deviation of about 28 points, indicating considerable variation in performance across the group. The average score of approximately 57 points suggests moderate overall performance, with scores ranging from very low (3.10) to very high (96.18).\", refusal=None, role='assistant', annotations=None, audio=None, function_call=None, tool_calls=None, reasoning=None), native_finish_reason='stop')], created=1750557141, model='anthropic/claude-sonnet-4', object='chat.completion', service_tier=None, system_fingerprint=None, usage=CompletionUsage(completion_tokens=173, prompt_tokens=1726, total_tokens=1899, completion_tokens_details=None, prompt_tokens_details=None), provider='Google')\n"
          ]
        },
        {
          "output_type": "execute_result",
          "data": {
            "text/plain": [
              "\"## Students' Score Statistics\\n\\nBased on the analysis of the 30 students' performance data, here are the key statistics for their scores:\\n\\n### Primary Results:\\n- **Average Score**: **56.80**\\n- **Standard Deviation**: **27.69**\\n\\n### Additional Insights:\\n- **Number of Students**: 30\\n- **Minimum Score**: 3.10\\n- **Maximum Score**: 96.18\\n- **Median Score**: 55.83\\n\\nThe data shows that students' scores have a relatively wide distribution with a standard deviation of about 28 points, indicating considerable variation in performance across the group. The average score of approximately 57 points suggests moderate overall performance, with scores ranging from very low (3.10) to very high (96.18).\""
            ],
            "application/vnd.google.colaboratory.intrinsic+json": {
              "type": "string"
            }
          },
          "metadata": {},
          "execution_count": 46
        }
      ]
    }
  ]
}