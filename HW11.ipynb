{
  "nbformat": 4,
  "nbformat_minor": 0,
  "metadata": {
    "colab": {
      "provenance": [],
      "authorship_tag": "ABX9TyODps6hlB0fm1xe85X++wl7",
      "include_colab_link": true
    },
    "kernelspec": {
      "name": "python3",
      "display_name": "Python 3"
    },
    "language_info": {
      "name": "python"
    }
  },
  "cells": [
    {
      "cell_type": "markdown",
      "metadata": {
        "id": "view-in-github",
        "colab_type": "text"
      },
      "source": [
        "<a href=\"https://colab.research.google.com/github/yongsa-nut/SF323_CN408_AIEngineer/blob/main/HW11.ipynb\" target=\"_parent\"><img src=\"https://colab.research.google.com/assets/colab-badge.svg\" alt=\"Open In Colab\"/></a>"
      ]
    },
    {
      "cell_type": "markdown",
      "source": [
        "# HW11: Recipe Chatbot Evals (5 points)\n",
        "\n",
        "Adapted from https://github.com/ai-evals-course/recipe-chatbot/tree/main"
      ],
      "metadata": {
        "id": "MF9Pb54GLXSM"
      }
    },
    {
      "cell_type": "markdown",
      "source": [
        "## Part 1. Write a System Prompt for Recipe Chatbot (1 point)\n",
        "\n",
        "1.  **Write an Effective System Prompt**:\n",
        "  *   **Define the Bot's Role & Objective**: Clearly state what the bot is. (e.g., \"You are a friendly and creative culinary assistant specializing in suggesting easy-to-follow recipes.\")\n",
        "  *   **Instructions & Response Rules**: Be specific.\n",
        "      *   What should it *always* do? (e.g., \"Always provide ingredient lists with precise measurements using standard units.\", \"Always include clear, step-by-step instructions.\")\n",
        "      *   What should it *never* do? (e.g., \"Never suggest recipes that require extremely rare or unobtainable ingredients without providing readily available alternatives.\", \"Never use offensive or derogatory language.\")\n",
        "      *   Safety Clause: (e.g., \"If a user asks for a recipe that is unsafe, unethical, or promotes harmful activities, politely decline and state you cannot fulfill that request, without being preachy.\")\n",
        "  *   **LLM Agency – How Much Freedom?**:\n",
        "      *   Define its creativity level. (e.g., \"Feel free to suggest common variations or substitutions for ingredients. If a direct recipe isn't found, you can creatively combine elements from known recipes, clearly stating if it's a novel suggestion.\")\n",
        "      *   Should it stick strictly to known recipes or invent new ones if appropriate? (Be explicit).\n",
        "  *   **Output Formatting (Crucial for a good user experience)**:\n",
        "      *   \"Structure all your recipe responses clearly using Markdown for formatting.\"\n",
        "      *   \"Begin every recipe response with the recipe name as a Level 2 Heading (e.g., `## Amazing Blueberry Muffins`).\"\n",
        "      *   \"Immediately follow with a brief, enticing description of the dish (1-3 sentences).\"\n",
        "      *   \"Next, include a section titled `### Ingredients`. List all ingredients using a Markdown unordered list (bullet points).\"\n",
        "      *   \"Following ingredients, include a section titled `### Instructions`. Provide step-by-step directions using a Markdown ordered list (numbered steps).\"\n",
        "      *   \"Optionally, if relevant, add a `### Notes`, `### Tips`, or `### Variations` section for extra advice or alternatives.\"\n",
        "  *   **Example of desired Markdown structure for a recipe response**:\n",
        "\n",
        "        ```markdown\n",
        "        ## Golden Pan-Fried Salmon\n",
        "\n",
        "        A quick and delicious way to prepare salmon with a crispy skin and moist interior, perfect for a weeknight dinner.\n",
        "\n",
        "        ### Ingredients\n",
        "        * 2 salmon fillets (approx. 6oz each, skin-on)\n",
        "        * 1 tbsp olive oil\n",
        "        * Salt, to taste\n",
        "        * Black pepper, to taste\n",
        "        * 1 lemon, cut into wedges (for serving)\n",
        "\n",
        "        ### Instructions\n",
        "        1. Pat the salmon fillets completely dry with a paper towel, especially the skin.\n",
        "        2. Season both sides of the salmon with salt and pepper.\n",
        "        3. Heat olive oil in a non-stick skillet over medium-high heat until shimmering.\n",
        "        4. Place salmon fillets skin-side down in the hot pan.\n",
        "        5. Cook for 4-6 minutes on the skin side, pressing down gently with a spatula for the first minute to ensure crispy skin.\n",
        "        6. Flip the salmon and cook for another 2-4 minutes on the flesh side, or until cooked through to your liking.\n",
        "        7. Serve immediately with lemon wedges.\n",
        "\n",
        "        ### Tips\n",
        "        * For extra flavor, add a clove of garlic (smashed) and a sprig of rosemary to the pan while cooking.\n",
        "        * Ensure the pan is hot before adding the salmon for the best sear.\n",
        "        ```"
      ],
      "metadata": {
        "id": "j0aZ3aslM4jg"
      }
    },
    {
      "cell_type": "code",
      "source": [],
      "metadata": {
        "id": "nRaUTkNEM5n9"
      },
      "execution_count": null,
      "outputs": []
    },
    {
      "cell_type": "markdown",
      "source": [
        "## Part 2. Define Dimensions & Generate Initial Queries (2 points)\n",
        "\n",
        "1. **Identify Key Dimensions**: (i.e., key aspects or variables of user inputs you'll use to generate diverse test queries, such as `cuisine_type`, `dietary_restriction`, or `meal_type` for your recipe bot)\n",
        "\n",
        "  - Identify 3-4 key dimensions relevant to your Recipe Bot's functionality and potential user inputs.\n",
        "  - For each dimension, list at least 3 example values.\n",
        "\n",
        "2. **Generate Unique Combinations (Tuples)**:\n",
        "\n",
        "  - Write a prompt for a Large Language Model (LLM) to generate 15-20 unique combinations (tuples) of these dimension values.\n",
        "\n",
        "3. **Generate Natural Language User Queries**:\n",
        "\n",
        "  - Write a second prompt for an LLM to take 5-7 of the generated tuples and create a natural language user query for your Recipe Bot for each selected tuple.\n",
        "  \n",
        "  - Review these generated queries to ensure they are realistic and representative of how a user might interact with your bot."
      ],
      "metadata": {
        "id": "vWN6OhzaL3tG"
      }
    },
    {
      "cell_type": "code",
      "execution_count": null,
      "metadata": {
        "id": "WWnXnmo2LR7G"
      },
      "outputs": [],
      "source": []
    },
    {
      "cell_type": "markdown",
      "source": [
        "## Part 3. Initial Error Analysis (2 points)\n",
        "\n",
        "1. **Run Bot on Synthetic Queries**:\n",
        "\n",
        "  - Execute your Recipe Bot using the synthetic queries generated in Part 1.\n",
        "  -  Record the full interaction traces for each query.\n",
        "\n",
        "\n",
        "2. **Open Coding**: (an initial analysis step where you review interaction traces, assigning descriptive labels/notes to identify patterns and potential errors without preconceived categories, as detailed in Sec 3.2 of the provided chapter)\n",
        "\n",
        "  - Review the recorded traces.\n",
        "  - Perform open coding to identify initial themes, patterns, and potential errors or areas for improvement in the bot's responses.\n",
        "\n",
        "3. **Axial Coding & Taxonomy Definition**: (a follow-up step where you group the initial open codes into broader, structured categories or 'failure modes' to build an error taxonomy, as described in Sec 3.3 of the provided chapter)\n",
        "\n",
        "  - Group the observations from open coding into broader categories or failure modes.\n",
        "  - For each identified failure mode, create a clear and concise taxonomy. This should include:\n",
        "     - A clear Title for the failure mode.\n",
        "     - A concise one-sentence Definition explaining the failure mode.\n",
        "     - 1-2 Illustrative Examples taken directly from your bot's behavior during the tests. If a failure mode is plausible but not directly observed, you can provide a well-reasoned hypothetical example."
      ],
      "metadata": {
        "id": "v3KKEf2WMfv4"
      }
    },
    {
      "cell_type": "code",
      "source": [],
      "metadata": {
        "id": "U8jaUF8wM4Et"
      },
      "execution_count": null,
      "outputs": []
    }
  ]
}