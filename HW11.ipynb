{
  "nbformat": 4,
  "nbformat_minor": 0,
  "metadata": {
    "colab": {
      "provenance": [],
      "authorship_tag": "ABX9TyMS2iGWxYes0/o9BFCbUNQZ",
      "include_colab_link": true
    },
    "kernelspec": {
      "name": "python3",
      "display_name": "Python 3"
    },
    "language_info": {
      "name": "python"
    }
  },
  "cells": [
    {
      "cell_type": "markdown",
      "metadata": {
        "id": "view-in-github",
        "colab_type": "text"
      },
      "source": [
        "<a href=\"https://colab.research.google.com/github/yongsa-nut/SF323_CN408_AIEngineer/blob/main/HW11.ipynb\" target=\"_parent\"><img src=\"https://colab.research.google.com/assets/colab-badge.svg\" alt=\"Open In Colab\"/></a>"
      ]
    },
    {
      "cell_type": "markdown",
      "source": [
        "# HW11: Recipe Chatbot Evals (5 points)\n",
        "\n",
        "Adapted from https://github.com/ai-evals-course/recipe-chatbot/tree/main"
      ],
      "metadata": {
        "id": "MF9Pb54GLXSM"
      }
    },
    {
      "cell_type": "markdown",
      "source": [
        "## Part 1. Write a System Prompt for Thai Recipe Chatbot (0.5 points)\n",
        "\n",
        "### **Important Note**: Bot ต้องตอบเป็นภาษาไทย\n",
        "\n",
        "---\n",
        "  *   **Define the Bot's Role & Objective**: บอกให้ชัดเจนว่า Bot ของคุณคืออะไร (e.g., \"You are a friendly and creative culinary assistant specializing in suggesting easy-to-follow recipes.\")\n",
        "  *   **Instructions & Response Rules**: Be specific.\n",
        "      *   อะไรที่ Bot ต้องทำเสมอ (e.g., \"Always provide ingredient lists with precise measurements using standard units.\", \"Always include clear, step-by-step instructions.\")\n",
        "      *   อะไรที่ Bot ไม่ควรทำ (e.g., \"Never suggest recipes that require extremely rare or unobtainable ingredients without providing readily available alternatives.\", \"Never use offensive or derogatory language.\")\n",
        "  *   **LLM Agency - How Much Freedom?**:\n",
        "      *   บอกว่าควรให้มันมีความคิดสร้างสรรค์หรือคิดเองประาณไหน (e.g., \"Feel free to suggest common variations or substitutions for ingredients. If a direct recipe isn't found, you can creatively combine elements from known recipes, clearly stating if it's a novel suggestion.\")\n",
        "  *   **Output Formatting (Crucial for a good user experience)**:\n",
        "      *   \"Structure all your recipe responses clearly using Markdown for formatting.\"\n",
        "      *   \"Begin every recipe response with the recipe name as a Level 2 Heading (e.g., `## Amazing Blueberry Muffins`).\"\n",
        "      *   \"Immediately follow with a brief, enticing description of the dish (1-3 sentences).\"\n",
        "      *   \"Next, include a section titled `### Ingredients`. List all ingredients using a Markdown unordered list (bullet points).\"\n",
        "      *   \"Following ingredients, include a section titled `### Instructions`. Provide step-by-step directions using a Markdown ordered list (numbered steps).\"\n",
        "      *   \"Optionally, if relevant, add a `### Notes`, `### Tips`, or `### Variations` section for extra advice or alternatives.\"\n",
        "  *   **ตัวอย่างของ Markdown structure for a recipe response** (ของคุณต้องเป็นภาษาไทย):\n",
        "\n",
        "        ```markdown\n",
        "        ## Golden Pan-Fried Salmon\n",
        "\n",
        "        A quick and delicious way to prepare salmon with a crispy skin and moist interior, perfect for a weeknight dinner.\n",
        "\n",
        "        ### Ingredients\n",
        "        * 2 salmon fillets (approx. 6oz each, skin-on)\n",
        "        * 1 tbsp olive oil\n",
        "        * Salt, to taste\n",
        "        * Black pepper, to taste\n",
        "        * 1 lemon, cut into wedges (for serving)\n",
        "\n",
        "        ### Instructions\n",
        "        1. Pat the salmon fillets completely dry with a paper towel, especially the skin.\n",
        "        2. Season both sides of the salmon with salt and pepper.\n",
        "        3. Heat olive oil in a non-stick skillet over medium-high heat until shimmering.\n",
        "        4. Place salmon fillets skin-side down in the hot pan.\n",
        "        5. Cook for 4-6 minutes on the skin side, pressing down gently with a spatula for the first minute to ensure crispy skin.\n",
        "        6. Flip the salmon and cook for another 2-4 minutes on the flesh side, or until cooked through to your liking.\n",
        "        7. Serve immediately with lemon wedges.\n",
        "\n",
        "        ### Tips\n",
        "        * For extra flavor, add a clove of garlic (smashed) and a sprig of rosemary to the pan while cooking.\n",
        "        * Ensure the pan is hot before adding the salmon for the best sear.\n",
        "        ```"
      ],
      "metadata": {
        "id": "j0aZ3aslM4jg"
      }
    },
    {
      "cell_type": "markdown",
      "source": [],
      "metadata": {
        "id": "37A8Uc1kUqPG"
      }
    },
    {
      "cell_type": "code",
      "source": [
        "recipe_bot_prompt = \"\"\"เติมคำตอบของคุณที่นี้\"\"\" # Fill in your answer here"
      ],
      "metadata": {
        "id": "GUbt5w9vUnb6"
      },
      "execution_count": null,
      "outputs": []
    },
    {
      "cell_type": "markdown",
      "source": [
        "## Part 2. Logging with LangFuse (0.5 points)\n",
        "\n",
        "- สำหรับการบ้านนี้เราจะ Log traces ด้วย Langfuse\n",
        "- **Importance**: ทำเสร็จแล้วให้แนบ sceenshot ของ หน้าหลักของ traces ทั้งหมดมาด้วย (ไม่ต้องโชว์แต่ละtrace)"
      ],
      "metadata": {
        "id": "JqqmFNh2Tn5v"
      }
    },
    {
      "cell_type": "code",
      "source": [
        "!pip install langfuse"
      ],
      "metadata": {
        "id": "AT4DfLevTpYF"
      },
      "execution_count": null,
      "outputs": []
    },
    {
      "cell_type": "code",
      "source": [
        "from google.colab import userdata\n",
        "from langfuse.openai import openai\n",
        "from langfuse import observe\n",
        "import os\n",
        "\n",
        "# Get keys for your project from the project settings page: https://cloud.langfuse.com\n",
        "os.environ[\"LANGFUSE_SECRET_KEY\"] = \"sk-lf-...\"   # เติม secret key ของ LangFuse\n",
        "os.environ[\"LANGFUSE_PUBLIC_KEY\"] = \"pk-lf-...\"   # เติม secret key ของ LangFuse\n",
        "os.environ[\"LANGFUSE_BASE_URL\"] = \"https://cloud.langfuse.com\" # 🇪🇺 EU region\n",
        "# os.environ[\"LANGFUSE_BASE_URL\"] = \"https://us.cloud.langfuse.com\" # 🇺🇸 US region\n",
        "\n",
        "# Your openai key\n",
        "os.environ[\"OPENAI_API_KEY\"] = userdata.get('openrouter')  # เติม openrouter key ของคุณ"
      ],
      "metadata": {
        "id": "l6MUeRQiTqwb"
      },
      "execution_count": null,
      "outputs": []
    },
    {
      "cell_type": "code",
      "source": [
        "@observe()\n",
        "def generate(system_prompt, query):\n",
        "    client = openai.OpenAI(\n",
        "        base_url=\"https://openrouter.ai/api/v1\",\n",
        "    )\n",
        "    completion = client.chat.completions.create(\n",
        "        name=\"hw11\",\n",
        "        model=\"google/gemini-2.5-flash-preview-09-2025\",\n",
        "        messages=[\n",
        "            {\"role\": \"system\", \"content\": system_prompt},\n",
        "            {\"role\": \"user\", \"content\": query}],\n",
        "        temperature=0,\n",
        "        metadata={\"langfuse_session_id\": \"session_1\"}\n",
        "    )\n",
        "    return completion.choices[0].message.content"
      ],
      "metadata": {
        "id": "nRaUTkNEM5n9"
      },
      "execution_count": null,
      "outputs": []
    },
    {
      "cell_type": "code",
      "source": [
        "# Testing your system prompt\n",
        "generate(recipe_bot_prompt, 'อยากได้วิธีทำกระเพราะไก่')"
      ],
      "metadata": {
        "id": "SVDTeOOGTV8m"
      },
      "execution_count": null,
      "outputs": []
    },
    {
      "cell_type": "markdown",
      "source": [
        "## Part 3. Define Dimensions & Generate Initial Queries (2 points)\n",
        "\n",
        "1. **Identify Key Dimensions**: (i.e., key aspects or variables of user inputs you'll use to generate diverse test queries, such as `cuisine_type`, `dietary_restriction`, or `meal_type` for your recipe bot)\n",
        "\n",
        "  - สร้าง 3 key dimensions ที่เกี่ยวข้องกับ your Recipe Bot's functionality และ ข้อมูลนำเข้าจาก user.\n",
        "  - สำหรับแต่ละ dimension ให้สร้าง ตัวอย่างค่าของ dimension นั้นๆ อย่างน้อย สามค่า.\n",
        "\n",
        "2. **Generate Unique Combinations (Tuples)**:\n",
        "\n",
        "  - เขียน prompt สำหรับ LLM เพื่อสร้าง 15 unique combinations (tuples) จาก dimensions ด้านบน (1 tuple ต้องมีสาม dimensions)\n",
        "\n",
        "3. **Generate Natural Language User Queries**:\n",
        "\n",
        "  - เขียน prompt สำหรับ LLM ที่จะรับ 10 tuples (เลือกเอง) เพื่อสร้าง query จริงออกมาใช้ทดสอบ ให้สร้าง 3 queries ต่อ 1 tuple. รวมทั้งหมด 30 อัน\n",
        "  - หลังจากนั้นให้เช็คว่า ที่สร้างออกมานั้น อันนั้นสมจริงและคิดว่าเป็นคำถามที่เป็นไปได้บ้าง และเลือกมาใส่ใน dataset ไว้ทดสอบ\n",
        "  \n",
        "\n",
        "**คำแนะนำ**: ดูตัวอย่างจาก slide ได้"
      ],
      "metadata": {
        "id": "vWN6OhzaL3tG"
      }
    },
    {
      "cell_type": "markdown",
      "source": [
        "**Answer**: ตอบ Key Dimensions พร้อมคำอธิบาย ด้านล่าง\n",
        "\n",
        "1.\n",
        "2.\n",
        "3.\n",
        "\n",
        "\n",
        "\n"
      ],
      "metadata": {
        "id": "KQ8iN7usVsvw"
      }
    },
    {
      "cell_type": "code",
      "execution_count": null,
      "metadata": {
        "id": "WWnXnmo2LR7G"
      },
      "outputs": [],
      "source": [
        "tuple_gen_prompt = \"\"\"เติม prompt ในนี่\"\"\"\n",
        "\n",
        "# เติม code เพื่อ gen tuple ออกมา 15 อันที่ไม่ซ้ำกัน\n",
        "\n",
        "\n",
        "\n",
        "uniques_tuple = ...\n",
        "print(unique_tuple)"
      ]
    },
    {
      "cell_type": "code",
      "source": [
        "query_prompt = \"\"\"เติม prompt ที่นี่\"\"\"\n",
        "\n",
        "\n",
        "queries = ...\n",
        "print(queries)"
      ],
      "metadata": {
        "id": "OXX9ON70WP6Z"
      },
      "execution_count": null,
      "outputs": []
    },
    {
      "cell_type": "code",
      "source": [
        "dataset = []   # นำ query ที่ผ่านการคัดกรองมาใส่"
      ],
      "metadata": {
        "id": "n0Vd935ZeQN0"
      },
      "execution_count": null,
      "outputs": []
    },
    {
      "cell_type": "markdown",
      "source": [
        "ลิสต์ queries ที่ไม่ผ่านด้านล่าง และบอกเหตุผลสั้นๆว่าเพราะอะไร\n",
        "\n",
        "-"
      ],
      "metadata": {
        "id": "ERp2GWhveWPy"
      }
    },
    {
      "cell_type": "markdown",
      "source": [
        "## Part 4. Initial Error Analysis (2 points)\n",
        "\n",
        "1. **Run Bot on Synthetic Queries**:\n",
        "\n",
        "  - รัน Bot ด้วย System Prompt ที่สร้างไว้สำหรับ Recipe Bot ด้วย dataset จากข้อสาม และเก็บ results ทั้งหมดไว้\n",
        "  -  ตรวจสอบ trace ใน LangFuse ได้. สามารถ download มา analyze หรือ annotate บน LangFuse ได้\n",
        "\n",
        "\n",
        "2. **Open Coding**: ในขั้นตอนนี้เราจะมาอ่านและตรวจสอบทุก traces ที่โมเดลเจนมาเพื่อหา patterns หรือ errors โดยที่เรายังไม่จัดหมวดหมู่ของ errors:\n",
        "\n",
        "  - สำหรับแต่ละ traces เขียนว่ามี themes, patterns, and potential errors or areas for improvement อะไรบ้าง\n",
        "  - ทำใส่ใน spreadsheet ได้ ให้ส่ง file นี้ด้วย\n",
        "\n",
        "3. **Axial Coding & Taxonomy Definition**: ในขั้นถัดไปเราจะมาจับกลุ่มของ errors ต่างๆ เป็นกลุ่มย่อยๆ (failure modes) ที่ชัดเจน:\n",
        "\n",
        "  - ในแต่ละกลุ่ม/modeนั้น สร้าง taxonomy ที่ชัดเจนที่ประกอบไปด้วย:\n",
        "     - Title\n",
        "     - คำอธิบายของ failure mode นี้\n",
        "     - ตัวอย่างของ failure mode นี้ 1 - 2 ตัวอย่าง"
      ],
      "metadata": {
        "id": "v3KKEf2WMfv4"
      }
    },
    {
      "cell_type": "markdown",
      "source": [
        "**คำตอบ ของ Open Coding**:\n",
        "\n",
        "--- เติมคำตอบด้านล่าง หรือ ส่งไฟล์ cvs/speedsheet แยกมาต่างหาก ---\n",
        "\n"
      ],
      "metadata": {
        "id": "_r7H4lDCiBw7"
      }
    },
    {
      "cell_type": "markdown",
      "source": [
        "**คำตอบ Axial Coding & Taxonomy Definition**:\n",
        "\n",
        "--- เติมคำตอบด้านล่าง ---"
      ],
      "metadata": {
        "id": "lqKFoQzbh4P7"
      }
    }
  ]
}